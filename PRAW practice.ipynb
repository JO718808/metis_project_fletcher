{
 "cells": [
  {
   "cell_type": "code",
   "execution_count": 1,
   "metadata": {},
   "outputs": [],
   "source": [
    "import pandas as pd\n",
    "import numpy as np"
   ]
  },
  {
   "cell_type": "code",
   "execution_count": 3,
   "metadata": {},
   "outputs": [],
   "source": [
    "#importing reddit scraper tool\n",
    "import praw"
   ]
  },
  {
   "cell_type": "code",
   "execution_count": 10,
   "metadata": {},
   "outputs": [],
   "source": [
    "reddit = praw.Reddit(client_id='GBzE-s-8QdzlBA', client_secret='5PmJiX6idZZwZIh8yQZd_j8JcJU', user_agent='Reddit Scraping Metis')\n"
   ]
  },
  {
   "cell_type": "code",
   "execution_count": 12,
   "metadata": {},
   "outputs": [
    {
     "name": "stdout",
     "output_type": "stream",
     "text": [
      "[General Discussion] Around the Horn - 2/17/19\n",
      "[Rosecrans] Votto, when asked about Adam Wainwright's strike comments, if there is a strike, \"I'll just go backpacking through Europe and find myself\"\n",
      "[Rosenthal] Free-agent Mike Moustakas in agreement with #Brewers on a one-year contract, pending a physical, sources tell The Athletic.\n",
      "[Stark] Mark Reynolds, who just signed with the #Rockies a few days before camp, told a free-agent tale today I’ve heard a lot. Got no offers for weeks. Then was playing golf a couple of weeks ago, got a call from his agent and had 4 teams offering minor league deals on the same day.\n",
      "Practicing my swing while hiking the Colorado Trail in Twin Lakes, Colorado\n",
      "23 different times Jon Heyman said vague things about Harper-to-the-Phillies\n",
      "[Schulman] Solarte used a translator when he talked to us. There was a TV camera on him, and apparently it’s well known among Latin players that if they butcher English on TV, Jose Reyes will post it on Instagram and make merciless fun of them. #sfgiants\n",
      "TIL the first three blown saves at Coors Field all occurred in the same game: Opening Day for the stadium in 1995.\n",
      "Sean Casey shares his arbitration story on MLB Tonight\n",
      "-24 Celsius and they are playing Baseball just outside Edmonton, Alberta today.\n"
     ]
    }
   ],
   "source": [
    "hot_posts = reddit.subreddit('baseball').hot(limit=10)\n",
    "for post in hot_posts:\n",
    "    print(post.title)"
   ]
  },
  {
   "cell_type": "markdown",
   "metadata": {},
   "source": [
    "Importing the actual scraper tool"
   ]
  },
  {
   "cell_type": "code",
   "execution_count": 19,
   "metadata": {},
   "outputs": [],
   "source": [
    "from subredditscraper import SubredditScraper"
   ]
  },
  {
   "cell_type": "code",
   "execution_count": null,
   "metadata": {},
   "outputs": [],
   "source": []
  }
 ],
 "metadata": {
  "kernelspec": {
   "display_name": "Python 3",
   "language": "python",
   "name": "python3"
  },
  "language_info": {
   "codemirror_mode": {
    "name": "ipython",
    "version": 3
   },
   "file_extension": ".py",
   "mimetype": "text/x-python",
   "name": "python",
   "nbconvert_exporter": "python",
   "pygments_lexer": "ipython3",
   "version": "3.6.7"
  }
 },
 "nbformat": 4,
 "nbformat_minor": 2
}
