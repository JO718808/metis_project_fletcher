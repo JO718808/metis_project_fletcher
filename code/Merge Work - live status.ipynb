{
 "cells": [
  {
   "cell_type": "code",
   "execution_count": 1,
   "metadata": {},
   "outputs": [],
   "source": [
    "import pandas as pd\n",
    "import numpy as np\n",
    "import glob, os\n",
    "import datetime\n",
    "import json\n",
    "\n",
    "import pickle\n",
    "\n",
    "pd.set_option('display.max_columns', None)  \n",
    "# pd.set_option('display.max_colwidth', 125)  # or 199"
   ]
  },
  {
   "cell_type": "code",
   "execution_count": 2,
   "metadata": {},
   "outputs": [],
   "source": [
    "import df_combine as dfc"
   ]
  },
  {
   "cell_type": "markdown",
   "metadata": {},
   "source": [
    "\n",
    "~~So for non-live master, order is:\n",
    "\t1. unpickle df\n",
    "\t2. drop dups in that df (subset = 'id')\n",
    "\t3. filter out live\n",
    "\t4. append to the master (this also de-dups on subset id)\n",
    "\t6. repeat untill all the way through files~~\n",
    "\n",
    "SUCCESS. Now to move on to live statuses. \n",
    "\n",
    "Then for live master, order is:\n",
    "\t1. unpickle df\n",
    "    2. filter out non-live records\n",
    "\t3. drop dups in that df (subset = 'id')\n",
    "\t4. append to master\n",
    "\t5. sort master by date\n",
    "\t6. drop dups in master (subset='id', keep='last' so that it keeps the last entry in live (most info))\n",
    "\t7. repeat until all the way through files\n",
    "\t8. Once I have all live records, will need to append all \"final statuses\" as the final target variable\n",
    "\t\t\t--remove any records that don't have this\n",
    "\t9. Then I just need to look at my value counts by category, and narrow my focus on category\n",
    "\n",
    "\tAfter that, it's NLP time"
   ]
  },
  {
   "cell_type": "code",
   "execution_count": null,
   "metadata": {},
   "outputs": [],
   "source": [
    "df_feb2019 = dfc.unpkl('feb_2019_cleaned')\n",
    "df_feb2019.shape"
   ]
  },
  {
   "cell_type": "code",
   "execution_count": null,
   "metadata": {},
   "outputs": [],
   "source": [
    "df_feb2019_live = dfc.filter_out_nonlive(df_feb2019)\n",
    "df_feb2019_live.shape"
   ]
  },
  {
   "cell_type": "code",
   "execution_count": null,
   "metadata": {},
   "outputs": [],
   "source": [
    "df_feb2019_live = df_feb2019_live.drop_duplicates(subset='id')\n",
    "df_feb2019_live.shape"
   ]
  },
  {
   "cell_type": "code",
   "execution_count": null,
   "metadata": {},
   "outputs": [],
   "source": [
    "df_live_master = df_feb2019_live.copy()"
   ]
  },
  {
   "cell_type": "markdown",
   "metadata": {},
   "source": [
    "Now I will run the function once for each dataset. At the end, I will have all projects with final status in one dataframe."
   ]
  },
  {
   "cell_type": "code",
   "execution_count": null,
   "metadata": {},
   "outputs": [],
   "source": [
    "df_live_master = dfc.append_live_from_filename('jan_2019_cleaned', df_live_master)\n",
    "df_live_master.shape"
   ]
  },
  {
   "cell_type": "code",
   "execution_count": null,
   "metadata": {},
   "outputs": [],
   "source": [
    "df_live_master = dfc.append_live_from_filename('dec_2018_cleaned', df_live_master)\n",
    "df_live_master.shape"
   ]
  },
  {
   "cell_type": "code",
   "execution_count": null,
   "metadata": {},
   "outputs": [],
   "source": [
    "df_live_master = dfc.append_live_from_filename('nov_2018_cleaned', df_live_master)\n",
    "df_live_master.shape"
   ]
  },
  {
   "cell_type": "code",
   "execution_count": null,
   "metadata": {},
   "outputs": [],
   "source": [
    "df_live_master = dfc.append_live_from_filename('oct_2018_cleaned', df_live_master)\n",
    "df_live_master.shape"
   ]
  },
  {
   "cell_type": "code",
   "execution_count": null,
   "metadata": {},
   "outputs": [],
   "source": [
    "df_live_master = dfc.append_live_from_filename('sep_2018_cleaned', df_live_master)\n",
    "df_live_master.shape"
   ]
  },
  {
   "cell_type": "code",
   "execution_count": null,
   "metadata": {},
   "outputs": [],
   "source": [
    "df_live_master = dfc.append_live_from_filename('aug_2018_cleaned', df_live_master)\n",
    "df_live_master.shape"
   ]
  },
  {
   "cell_type": "code",
   "execution_count": null,
   "metadata": {},
   "outputs": [],
   "source": [
    "df_live_master = dfc.append_live_from_filename('jul_2018_cleaned', df_live_master)\n",
    "df_live_master.shape"
   ]
  },
  {
   "cell_type": "code",
   "execution_count": null,
   "metadata": {},
   "outputs": [],
   "source": [
    "df_live_master = dfc.append_live_from_filename('jun_2018_cleaned', df_live_master)\n",
    "df_live_master.shape"
   ]
  },
  {
   "cell_type": "code",
   "execution_count": null,
   "metadata": {},
   "outputs": [],
   "source": [
    "df_live_master = dfc.append_live_from_filename('may_2018_cleaned', df_live_master)\n",
    "df_live_master.shape"
   ]
  },
  {
   "cell_type": "code",
   "execution_count": null,
   "metadata": {},
   "outputs": [],
   "source": [
    "df_live_master = dfc.append_live_from_filename('apr_2018_cleaned', df_live_master)\n",
    "df_live_master.shape"
   ]
  },
  {
   "cell_type": "code",
   "execution_count": null,
   "metadata": {},
   "outputs": [],
   "source": [
    "df_live_master = dfc.append_live_from_filename('mar_2018_cleaned', df_live_master)\n",
    "df_live_master.shape"
   ]
  },
  {
   "cell_type": "code",
   "execution_count": null,
   "metadata": {},
   "outputs": [],
   "source": [
    "df_live_master = dfc.append_live_from_filename('feb_2018_cleaned', df_live_master)\n",
    "df_live_master.shape"
   ]
  },
  {
   "cell_type": "code",
   "execution_count": null,
   "metadata": {},
   "outputs": [],
   "source": [
    "df_live_master = dfc.append_live_from_filename('jan_2018_cleaned', df_live_master)\n",
    "df_live_master.shape"
   ]
  },
  {
   "cell_type": "code",
   "execution_count": null,
   "metadata": {},
   "outputs": [],
   "source": [
    "df_live_master['category_main'].value_counts()"
   ]
  },
  {
   "cell_type": "code",
   "execution_count": null,
   "metadata": {},
   "outputs": [],
   "source": [
    "list(df_live_master.columns)"
   ]
  },
  {
   "cell_type": "code",
   "execution_count": null,
   "metadata": {},
   "outputs": [],
   "source": [
    "# df_live_master = df_live_master.drop(columns=['source_url', 'creator_chosen_currency',\n",
    "#        'creator_is_registered', 'creator_urls', 'profile_background_color',\n",
    "#        'profile_background_image_attributes',\n",
    "#        'profile_background_image_opacity', 'profile_blurb',\n",
    "#        'profile_feature_image_attributes', 'profile_link_text_color',\n",
    "#        'profile_link_url', 'profile_name',\n",
    "#        'profile_should_show_feature_image_section',\n",
    "#        'profile_show_feature_image', 'profile_state_changed_at'])"
   ]
  },
  {
   "cell_type": "code",
   "execution_count": null,
   "metadata": {},
   "outputs": [],
   "source": [
    "df_live_master.shape"
   ]
  },
  {
   "cell_type": "code",
   "execution_count": null,
   "metadata": {},
   "outputs": [],
   "source": [
    "with open('/Users/robertpagano/metis_data/project_4/interim/all_live_cleaned.pickle', 'wb') as to_write:\n",
    "    pickle.dump(df_live_master, to_write)"
   ]
  },
  {
   "cell_type": "code",
   "execution_count": 3,
   "metadata": {},
   "outputs": [],
   "source": [
    "with open('/Users/robertpagano/metis_data/project_4/interim/all_live_cleaned.pickle', 'rb') as f:\n",
    "    df_live_master = pickle.load(f)"
   ]
  },
  {
   "cell_type": "code",
   "execution_count": null,
   "metadata": {},
   "outputs": [],
   "source": [
    "df_live_master.to_csv('/Users/robertpagano/metis_data/project_4/interim/all_live_cleaned.csv')"
   ]
  },
  {
   "cell_type": "code",
   "execution_count": 4,
   "metadata": {},
   "outputs": [
    {
     "data": {
      "text/plain": [
       "(33997, 38)"
      ]
     },
     "execution_count": 4,
     "metadata": {},
     "output_type": "execute_result"
    }
   ],
   "source": [
    "df_live_master.shape"
   ]
  },
  {
   "cell_type": "code",
   "execution_count": 5,
   "metadata": {},
   "outputs": [
    {
     "name": "stdout",
     "output_type": "stream",
     "text": [
      "test4\n"
     ]
    },
    {
     "data": {
      "text/plain": [
       "(36724, 38)"
      ]
     },
     "execution_count": 5,
     "metadata": {},
     "output_type": "execute_result"
    }
   ],
   "source": [
    "df_live_master = dfc.append_live_from_filename('dec_2017_cleaned', df_live_master)\n",
    "df_live_master.shape"
   ]
  },
  {
   "cell_type": "code",
   "execution_count": 6,
   "metadata": {},
   "outputs": [
    {
     "name": "stdout",
     "output_type": "stream",
     "text": [
      "test4\n"
     ]
    },
    {
     "data": {
      "text/plain": [
       "(39494, 38)"
      ]
     },
     "execution_count": 6,
     "metadata": {},
     "output_type": "execute_result"
    }
   ],
   "source": [
    "df_live_master = dfc.append_live_from_filename('nov_2017_cleaned', df_live_master)\n",
    "df_live_master.shape"
   ]
  },
  {
   "cell_type": "code",
   "execution_count": 7,
   "metadata": {},
   "outputs": [
    {
     "name": "stdout",
     "output_type": "stream",
     "text": [
      "test4\n"
     ]
    },
    {
     "data": {
      "text/plain": [
       "(42054, 38)"
      ]
     },
     "execution_count": 7,
     "metadata": {},
     "output_type": "execute_result"
    }
   ],
   "source": [
    "df_live_master = dfc.append_live_from_filename('oct_2017_cleaned', df_live_master)\n",
    "df_live_master.shape"
   ]
  },
  {
   "cell_type": "code",
   "execution_count": 8,
   "metadata": {},
   "outputs": [
    {
     "name": "stdout",
     "output_type": "stream",
     "text": [
      "test4\n"
     ]
    },
    {
     "data": {
      "text/plain": [
       "(44457, 38)"
      ]
     },
     "execution_count": 8,
     "metadata": {},
     "output_type": "execute_result"
    }
   ],
   "source": [
    "df_live_master = dfc.append_live_from_filename('sep_2017_cleaned', df_live_master)\n",
    "df_live_master.shape"
   ]
  },
  {
   "cell_type": "code",
   "execution_count": 9,
   "metadata": {},
   "outputs": [
    {
     "name": "stdout",
     "output_type": "stream",
     "text": [
      "test4\n"
     ]
    },
    {
     "data": {
      "text/plain": [
       "(47041, 38)"
      ]
     },
     "execution_count": 9,
     "metadata": {},
     "output_type": "execute_result"
    }
   ],
   "source": [
    "df_live_master = dfc.append_live_from_filename('aug_2017_cleaned', df_live_master)\n",
    "df_live_master.shape"
   ]
  },
  {
   "cell_type": "code",
   "execution_count": 10,
   "metadata": {},
   "outputs": [
    {
     "name": "stdout",
     "output_type": "stream",
     "text": [
      "test4\n"
     ]
    },
    {
     "data": {
      "text/plain": [
       "(49541, 38)"
      ]
     },
     "execution_count": 10,
     "metadata": {},
     "output_type": "execute_result"
    }
   ],
   "source": [
    "df_live_master = dfc.append_live_from_filename('jul_2017_cleaned', df_live_master)\n",
    "df_live_master.shape"
   ]
  },
  {
   "cell_type": "code",
   "execution_count": 11,
   "metadata": {},
   "outputs": [
    {
     "name": "stdout",
     "output_type": "stream",
     "text": [
      "test4\n"
     ]
    },
    {
     "data": {
      "text/plain": [
       "(52219, 38)"
      ]
     },
     "execution_count": 11,
     "metadata": {},
     "output_type": "execute_result"
    }
   ],
   "source": [
    "df_live_master = dfc.append_live_from_filename('jun_2017_cleaned', df_live_master)\n",
    "df_live_master.shape"
   ]
  },
  {
   "cell_type": "code",
   "execution_count": 12,
   "metadata": {},
   "outputs": [
    {
     "name": "stdout",
     "output_type": "stream",
     "text": [
      "test4\n"
     ]
    },
    {
     "data": {
      "text/plain": [
       "(54948, 38)"
      ]
     },
     "execution_count": 12,
     "metadata": {},
     "output_type": "execute_result"
    }
   ],
   "source": [
    "df_live_master = dfc.append_live_from_filename('may_2017_cleaned', df_live_master)\n",
    "df_live_master.shape"
   ]
  },
  {
   "cell_type": "code",
   "execution_count": 13,
   "metadata": {},
   "outputs": [
    {
     "name": "stdout",
     "output_type": "stream",
     "text": [
      "test4\n"
     ]
    },
    {
     "data": {
      "text/plain": [
       "(57591, 38)"
      ]
     },
     "execution_count": 13,
     "metadata": {},
     "output_type": "execute_result"
    }
   ],
   "source": [
    "df_live_master = dfc.append_live_from_filename('apr_2017_cleaned', df_live_master)\n",
    "df_live_master.shape"
   ]
  },
  {
   "cell_type": "code",
   "execution_count": 14,
   "metadata": {},
   "outputs": [
    {
     "name": "stdout",
     "output_type": "stream",
     "text": [
      "test4\n"
     ]
    },
    {
     "data": {
      "text/plain": [
       "(60406, 38)"
      ]
     },
     "execution_count": 14,
     "metadata": {},
     "output_type": "execute_result"
    }
   ],
   "source": [
    "df_live_master = dfc.append_live_from_filename('mar_2017_cleaned', df_live_master)\n",
    "df_live_master.shape"
   ]
  },
  {
   "cell_type": "code",
   "execution_count": 15,
   "metadata": {},
   "outputs": [
    {
     "name": "stdout",
     "output_type": "stream",
     "text": [
      "test4\n"
     ]
    },
    {
     "data": {
      "text/plain": [
       "(62917, 38)"
      ]
     },
     "execution_count": 15,
     "metadata": {},
     "output_type": "execute_result"
    }
   ],
   "source": [
    "df_live_master = dfc.append_live_from_filename('feb_2017_cleaned', df_live_master)\n",
    "df_live_master.shape"
   ]
  },
  {
   "cell_type": "code",
   "execution_count": 16,
   "metadata": {},
   "outputs": [
    {
     "name": "stdout",
     "output_type": "stream",
     "text": [
      "test4\n"
     ]
    },
    {
     "data": {
      "text/plain": [
       "(64892, 38)"
      ]
     },
     "execution_count": 16,
     "metadata": {},
     "output_type": "execute_result"
    }
   ],
   "source": [
    "df_live_master = dfc.append_live_from_filename('jan_2017_cleaned', df_live_master)\n",
    "df_live_master.shape"
   ]
  },
  {
   "cell_type": "code",
   "execution_count": 18,
   "metadata": {},
   "outputs": [],
   "source": [
    "with open('/Users/robertpagano/metis_data/project_4/final/all_live_cleaned_2017_to_present.pickle', 'wb') as to_write:\n",
    "    pickle.dump(df_live_master, to_write)"
   ]
  },
  {
   "cell_type": "code",
   "execution_count": 17,
   "metadata": {},
   "outputs": [
    {
     "data": {
      "text/plain": [
       "games           7842\n",
       "film & video    7668\n",
       "technology      7512\n",
       "publishing      6966\n",
       "design          6817\n",
       "music           5833\n",
       "fashion         5751\n",
       "art             4639\n",
       "food            4238\n",
       "comics          2415\n",
       "crafts          1589\n",
       "photography     1240\n",
       "theater         1128\n",
       "journalism       820\n",
       "dance            434\n",
       "Name: category_main, dtype: int64"
      ]
     },
     "execution_count": 17,
     "metadata": {},
     "output_type": "execute_result"
    }
   ],
   "source": [
    "df_live_master['category_main'].value_counts()"
   ]
  },
  {
   "cell_type": "markdown",
   "metadata": {},
   "source": [
    "nearly doubled all categories - if my models / nlp isn't great i can always add another year.\n",
    "still need to add the merged non live"
   ]
  },
  {
   "cell_type": "code",
   "execution_count": null,
   "metadata": {},
   "outputs": [],
   "source": [
    "df_live_master.to_csv('/Users/robertpagano/metis_data/project_4/interim/all_live_cleaned.csv')"
   ]
  }
 ],
 "metadata": {
  "kernelspec": {
   "display_name": "Python 3",
   "language": "python",
   "name": "python3"
  },
  "language_info": {
   "codemirror_mode": {
    "name": "ipython",
    "version": 3
   },
   "file_extension": ".py",
   "mimetype": "text/x-python",
   "name": "python",
   "nbconvert_exporter": "python",
   "pygments_lexer": "ipython3",
   "version": "3.6.7"
  }
 },
 "nbformat": 4,
 "nbformat_minor": 2
}
