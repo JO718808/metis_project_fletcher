{
 "cells": [
  {
   "cell_type": "code",
   "execution_count": 1,
   "metadata": {},
   "outputs": [],
   "source": [
    "import pandas as pd\n",
    "import numpy as np\n",
    "import glob, os\n",
    "import datetime\n",
    "import json\n",
    "\n",
    "import pickle\n",
    "\n",
    "pd.set_option('display.max_columns', None)  \n",
    "# pd.set_option('display.max_colwidth', 125)  # or 199"
   ]
  },
  {
   "cell_type": "code",
   "execution_count": 2,
   "metadata": {},
   "outputs": [],
   "source": [
    "import df_combine as dfc"
   ]
  },
  {
   "cell_type": "markdown",
   "metadata": {},
   "source": [
    "\n",
    "~~So for non-live master, order is:\n",
    "\t1. unpickle df\n",
    "\t2. drop dups in that df (subset = 'id')\n",
    "\t3. filter out live\n",
    "\t4. append to the master (this also de-dups on subset id)\n",
    "\t6. repeat untill all the way through files~~\n",
    "\n",
    "SUCCESS. Now to move on to live statuses. \n",
    "\n",
    "Then for live master, order is:\n",
    "\t1. unpickle df\n",
    "    2. filter out non-live records\n",
    "\t3. drop dups in that df (subset = 'id')\n",
    "\t4. append to master\n",
    "\t5. sort master by date\n",
    "\t6. drop dups in master (subset='id', keep='last' so that it keeps the last entry in live (most info))\n",
    "\t7. repeat until all the way through files\n",
    "\t8. Once I have all live records, will need to append all \"final statuses\" as the final target variable\n",
    "\t\t\t--remove any records that don't have this\n",
    "\t9. Then I just need to look at my value counts by category, and narrow my focus on category\n",
    "\n",
    "\tAfter that, it's NLP time"
   ]
  },
  {
   "cell_type": "code",
   "execution_count": 3,
   "metadata": {},
   "outputs": [
    {
     "name": "stdout",
     "output_type": "stream",
     "text": [
      "test4\n"
     ]
    },
    {
     "data": {
      "text/plain": [
       "(208474, 38)"
      ]
     },
     "execution_count": 3,
     "metadata": {},
     "output_type": "execute_result"
    }
   ],
   "source": [
    "df_feb2019 = dfc.unpkl('feb_2019_cleaned')\n",
    "df_feb2019.shape"
   ]
  },
  {
   "cell_type": "code",
   "execution_count": 4,
   "metadata": {},
   "outputs": [
    {
     "data": {
      "text/plain": [
       "(4504, 38)"
      ]
     },
     "execution_count": 4,
     "metadata": {},
     "output_type": "execute_result"
    }
   ],
   "source": [
    "df_feb2019_live = dfc.filter_out_nonlive(df_feb2019)\n",
    "df_feb2019_live.shape"
   ]
  },
  {
   "cell_type": "code",
   "execution_count": 5,
   "metadata": {},
   "outputs": [
    {
     "data": {
      "text/plain": [
       "(2565, 38)"
      ]
     },
     "execution_count": 5,
     "metadata": {},
     "output_type": "execute_result"
    }
   ],
   "source": [
    "df_feb2019_live = df_feb2019_live.drop_duplicates(subset='id')\n",
    "df_feb2019_live.shape"
   ]
  },
  {
   "cell_type": "code",
   "execution_count": 6,
   "metadata": {},
   "outputs": [],
   "source": [
    "df_live_master = df_feb2019_live.copy()"
   ]
  },
  {
   "cell_type": "markdown",
   "metadata": {},
   "source": [
    "Now I will run the function once for each dataset. At the end, I will have all projects with final status in one dataframe."
   ]
  },
  {
   "cell_type": "code",
   "execution_count": 7,
   "metadata": {},
   "outputs": [
    {
     "name": "stdout",
     "output_type": "stream",
     "text": [
      "test4\n"
     ]
    },
    {
     "data": {
      "text/plain": [
       "(4179, 38)"
      ]
     },
     "execution_count": 7,
     "metadata": {},
     "output_type": "execute_result"
    }
   ],
   "source": [
    "df_live_master = dfc.append_live_from_filename('jan_2019_cleaned', df_live_master)\n",
    "df_live_master.shape"
   ]
  },
  {
   "cell_type": "code",
   "execution_count": 8,
   "metadata": {},
   "outputs": [
    {
     "name": "stdout",
     "output_type": "stream",
     "text": [
      "test4\n"
     ]
    },
    {
     "data": {
      "text/plain": [
       "(6509, 38)"
      ]
     },
     "execution_count": 8,
     "metadata": {},
     "output_type": "execute_result"
    }
   ],
   "source": [
    "df_live_master = dfc.append_live_from_filename('dec_2018_cleaned', df_live_master)\n",
    "df_live_master.shape"
   ]
  },
  {
   "cell_type": "code",
   "execution_count": 9,
   "metadata": {},
   "outputs": [
    {
     "name": "stdout",
     "output_type": "stream",
     "text": [
      "test4\n"
     ]
    },
    {
     "data": {
      "text/plain": [
       "(8974, 38)"
      ]
     },
     "execution_count": 9,
     "metadata": {},
     "output_type": "execute_result"
    }
   ],
   "source": [
    "df_live_master = dfc.append_live_from_filename('nov_2018_cleaned', df_live_master)\n",
    "df_live_master.shape"
   ]
  },
  {
   "cell_type": "code",
   "execution_count": 10,
   "metadata": {},
   "outputs": [
    {
     "name": "stdout",
     "output_type": "stream",
     "text": [
      "test4\n"
     ]
    },
    {
     "data": {
      "text/plain": [
       "(11425, 38)"
      ]
     },
     "execution_count": 10,
     "metadata": {},
     "output_type": "execute_result"
    }
   ],
   "source": [
    "df_live_master = dfc.append_live_from_filename('oct_2018_cleaned', df_live_master)\n",
    "df_live_master.shape"
   ]
  },
  {
   "cell_type": "code",
   "execution_count": 11,
   "metadata": {},
   "outputs": [
    {
     "name": "stdout",
     "output_type": "stream",
     "text": [
      "test4\n"
     ]
    },
    {
     "data": {
      "text/plain": [
       "(13893, 38)"
      ]
     },
     "execution_count": 11,
     "metadata": {},
     "output_type": "execute_result"
    }
   ],
   "source": [
    "df_live_master = dfc.append_live_from_filename('sep_2018_cleaned', df_live_master)\n",
    "df_live_master.shape"
   ]
  },
  {
   "cell_type": "code",
   "execution_count": 12,
   "metadata": {},
   "outputs": [
    {
     "name": "stdout",
     "output_type": "stream",
     "text": [
      "test4\n"
     ]
    },
    {
     "data": {
      "text/plain": [
       "(16082, 38)"
      ]
     },
     "execution_count": 12,
     "metadata": {},
     "output_type": "execute_result"
    }
   ],
   "source": [
    "df_live_master = dfc.append_live_from_filename('aug_2018_cleaned', df_live_master)\n",
    "df_live_master.shape"
   ]
  },
  {
   "cell_type": "code",
   "execution_count": 13,
   "metadata": {},
   "outputs": [
    {
     "name": "stdout",
     "output_type": "stream",
     "text": [
      "test4\n"
     ]
    },
    {
     "data": {
      "text/plain": [
       "(18812, 38)"
      ]
     },
     "execution_count": 13,
     "metadata": {},
     "output_type": "execute_result"
    }
   ],
   "source": [
    "df_live_master = dfc.append_live_from_filename('jul_2018_cleaned', df_live_master)\n",
    "df_live_master.shape"
   ]
  },
  {
   "cell_type": "code",
   "execution_count": 14,
   "metadata": {},
   "outputs": [
    {
     "name": "stdout",
     "output_type": "stream",
     "text": [
      "test4\n"
     ]
    },
    {
     "data": {
      "text/plain": [
       "(21390, 38)"
      ]
     },
     "execution_count": 14,
     "metadata": {},
     "output_type": "execute_result"
    }
   ],
   "source": [
    "df_live_master = dfc.append_live_from_filename('jun_2018_cleaned', df_live_master)\n",
    "df_live_master.shape"
   ]
  },
  {
   "cell_type": "code",
   "execution_count": 15,
   "metadata": {},
   "outputs": [
    {
     "name": "stdout",
     "output_type": "stream",
     "text": [
      "test4\n"
     ]
    },
    {
     "data": {
      "text/plain": [
       "(24033, 38)"
      ]
     },
     "execution_count": 15,
     "metadata": {},
     "output_type": "execute_result"
    }
   ],
   "source": [
    "df_live_master = dfc.append_live_from_filename('may_2018_cleaned', df_live_master)\n",
    "df_live_master.shape"
   ]
  },
  {
   "cell_type": "code",
   "execution_count": 16,
   "metadata": {},
   "outputs": [
    {
     "name": "stdout",
     "output_type": "stream",
     "text": [
      "test4\n"
     ]
    },
    {
     "data": {
      "text/plain": [
       "(26737, 38)"
      ]
     },
     "execution_count": 16,
     "metadata": {},
     "output_type": "execute_result"
    }
   ],
   "source": [
    "df_live_master = dfc.append_live_from_filename('apr_2018_cleaned', df_live_master)\n",
    "df_live_master.shape"
   ]
  },
  {
   "cell_type": "code",
   "execution_count": 17,
   "metadata": {},
   "outputs": [
    {
     "name": "stdout",
     "output_type": "stream",
     "text": [
      "test4\n"
     ]
    },
    {
     "data": {
      "text/plain": [
       "(29275, 39)"
      ]
     },
     "execution_count": 17,
     "metadata": {},
     "output_type": "execute_result"
    }
   ],
   "source": [
    "df_live_master = dfc.append_live_from_filename('mar_2018_cleaned', df_live_master)\n",
    "df_live_master.shape"
   ]
  },
  {
   "cell_type": "code",
   "execution_count": 18,
   "metadata": {},
   "outputs": [
    {
     "name": "stdout",
     "output_type": "stream",
     "text": [
      "test4\n"
     ]
    },
    {
     "data": {
      "text/plain": [
       "(31851, 53)"
      ]
     },
     "execution_count": 18,
     "metadata": {},
     "output_type": "execute_result"
    }
   ],
   "source": [
    "df_live_master = dfc.append_live_from_filename('feb_2018_cleaned', df_live_master)\n",
    "df_live_master.shape"
   ]
  },
  {
   "cell_type": "code",
   "execution_count": 19,
   "metadata": {},
   "outputs": [
    {
     "name": "stdout",
     "output_type": "stream",
     "text": [
      "test4\n"
     ]
    },
    {
     "data": {
      "text/plain": [
       "(33997, 53)"
      ]
     },
     "execution_count": 19,
     "metadata": {},
     "output_type": "execute_result"
    }
   ],
   "source": [
    "df_live_master = dfc.append_live_from_filename('jan_2018_cleaned', df_live_master)\n",
    "df_live_master.shape"
   ]
  },
  {
   "cell_type": "code",
   "execution_count": 20,
   "metadata": {},
   "outputs": [
    {
     "data": {
      "text/plain": [
       "games           4113\n",
       "film & video    3884\n",
       "technology      3601\n",
       "publishing      3579\n",
       "design          3329\n",
       "music           3258\n",
       "fashion         2996\n",
       "art             2877\n",
       "food            2292\n",
       "comics          1332\n",
       "crafts           970\n",
       "photography      593\n",
       "theater          576\n",
       "journalism       395\n",
       "dance            202\n",
       "Name: category_main, dtype: int64"
      ]
     },
     "execution_count": 20,
     "metadata": {},
     "output_type": "execute_result"
    }
   ],
   "source": [
    "df_live_master['category_main'].value_counts()"
   ]
  },
  {
   "cell_type": "code",
   "execution_count": 22,
   "metadata": {},
   "outputs": [
    {
     "data": {
      "text/plain": [
       "Index(['backers_count', 'blurb', 'converted_pledged_amount', 'country', 'goal',\n",
       "       'id', 'name', 'pledged', 'slug', 'staff_pick', 'state',\n",
       "       'state_changed_at', 'static_usd_rate', 'usd_pledged', 'date_created',\n",
       "       'deadline_date', 'launched_date', 'date_state_changed',\n",
       "       'time_to_launch', 'day_limit', 'current_date', 'days_left',\n",
       "       'days_in_field', 'manual_usd_rate', 'converted_goal', 'category_id',\n",
       "       'category_name', 'category_position', 'category_slug', 'creator_id',\n",
       "       'profile_id', 'profile_project_id', 'urls_project', 'category_main',\n",
       "       'remaining_money_needed', 'money_needed_by_day', 'money_gained_per_day',\n",
       "       'current_by_remaining_rate', 'source_url', 'creator_chosen_currency',\n",
       "       'creator_is_registered', 'creator_urls', 'profile_background_color',\n",
       "       'profile_background_image_attributes',\n",
       "       'profile_background_image_opacity', 'profile_blurb',\n",
       "       'profile_feature_image_attributes', 'profile_link_text_color',\n",
       "       'profile_link_url', 'profile_name',\n",
       "       'profile_should_show_feature_image_section',\n",
       "       'profile_show_feature_image', 'profile_state_changed_at'],\n",
       "      dtype='object')"
      ]
     },
     "execution_count": 22,
     "metadata": {},
     "output_type": "execute_result"
    }
   ],
   "source": [
    "df_live_master.columns"
   ]
  },
  {
   "cell_type": "code",
   "execution_count": 23,
   "metadata": {},
   "outputs": [],
   "source": [
    "with open('/Users/robertpagano/metis_data/project_4/interim/all_live_cleaned.pickle', 'wb') as to_write:\n",
    "    pickle.dump(df_live_master, to_write)"
   ]
  },
  {
   "cell_type": "code",
   "execution_count": null,
   "metadata": {},
   "outputs": [],
   "source": []
  }
 ],
 "metadata": {
  "kernelspec": {
   "display_name": "Python 3",
   "language": "python",
   "name": "python3"
  },
  "language_info": {
   "codemirror_mode": {
    "name": "ipython",
    "version": 3
   },
   "file_extension": ".py",
   "mimetype": "text/x-python",
   "name": "python",
   "nbconvert_exporter": "python",
   "pygments_lexer": "ipython3",
   "version": "3.6.7"
  }
 },
 "nbformat": 4,
 "nbformat_minor": 2
}
