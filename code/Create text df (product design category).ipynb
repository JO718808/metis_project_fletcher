{
 "cells": [
  {
   "cell_type": "code",
   "execution_count": 1,
   "metadata": {},
   "outputs": [],
   "source": [
    "import pandas as pd\n",
    "import numpy as np\n",
    "import glob, os\n",
    "import datetime\n",
    "import json\n",
    "\n",
    "import pickle\n",
    "\n",
    "pd.set_option('display.max_columns', None)  \n",
    "# pd.set_option('display.max_colwidth', 125)  # or 199"
   ]
  },
  {
   "cell_type": "code",
   "execution_count": 2,
   "metadata": {},
   "outputs": [],
   "source": [
    "with open('/Users/robertpagano/metis_data/project_4/final/all_live_final_appended_2017_2019.pickle', 'rb') as f:\n",
    "    df = pickle.load(f)"
   ]
  },
  {
   "cell_type": "code",
   "execution_count": 5,
   "metadata": {},
   "outputs": [
    {
     "data": {
      "text/plain": [
       "technology      6282\n",
       "film & video    5420\n",
       "fashion         4625\n",
       "music           4426\n",
       "publishing      3833\n",
       "art             3603\n",
       "food            3540\n",
       "games           3441\n",
       "design          2302\n",
       "comics          2068\n",
       "crafts          1176\n",
       "photography     1121\n",
       "theater         1044\n",
       "journalism       785\n",
       "dance            398\n",
       "Name: category_main, dtype: int64"
      ]
     },
     "execution_count": 5,
     "metadata": {},
     "output_type": "execute_result"
    }
   ],
   "source": [
    "df['category_main'].value_counts()"
   ]
  },
  {
   "cell_type": "code",
   "execution_count": 6,
   "metadata": {},
   "outputs": [
    {
     "data": {
      "text/plain": [
       "Apps                 1942\n",
       "Apparel              1787\n",
       "Product Design       1501\n",
       "Accessories          1447\n",
       "Web                  1146\n",
       "Tabletop Games       1116\n",
       "Comic Books           908\n",
       "Gadgets               836\n",
       "Playing Cards         806\n",
       "Illustration          782\n",
       "Restaurants           769\n",
       "Comedy                764\n",
       "Drinks                758\n",
       "Children's Books      679\n",
       "Graphic Novels        661\n",
       "Drama                 632\n",
       "Software              601\n",
       "Documentary           594\n",
       "Video Games           552\n",
       "Hardware              548\n",
       "Music                 529\n",
       "Hip-Hop               529\n",
       "Mobile Games          491\n",
       "Webseries             486\n",
       "Art Books             483\n",
       "Photobooks            466\n",
       "Shorts                458\n",
       "Nonfiction            448\n",
       "Painting              443\n",
       "Jewelry               432\n",
       "                     ... \n",
       "Couture                59\n",
       "Puzzles                58\n",
       "Makerspaces            57\n",
       "Romance                57\n",
       "Printing               55\n",
       "Movie Theaters         54\n",
       "Literary Spaces        54\n",
       "Pottery                49\n",
       "Animals                48\n",
       "Games                  45\n",
       "Community Gardens      45\n",
       "Video Art              43\n",
       "Pet Fashion            42\n",
       "Knitting               41\n",
       "Translations           40\n",
       "Workshops              40\n",
       "Photography            40\n",
       "Photo                  37\n",
       "Crochet                34\n",
       "Typography             34\n",
       "Embroidery             33\n",
       "Dance                  31\n",
       "Weaving                26\n",
       "Glass                  22\n",
       "Bacon                  18\n",
       "Residencies            18\n",
       "Letterpress            17\n",
       "Quilts                 16\n",
       "Chiptune                6\n",
       "Taxidermy               1\n",
       "Name: category_name, Length: 159, dtype: int64"
      ]
     },
     "execution_count": 6,
     "metadata": {},
     "output_type": "execute_result"
    }
   ],
   "source": [
    "df['category_name'].value_counts()"
   ]
  },
  {
   "cell_type": "code",
   "execution_count": 9,
   "metadata": {},
   "outputs": [],
   "source": [
    "df_tech = df[df['category_main'] == 'technology']"
   ]
  },
  {
   "cell_type": "code",
   "execution_count": 10,
   "metadata": {},
   "outputs": [
    {
     "data": {
      "text/plain": [
       "(6282, 39)"
      ]
     },
     "execution_count": 10,
     "metadata": {},
     "output_type": "execute_result"
    }
   ],
   "source": [
    "df_tech.shape"
   ]
  },
  {
   "cell_type": "code",
   "execution_count": 11,
   "metadata": {},
   "outputs": [
    {
     "data": {
      "text/plain": [
       "Apps                 1942\n",
       "Web                   844\n",
       "Gadgets               836\n",
       "Software              601\n",
       "Hardware              548\n",
       "Wearables             362\n",
       "DIY Electronics       215\n",
       "Sound                 200\n",
       "Robots                144\n",
       "3D Printing           131\n",
       "Camera Equipment      103\n",
       "Technology             92\n",
       "Space Exploration      71\n",
       "Fabrication Tools      68\n",
       "Flight                 68\n",
       "Makerspaces            57\n",
       "Name: category_name, dtype: int64"
      ]
     },
     "execution_count": 11,
     "metadata": {},
     "output_type": "execute_result"
    }
   ],
   "source": [
    "df_tech['category_name'].value_counts()"
   ]
  },
  {
   "cell_type": "code",
   "execution_count": null,
   "metadata": {},
   "outputs": [],
   "source": []
  }
 ],
 "metadata": {
  "kernelspec": {
   "display_name": "Python 3",
   "language": "python",
   "name": "python3"
  },
  "language_info": {
   "codemirror_mode": {
    "name": "ipython",
    "version": 3
   },
   "file_extension": ".py",
   "mimetype": "text/x-python",
   "name": "python",
   "nbconvert_exporter": "python",
   "pygments_lexer": "ipython3",
   "version": "3.6.7"
  }
 },
 "nbformat": 4,
 "nbformat_minor": 2
}
