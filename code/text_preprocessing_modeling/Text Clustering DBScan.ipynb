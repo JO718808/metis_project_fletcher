{
 "cells": [
  {
   "cell_type": "code",
   "execution_count": 29,
   "metadata": {},
   "outputs": [],
   "source": [
    "import pickle\n",
    "\n",
    "from sklearn.cluster import KMeans, MiniBatchKMeans\n",
    "\n",
    "import pandas as pd\n",
    "import numpy as np\n",
    "\n",
    "from sklearn.decomposition import TruncatedSVD\n",
    "from sklearn.decomposition import NMF\n",
    "from sklearn.metrics.pairwise import cosine_similarity\n",
    "\n",
    "from pprint import pprint\n",
    "\n",
    "%matplotlib inline\n",
    "\n",
    "import logging\n",
    "from optparse import OptionParser\n",
    "import sys\n",
    "from time import time\n",
    "\n",
    "pd.set_option('display.max_columns', None)  \n",
    "\n",
    "from sklearn.cluster import DBSCAN\n",
    "from sklearn import metrics"
   ]
  },
  {
   "cell_type": "markdown",
   "metadata": {},
   "source": [
    "Loading all of my LSA and NMF Dfs:"
   ]
  },
  {
   "cell_type": "code",
   "execution_count": 20,
   "metadata": {},
   "outputs": [],
   "source": [
    "with open('/Users/robertpagano/metis_data/project_4/text_dataframes/clustering/df_nmf_model_10.pickle', 'rb') as f:\n",
    "    df_nmf_model_10 = pickle.load(f)"
   ]
  },
  {
   "cell_type": "code",
   "execution_count": 21,
   "metadata": {},
   "outputs": [],
   "source": [
    "with open('/Users/robertpagano/metis_data/project_4/text_dataframes/clustering/df_nmf_model_15.pickle', 'rb') as f:\n",
    "    df_nmf_model_15 = pickle.load(f)"
   ]
  },
  {
   "cell_type": "code",
   "execution_count": 22,
   "metadata": {},
   "outputs": [],
   "source": [
    "with open('/Users/robertpagano/metis_data/project_4/text_dataframes/clustering/df_nmf_model_20.pickle', 'rb') as f:\n",
    "    df_nmf_model_20 = pickle.load(f)"
   ]
  },
  {
   "cell_type": "code",
   "execution_count": 23,
   "metadata": {},
   "outputs": [],
   "source": [
    "with open('/Users/robertpagano/metis_data/project_4/text_dataframes/clustering/df_nmf_model_25.pickle', 'rb') as f:\n",
    "    df_nmf_model_25 = pickle.load(f)"
   ]
  },
  {
   "cell_type": "code",
   "execution_count": 24,
   "metadata": {},
   "outputs": [],
   "source": [
    "with open('/Users/robertpagano/metis_data/project_4/text_dataframes/clustering/df_lsa_model_10.pickle', 'rb') as f:\n",
    "    df_lsa_model_10 = pickle.load(f)"
   ]
  },
  {
   "cell_type": "code",
   "execution_count": 25,
   "metadata": {},
   "outputs": [],
   "source": [
    "with open('/Users/robertpagano/metis_data/project_4/text_dataframes/clustering/df_lsa_model_15.pickle', 'rb') as f:\n",
    "    df_lsa_model_15 = pickle.load(f)"
   ]
  },
  {
   "cell_type": "code",
   "execution_count": 26,
   "metadata": {},
   "outputs": [],
   "source": [
    "with open('/Users/robertpagano/metis_data/project_4/text_dataframes/clustering/df_lsa_model_20.pickle', 'rb') as f:\n",
    "    df_lsa_model_20 = pickle.load(f)"
   ]
  },
  {
   "cell_type": "code",
   "execution_count": 27,
   "metadata": {},
   "outputs": [],
   "source": [
    "with open('/Users/robertpagano/metis_data/project_4/text_dataframes/clustering/df_lsa_model_25.pickle', 'rb') as f:\n",
    "    df_lsa_model_25 = pickle.load(f)"
   ]
  },
  {
   "cell_type": "markdown",
   "metadata": {},
   "source": [
    "Creating my feature spaces for each:"
   ]
  },
  {
   "cell_type": "code",
   "execution_count": 32,
   "metadata": {},
   "outputs": [],
   "source": [
    "nmf_model_10_X = df_nmf_model_10.iloc[:, 2:]"
   ]
  },
  {
   "cell_type": "code",
   "execution_count": 34,
   "metadata": {},
   "outputs": [],
   "source": [
    "nmf_model_15_X = df_nmf_model_15.iloc[:, 2:]"
   ]
  },
  {
   "cell_type": "code",
   "execution_count": 35,
   "metadata": {},
   "outputs": [],
   "source": [
    "nmf_model_20_X = df_nmf_model_20.iloc[:, 2:]"
   ]
  },
  {
   "cell_type": "code",
   "execution_count": 36,
   "metadata": {},
   "outputs": [],
   "source": [
    "nmf_model_25_X = df_nmf_model_25.iloc[:, 2:]"
   ]
  },
  {
   "cell_type": "code",
   "execution_count": 37,
   "metadata": {},
   "outputs": [],
   "source": [
    "lsa_model_10_X = df_lsa_model_10.iloc[:, 2:]"
   ]
  },
  {
   "cell_type": "code",
   "execution_count": 38,
   "metadata": {},
   "outputs": [],
   "source": [
    "lsa_model_15_X = df_lsa_model_15.iloc[:, 2:]"
   ]
  },
  {
   "cell_type": "code",
   "execution_count": 39,
   "metadata": {},
   "outputs": [],
   "source": [
    "lsa_model_20_X = df_lsa_model_20.iloc[:, 2:]"
   ]
  },
  {
   "cell_type": "code",
   "execution_count": 40,
   "metadata": {},
   "outputs": [],
   "source": [
    "lsa_model_25_X = df_lsa_model_25.iloc[:, 2:]"
   ]
  },
  {
   "cell_type": "code",
   "execution_count": null,
   "metadata": {},
   "outputs": [],
   "source": []
  },
  {
   "cell_type": "markdown",
   "metadata": {},
   "source": [
    "fitting dbscan models to each:"
   ]
  },
  {
   "cell_type": "code",
   "execution_count": 77,
   "metadata": {},
   "outputs": [],
   "source": [
    "db_nmf_10 = DBSCAN(eps=.05, min_samples=3).fit(nmf_model_10_X)"
   ]
  },
  {
   "cell_type": "markdown",
   "metadata": {},
   "source": [
    "Goign to try to fit the below to my data... let's see"
   ]
  },
  {
   "cell_type": "code",
   "execution_count": 112,
   "metadata": {},
   "outputs": [],
   "source": [
    "db_nmf_15 = DBSCAN(eps=.08, min_samples=2).fit(nmf_model_15_X)"
   ]
  },
  {
   "cell_type": "code",
   "execution_count": 79,
   "metadata": {},
   "outputs": [],
   "source": [
    "db_nmf_20 = DBSCAN(eps=.05, min_samples=3).fit(nmf_model_20_X)"
   ]
  },
  {
   "cell_type": "code",
   "execution_count": 80,
   "metadata": {},
   "outputs": [],
   "source": [
    "db_nmf_25 = DBSCAN(eps=.05, min_samples=3).fit(nmf_model_25_X)"
   ]
  },
  {
   "cell_type": "code",
   "execution_count": 81,
   "metadata": {},
   "outputs": [],
   "source": [
    "db_lsa_10 = DBSCAN(eps=.05, min_samples=3).fit(lsa_model_10_X)"
   ]
  },
  {
   "cell_type": "code",
   "execution_count": 82,
   "metadata": {},
   "outputs": [],
   "source": [
    "db_lsa_15 = DBSCAN(eps=.05, min_samples=3).fit(lsa_model_15_X)"
   ]
  },
  {
   "cell_type": "code",
   "execution_count": 83,
   "metadata": {},
   "outputs": [],
   "source": [
    "# db_lsa_20 = DBSCAN(eps=.05, min_samples=3).fit(lsa_model_20_X)"
   ]
  },
  {
   "cell_type": "code",
   "execution_count": 84,
   "metadata": {},
   "outputs": [],
   "source": [
    "db_lsa_25 = DBSCAN(eps=.05, min_samples=3).fit(lsa_model_25_X)"
   ]
  },
  {
   "cell_type": "code",
   "execution_count": null,
   "metadata": {},
   "outputs": [],
   "source": []
  },
  {
   "cell_type": "code",
   "execution_count": 76,
   "metadata": {},
   "outputs": [
    {
     "name": "stdout",
     "output_type": "stream",
     "text": [
      "Estimated number of clusters: 3\n",
      "Estimated number of noise points: 18\n",
      "Silhouette Coefficient: 0.400\n"
     ]
    }
   ],
   "source": [
    "core_samples_mask_nmf_10 = np.zeros_like(db_nmf_10.labels_, dtype=bool)\n",
    "core_samples_mask_nmf_10[db_nmf_10.core_sample_indices_] = True\n",
    "labels_nmf_10 = db_nmf_10.labels_\n",
    "\n",
    "# Number of clusters in labels, ignoring noise if present.\n",
    "n_clusters_nmf_10 = len(set(labels_nmf_10)) - (1 if -1 in labels_nmf_10 else 0)\n",
    "n_noise_nmf_10 = list(labels_nmf_10).count(-1)\n",
    "\n",
    "print('Estimated number of clusters: %d' % n_clusters_nmf_10)\n",
    "print('Estimated number of noise points: %d' % n_noise_nmf_10)\n",
    "\n",
    "print(\"Silhouette Coefficient: %0.3f\"\n",
    "      % metrics.silhouette_score(nmf_model_10_X, labels_nmf_10))"
   ]
  },
  {
   "cell_type": "code",
   "execution_count": 120,
   "metadata": {},
   "outputs": [
    {
     "data": {
      "image/png": "[encoded data removed]",
      "text/plain": [
       "<Figure size 432x288 with 1 Axes>"
      ]
     },
     "metadata": {
      "needs_background": "light"
     },
     "output_type": "display_data"
    }
   ],
   "source": [
    "# Plot result\n",
    "import matplotlib.pyplot as plt\n",
    "\n",
    "# Black removed and is used for noise instead.\n",
    "unique_labels_nmf_10 = set(labels_nmf_10)\n",
    "colors = [plt.cm.Spectral(each)\n",
    "          for each in np.linspace(0, 1, len(unique_labels_nmf_10))]\n",
    "for k, col in zip(unique_labels_nmf_10, colors):\n",
    "    if k == -1:\n",
    "        # Black used for noise.\n",
    "        col = [0, 0, 0, 1]\n",
    "\n",
    "    class_member_mask = (labels_nmf_10 == k)\n",
    "\n",
    "    xy = nmf_model_10_X[class_member_mask & core_samples_mask_nmf_10]\n",
    "    plt.plot(xy.values[:, 0], xy.values[:, 1], 'o', markerfacecolor=tuple(col),\n",
    "             markeredgecolor='k', markersize=14)\n",
    "\n",
    "    xy = nmf_model_10_X[class_member_mask & ~core_samples_mask_nmf_10]\n",
    "    plt.plot(xy.values[:, 0], xy.values[:, 1], 'o', markerfacecolor=tuple(col),\n",
    "             markeredgecolor='k', markersize=6)\n",
    "\n",
    "plt.title('Estimated number of clusters, NMF 15 Topics: %d' % n_clusters_nmf_10)\n",
    "plt.show()"
   ]
  },
  {
   "cell_type": "code",
   "execution_count": null,
   "metadata": {},
   "outputs": [],
   "source": []
  },
  {
   "cell_type": "markdown",
   "metadata": {},
   "source": [
    "Below looks good from metrics point of view, let's try mapping it"
   ]
  },
  {
   "cell_type": "code",
   "execution_count": 113,
   "metadata": {},
   "outputs": [
    {
     "name": "stdout",
     "output_type": "stream",
     "text": [
      "Estimated number of clusters: 5\n",
      "Estimated number of noise points: 10\n",
      "Silhouette Coefficient: 0.618\n"
     ]
    }
   ],
   "source": [
    "core_samples_mask_nmf_15 = np.zeros_like(db_nmf_15.labels_, dtype=bool)\n",
    "core_samples_mask_nmf_15[db_nmf_15.core_sample_indices_] = True\n",
    "labels_nmf_15 = db_nmf_15.labels_\n",
    "\n",
    "# Number of clusters in labels, ignoring noise if present.\n",
    "n_clusters_nmf_15 = len(set(labels_nmf_15)) - (1 if -1 in labels_nmf_15 else 0)\n",
    "n_noise_nmf_15 = list(labels_nmf_15).count(-1)\n",
    "\n",
    "print('Estimated number of clusters: %d' % n_clusters_nmf_15)\n",
    "print('Estimated number of noise points: %d' % n_noise_nmf_15)\n",
    "\n",
    "print(\"Silhouette Coefficient: %0.3f\"\n",
    "      % metrics.silhouette_score(nmf_model_15_X, labels_nmf_15))"
   ]
  },
  {
   "cell_type": "code",
   "execution_count": 119,
   "metadata": {},
   "outputs": [
    {
     "data": {
      "image/png": "[encoded data removed]",
      "text/plain": [
       "<Figure size 432x288 with 1 Axes>"
      ]
     },
     "metadata": {
      "needs_background": "light"
     },
     "output_type": "display_data"
    }
   ],
   "source": [
    "# Plot result\n",
    "import matplotlib.pyplot as plt\n",
    "\n",
    "# Black removed and is used for noise instead.\n",
    "unique_labels_nmf_15 = set(labels_nmf_15)\n",
    "colors = [plt.cm.Spectral(each)\n",
    "          for each in np.linspace(0, 1, len(unique_labels_nmf_15))]\n",
    "for k, col in zip(unique_labels_nmf_15, colors):\n",
    "    if k == -1:\n",
    "        # Black used for noise.\n",
    "        col = [0, 0, 0, 1]\n",
    "\n",
    "    class_member_mask = (labels_nmf_15 == k)\n",
    "\n",
    "    xy = nmf_model_15_X[class_member_mask & core_samples_mask_nmf_15]\n",
    "    plt.plot(xy.values[:, 0], xy.values[:, 1], 'o', markerfacecolor=tuple(col),\n",
    "             markeredgecolor='k', markersize=14)\n",
    "\n",
    "    xy = nmf_model_15_X[class_member_mask & ~core_samples_mask_nmf_15]\n",
    "    plt.plot(xy.values[:, 0], xy.values[:, 1], 'o', markerfacecolor=tuple(col),\n",
    "             markeredgecolor='k', markersize=6)\n",
    "\n",
    "plt.title('Estimated number of clusters, NMF 15 Topics: %d' % n_clusters_nmf_15)\n",
    "plt.show()"
   ]
  },
  {
   "cell_type": "code",
   "execution_count": null,
   "metadata": {},
   "outputs": [],
   "source": []
  },
  {
   "cell_type": "code",
   "execution_count": null,
   "metadata": {},
   "outputs": [],
   "source": []
  },
  {
   "cell_type": "code",
   "execution_count": 86,
   "metadata": {},
   "outputs": [
    {
     "name": "stdout",
     "output_type": "stream",
     "text": [
      "Estimated number of clusters: 11\n",
      "Estimated number of noise points: 184\n",
      "Silhouette Coefficient: 0.289\n"
     ]
    }
   ],
   "source": [
    "core_samples_mask_nmf_20 = np.zeros_like(db_nmf_20.labels_, dtype=bool)\n",
    "core_samples_mask_nmf_20[db_nmf_20.core_sample_indices_] = True\n",
    "labels_nmf_20 = db_nmf_20.labels_\n",
    "\n",
    "# Number of clusters in labels, ignoring noise if present.\n",
    "n_clusters_nmf_20 = len(set(labels_nmf_20)) - (1 if -1 in labels_nmf_20 else 0)\n",
    "n_noise_nmf_20 = list(labels_nmf_20).count(-1)\n",
    "\n",
    "print('Estimated number of clusters: %d' % n_clusters_nmf_20)\n",
    "print('Estimated number of noise points: %d' % n_noise_nmf_20)\n",
    "\n",
    "print(\"Silhouette Coefficient: %0.3f\"\n",
    "      % metrics.silhouette_score(nmf_model_20_X, labels_nmf_20))"
   ]
  },
  {
   "cell_type": "code",
   "execution_count": 87,
   "metadata": {},
   "outputs": [
    {
     "name": "stdout",
     "output_type": "stream",
     "text": [
      "Estimated number of clusters: 20\n",
      "Estimated number of noise points: 253\n",
      "Silhouette Coefficient: 0.155\n"
     ]
    }
   ],
   "source": [
    "core_samples_mask_nmf_25 = np.zeros_like(db_nmf_25.labels_, dtype=bool)\n",
    "core_samples_mask_nmf_25[db_nmf_25.core_sample_indices_] = True\n",
    "labels_nmf_25 = db_nmf_25.labels_\n",
    "\n",
    "# Number of clusters in labels, ignoring noise if present.\n",
    "n_clusters_nmf_25 = len(set(labels_nmf_25)) - (1 if -1 in labels_nmf_20 else 0)\n",
    "n_noise_nmf_25 = list(labels_nmf_25).count(-1)\n",
    "\n",
    "print('Estimated number of clusters: %d' % n_clusters_nmf_25)\n",
    "print('Estimated number of noise points: %d' % n_noise_nmf_25)\n",
    "\n",
    "print(\"Silhouette Coefficient: %0.3f\"\n",
    "      % metrics.silhouette_score(nmf_model_25_X, labels_nmf_25))"
   ]
  },
  {
   "cell_type": "code",
   "execution_count": 89,
   "metadata": {},
   "outputs": [
    {
     "name": "stdout",
     "output_type": "stream",
     "text": [
      "Estimated number of clusters: 35\n",
      "Estimated number of noise points: 904\n",
      "Silhouette Coefficient: -0.116\n"
     ]
    }
   ],
   "source": [
    "core_samples_mask_lsa_10 = np.zeros_like(db_lsa_10.labels_, dtype=bool)\n",
    "core_samples_mask_lsa_10[db_lsa_10.core_sample_indices_] = True\n",
    "labels_lsa_10 = db_lsa_10.labels_\n",
    "\n",
    "# Number of clusters in labels, ignoring noise if present.\n",
    "n_clusters_lsa_10 = len(set(labels_lsa_10)) - (1 if -1 in labels_lsa_10 else 0)\n",
    "n_noise_lsa_10 = list(labels_lsa_10).count(-1)\n",
    "\n",
    "print('Estimated number of clusters: %d' % n_clusters_lsa_10)\n",
    "print('Estimated number of noise points: %d' % n_noise_lsa_10)\n",
    "\n",
    "print(\"Silhouette Coefficient: %0.3f\"\n",
    "      % metrics.silhouette_score(lsa_model_10_X, labels_lsa_10))"
   ]
  },
  {
   "cell_type": "code",
   "execution_count": 92,
   "metadata": {},
   "outputs": [
    {
     "name": "stdout",
     "output_type": "stream",
     "text": [
      "Estimated number of clusters: 66\n",
      "Estimated number of noise points: 2510\n",
      "Silhouette Coefficient: -0.122\n"
     ]
    }
   ],
   "source": [
    "core_samples_mask_lsa_15 = np.zeros_like(db_lsa_15.labels_, dtype=bool)\n",
    "core_samples_mask_lsa_15[db_lsa_15.core_sample_indices_] = True\n",
    "labels_lsa_15 = db_lsa_15.labels_\n",
    "\n",
    "# Number of clusters in labels, ignoring noise if present.\n",
    "n_clusters_lsa_15 = len(set(labels_lsa_15)) - (1 if -1 in labels_lsa_15 else 0)\n",
    "n_noise_lsa_15 = list(labels_lsa_15).count(-1)\n",
    "\n",
    "print('Estimated number of clusters: %d' % n_clusters_lsa_15)\n",
    "print('Estimated number of noise points: %d' % n_noise_lsa_15)\n",
    "\n",
    "print(\"Silhouette Coefficient: %0.3f\"\n",
    "      % metrics.silhouette_score(lsa_model_15_X, labels_lsa_10))"
   ]
  },
  {
   "cell_type": "code",
   "execution_count": 165,
   "metadata": {},
   "outputs": [],
   "source": [
    "db_lsa_20 = DBSCAN(eps=.3, min_samples=3).fit(lsa_model_20_X)"
   ]
  },
  {
   "cell_type": "code",
   "execution_count": 166,
   "metadata": {},
   "outputs": [
    {
     "name": "stdout",
     "output_type": "stream",
     "text": [
      "Estimated number of clusters: 3\n",
      "Estimated number of noise points: 5\n",
      "Silhouette Coefficient: 0.565\n"
     ]
    }
   ],
   "source": [
    "core_samples_mask_lsa_20 = np.zeros_like(db_lsa_20.labels_, dtype=bool)\n",
    "core_samples_mask_lsa_20[db_lsa_20.core_sample_indices_] = True\n",
    "labels_lsa_20 = db_lsa_20.labels_\n",
    "\n",
    "# Number of clusters in labels, ignoring noise if present.\n",
    "n_clusters_lsa_20 = len(set(labels_lsa_20)) - (1 if -1 in labels_lsa_20 else 0)\n",
    "n_noise_lsa_20 = list(labels_lsa_20).count(-1)\n",
    "\n",
    "print('Estimated number of clusters: %d' % n_clusters_lsa_20)\n",
    "print('Estimated number of noise points: %d' % n_noise_lsa_20)\n",
    "\n",
    "print(\"Silhouette Coefficient: %0.3f\"\n",
    "      % metrics.silhouette_score(lsa_model_20_X, labels_lsa_20))"
   ]
  },
  {
   "cell_type": "code",
   "execution_count": 167,
   "metadata": {},
   "outputs": [
    {
     "data": {
      "image/png": "[encoded data removed]",
      "text/plain": [
       "<Figure size 432x288 with 1 Axes>"
      ]
     },
     "metadata": {
      "needs_background": "light"
     },
     "output_type": "display_data"
    }
   ],
   "source": [
    "# Plot result\n",
    "import matplotlib.pyplot as plt\n",
    "\n",
    "# Black removed and is used for noise instead.\n",
    "unique_labels_lsa_20 = set(labels_lsa_20)\n",
    "colors = [plt.cm.Spectral(each)\n",
    "          for each in np.linspace(0, 1, len(unique_labels_lsa_20))]\n",
    "for k, col in zip(unique_labels_lsa_20, colors):\n",
    "    if k == -1:\n",
    "        # Black used for noise.\n",
    "        col = [0, 0, 0, 1]\n",
    "\n",
    "    class_member_mask = (labels_lsa_20 == k)\n",
    "\n",
    "    xy = lsa_model_20_X[class_member_mask & core_samples_mask_lsa_20]\n",
    "    plt.plot(xy.values[:, 0], xy.values[:, 1], 'o', markerfacecolor=tuple(col),\n",
    "             markeredgecolor='k', markersize=14)\n",
    "\n",
    "    xy = lsa_model_20_X[class_member_mask & ~core_samples_mask_lsa_20]\n",
    "    plt.plot(xy.values[:, 0], xy.values[:, 1], 'o', markerfacecolor=tuple(col),\n",
    "             markeredgecolor='k', markersize=6)\n",
    "\n",
    "plt.title('Estimated number of clusters, LSA 20 Topics: %d' % n_clusters_lsa_20)\n",
    "plt.show()"
   ]
  },
  {
   "cell_type": "code",
   "execution_count": 152,
   "metadata": {},
   "outputs": [],
   "source": [
    "clustered_labels_lsa_20 = db_lsa_20.fit_predict(lsa_model_20_X, y=None, sample_weight=None)"
   ]
  },
  {
   "cell_type": "code",
   "execution_count": 150,
   "metadata": {},
   "outputs": [
    {
     "data": {
      "text/html": [
       "<div>\n",
       "<style scoped>\n",
       "    .dataframe tbody tr th:only-of-type {\n",
       "        vertical-align: middle;\n",
       "    }\n",
       "\n",
       "    .dataframe tbody tr th {\n",
       "        vertical-align: top;\n",
       "    }\n",
       "\n",
       "    .dataframe thead th {\n",
       "        text-align: right;\n",
       "    }\n",
       "</style>\n",
       "<table border=\"1\" class=\"dataframe\">\n",
       "  <thead>\n",
       "    <tr style=\"text-align: right;\">\n",
       "      <th></th>\n",
       "      <th>id</th>\n",
       "      <th>blurb</th>\n",
       "      <th>0</th>\n",
       "      <th>1</th>\n",
       "      <th>2</th>\n",
       "      <th>3</th>\n",
       "      <th>4</th>\n",
       "      <th>5</th>\n",
       "      <th>6</th>\n",
       "      <th>7</th>\n",
       "      <th>8</th>\n",
       "      <th>9</th>\n",
       "      <th>10</th>\n",
       "      <th>11</th>\n",
       "      <th>12</th>\n",
       "      <th>13</th>\n",
       "      <th>14</th>\n",
       "      <th>15</th>\n",
       "      <th>16</th>\n",
       "      <th>17</th>\n",
       "      <th>18</th>\n",
       "      <th>19</th>\n",
       "    </tr>\n",
       "  </thead>\n",
       "  <tbody>\n",
       "    <tr>\n",
       "      <th>0</th>\n",
       "      <td>269726791</td>\n",
       "      <td>An artistic professional pack of playing cards...</td>\n",
       "      <td>0.118765</td>\n",
       "      <td>0.182466</td>\n",
       "      <td>-0.037672</td>\n",
       "      <td>0.039376</td>\n",
       "      <td>-0.048429</td>\n",
       "      <td>0.045518</td>\n",
       "      <td>0.009710</td>\n",
       "      <td>0.012686</td>\n",
       "      <td>0.002069</td>\n",
       "      <td>0.006844</td>\n",
       "      <td>-0.014650</td>\n",
       "      <td>0.027404</td>\n",
       "      <td>0.020749</td>\n",
       "      <td>0.015065</td>\n",
       "      <td>0.015533</td>\n",
       "      <td>-0.002469</td>\n",
       "      <td>0.010655</td>\n",
       "      <td>0.004937</td>\n",
       "      <td>-0.011222</td>\n",
       "      <td>0.014631</td>\n",
       "    </tr>\n",
       "    <tr>\n",
       "      <th>1</th>\n",
       "      <td>1697621882</td>\n",
       "      <td>Make it rain pancakes in FAT STACKS. \\nCreate ...</td>\n",
       "      <td>0.052765</td>\n",
       "      <td>-0.033622</td>\n",
       "      <td>-0.045537</td>\n",
       "      <td>-0.032304</td>\n",
       "      <td>-0.015172</td>\n",
       "      <td>0.015924</td>\n",
       "      <td>0.008454</td>\n",
       "      <td>-0.017053</td>\n",
       "      <td>-0.022386</td>\n",
       "      <td>-0.011617</td>\n",
       "      <td>0.026820</td>\n",
       "      <td>0.029376</td>\n",
       "      <td>-0.045896</td>\n",
       "      <td>0.045269</td>\n",
       "      <td>0.014085</td>\n",
       "      <td>0.038517</td>\n",
       "      <td>-0.002483</td>\n",
       "      <td>-0.040691</td>\n",
       "      <td>-0.013559</td>\n",
       "      <td>0.030872</td>\n",
       "    </tr>\n",
       "    <tr>\n",
       "      <th>2</th>\n",
       "      <td>2046938895</td>\n",
       "      <td>Endless playability, stunning artwork and fant...</td>\n",
       "      <td>0.017984</td>\n",
       "      <td>0.001343</td>\n",
       "      <td>-0.003260</td>\n",
       "      <td>0.032234</td>\n",
       "      <td>0.002442</td>\n",
       "      <td>-0.021048</td>\n",
       "      <td>0.008277</td>\n",
       "      <td>-0.000148</td>\n",
       "      <td>0.010226</td>\n",
       "      <td>-0.018665</td>\n",
       "      <td>0.009077</td>\n",
       "      <td>-0.019254</td>\n",
       "      <td>-0.009203</td>\n",
       "      <td>0.005457</td>\n",
       "      <td>-0.005860</td>\n",
       "      <td>0.011202</td>\n",
       "      <td>-0.004034</td>\n",
       "      <td>-0.017642</td>\n",
       "      <td>-0.040061</td>\n",
       "      <td>-0.009398</td>\n",
       "    </tr>\n",
       "    <tr>\n",
       "      <th>3</th>\n",
       "      <td>1642293087</td>\n",
       "      <td>In 'Coral', use dice to make shapes in 3D! In ...</td>\n",
       "      <td>0.035804</td>\n",
       "      <td>-0.011564</td>\n",
       "      <td>-0.010287</td>\n",
       "      <td>0.004304</td>\n",
       "      <td>-0.009367</td>\n",
       "      <td>0.016175</td>\n",
       "      <td>0.008818</td>\n",
       "      <td>-0.045228</td>\n",
       "      <td>0.002583</td>\n",
       "      <td>-0.018973</td>\n",
       "      <td>-0.015247</td>\n",
       "      <td>0.024286</td>\n",
       "      <td>-0.059678</td>\n",
       "      <td>0.042627</td>\n",
       "      <td>0.017888</td>\n",
       "      <td>0.007787</td>\n",
       "      <td>-0.003178</td>\n",
       "      <td>-0.007208</td>\n",
       "      <td>-0.027904</td>\n",
       "      <td>-0.051965</td>\n",
       "    </tr>\n",
       "    <tr>\n",
       "      <th>4</th>\n",
       "      <td>932587626</td>\n",
       "      <td>Online 3D Stores for businesses that blur 3D G...</td>\n",
       "      <td>0.085045</td>\n",
       "      <td>-0.055648</td>\n",
       "      <td>-0.040125</td>\n",
       "      <td>0.035144</td>\n",
       "      <td>0.014326</td>\n",
       "      <td>-0.000312</td>\n",
       "      <td>-0.034597</td>\n",
       "      <td>-0.014971</td>\n",
       "      <td>-0.037944</td>\n",
       "      <td>0.016826</td>\n",
       "      <td>-0.000892</td>\n",
       "      <td>-0.057838</td>\n",
       "      <td>0.042626</td>\n",
       "      <td>-0.003969</td>\n",
       "      <td>0.002463</td>\n",
       "      <td>0.042471</td>\n",
       "      <td>0.053249</td>\n",
       "      <td>0.005034</td>\n",
       "      <td>-0.009061</td>\n",
       "      <td>0.000517</td>\n",
       "    </tr>\n",
       "  </tbody>\n",
       "</table>\n",
       "</div>"
      ],
      "text/plain": [
       "           id                                              blurb         0  \\\n",
       "0   269726791  An artistic professional pack of playing cards...  0.118765   \n",
       "1  1697621882  Make it rain pancakes in FAT STACKS. \\nCreate ...  0.052765   \n",
       "2  2046938895  Endless playability, stunning artwork and fant...  0.017984   \n",
       "3  1642293087  In 'Coral', use dice to make shapes in 3D! In ...  0.035804   \n",
       "4   932587626  Online 3D Stores for businesses that blur 3D G...  0.085045   \n",
       "\n",
       "          1         2         3         4         5         6         7  \\\n",
       "0  0.182466 -0.037672  0.039376 -0.048429  0.045518  0.009710  0.012686   \n",
       "1 -0.033622 -0.045537 -0.032304 -0.015172  0.015924  0.008454 -0.017053   \n",
       "2  0.001343 -0.003260  0.032234  0.002442 -0.021048  0.008277 -0.000148   \n",
       "3 -0.011564 -0.010287  0.004304 -0.009367  0.016175  0.008818 -0.045228   \n",
       "4 -0.055648 -0.040125  0.035144  0.014326 -0.000312 -0.034597 -0.014971   \n",
       "\n",
       "          8         9        10        11        12        13        14  \\\n",
       "0  0.002069  0.006844 -0.014650  0.027404  0.020749  0.015065  0.015533   \n",
       "1 -0.022386 -0.011617  0.026820  0.029376 -0.045896  0.045269  0.014085   \n",
       "2  0.010226 -0.018665  0.009077 -0.019254 -0.009203  0.005457 -0.005860   \n",
       "3  0.002583 -0.018973 -0.015247  0.024286 -0.059678  0.042627  0.017888   \n",
       "4 -0.037944  0.016826 -0.000892 -0.057838  0.042626 -0.003969  0.002463   \n",
       "\n",
       "         15        16        17        18        19  \n",
       "0 -0.002469  0.010655  0.004937 -0.011222  0.014631  \n",
       "1  0.038517 -0.002483 -0.040691 -0.013559  0.030872  \n",
       "2  0.011202 -0.004034 -0.017642 -0.040061 -0.009398  \n",
       "3  0.007787 -0.003178 -0.007208 -0.027904 -0.051965  \n",
       "4  0.042471  0.053249  0.005034 -0.009061  0.000517  "
      ]
     },
     "execution_count": 150,
     "metadata": {},
     "output_type": "execute_result"
    }
   ],
   "source": [
    "df_lsa_model_20.head()"
   ]
  },
  {
   "cell_type": "code",
   "execution_count": 153,
   "metadata": {},
   "outputs": [
    {
     "data": {
      "text/plain": [
       "5902"
      ]
     },
     "execution_count": 153,
     "metadata": {},
     "output_type": "execute_result"
    }
   ],
   "source": [
    "len(clustered_labels_lsa_20)"
   ]
  },
  {
   "cell_type": "code",
   "execution_count": 154,
   "metadata": {},
   "outputs": [],
   "source": [
    "df_lsa_model_20['cluster_labels'] = clustered_labels_lsa_20"
   ]
  },
  {
   "cell_type": "code",
   "execution_count": 156,
   "metadata": {},
   "outputs": [
    {
     "data": {
      "text/plain": [
       " 0    5890\n",
       " 3       4\n",
       " 4       3\n",
       " 2       2\n",
       " 1       2\n",
       "-1       1\n",
       "Name: cluster_labels, dtype: int64"
      ]
     },
     "execution_count": 156,
     "metadata": {},
     "output_type": "execute_result"
    }
   ],
   "source": [
    "df_lsa_model_20.cluster_labels.value_counts()"
   ]
  },
  {
   "cell_type": "code",
   "execution_count": 94,
   "metadata": {},
   "outputs": [
    {
     "name": "stdout",
     "output_type": "stream",
     "text": [
      "Estimated number of clusters: 75\n",
      "Estimated number of noise points: 4124\n",
      "Silhouette Coefficient: -0.333\n"
     ]
    }
   ],
   "source": [
    "core_samples_mask_lsa_25 = np.zeros_like(db_lsa_25.labels_, dtype=bool)\n",
    "core_samples_mask_lsa_25[db_lsa_25.core_sample_indices_] = True\n",
    "labels_lsa_25 = db_lsa_25.labels_\n",
    "\n",
    "# Number of clusters in labels, ignoring noise if present.\n",
    "n_clusters_lsa_25 = len(set(labels_lsa_25)) - (1 if -1 in labels_lsa_25 else 0)\n",
    "n_noise_lsa_25 = list(labels_lsa_25).count(-1)\n",
    "\n",
    "print('Estimated number of clusters: %d' % n_clusters_lsa_25)\n",
    "print('Estimated number of noise points: %d' % n_noise_lsa_25)\n",
    "\n",
    "print(\"Silhouette Coefficient: %0.3f\"\n",
    "      % metrics.silhouette_score(lsa_model_25_X, labels_lsa_25))"
   ]
  },
  {
   "cell_type": "code",
   "execution_count": null,
   "metadata": {},
   "outputs": [],
   "source": []
  },
  {
   "cell_type": "code",
   "execution_count": null,
   "metadata": {},
   "outputs": [],
   "source": []
  },
  {
   "cell_type": "code",
   "execution_count": null,
   "metadata": {},
   "outputs": [],
   "source": []
  },
  {
   "cell_type": "markdown",
   "metadata": {},
   "source": [
    "Trying to append clusters to dataset for nmf 2"
   ]
  },
  {
   "cell_type": "code",
   "execution_count": 121,
   "metadata": {},
   "outputs": [
    {
     "data": {
      "text/plain": [
       "DBSCAN(algorithm='auto', eps=0.08, leaf_size=30, metric='euclidean',\n",
       "    metric_params=None, min_samples=2, n_jobs=None, p=None)"
      ]
     },
     "execution_count": 121,
     "metadata": {},
     "output_type": "execute_result"
    }
   ],
   "source": [
    "db_nmf_15"
   ]
  },
  {
   "cell_type": "code",
   "execution_count": null,
   "metadata": {},
   "outputs": [],
   "source": []
  }
 ],
 "metadata": {
  "kernelspec": {
   "display_name": "Python 3",
   "language": "python",
   "name": "python3"
  },
  "language_info": {
   "codemirror_mode": {
    "name": "ipython",
    "version": 3
   },
   "file_extension": ".py",
   "mimetype": "text/x-python",
   "name": "python",
   "nbconvert_exporter": "python",
   "pygments_lexer": "ipython3",
   "version": "3.6.7"
  }
 },
 "nbformat": 4,
 "nbformat_minor": 2
}
