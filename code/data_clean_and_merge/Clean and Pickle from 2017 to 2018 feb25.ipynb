{
 "cells": [
  {
   "cell_type": "code",
   "execution_count": 1,
   "metadata": {},
   "outputs": [],
   "source": [
    "import pandas as pd\n",
    "import numpy as np\n",
    "import glob, os\n",
    "import datetime\n",
    "import json\n",
    "\n",
    "import pickle\n",
    "\n",
    "import ks_clean as ks\n",
    "\n",
    "pd.set_option('display.max_columns', None)  \n",
    "# pd.set_option('display.max_colwidth', 125)  # or 199"
   ]
  },
  {
   "cell_type": "code",
   "execution_count": 2,
   "metadata": {},
   "outputs": [],
   "source": [
    "##Creating my paths to my raw data\n",
    "\n",
    "path_dec2017 = r'/Users/robertpagano/Desktop/Kickstarter Data/Kickstarter_2017-12-15'\n",
    "path_nov2017 = r'/Users/robertpagano/Desktop/Kickstarter Data/Kickstarter_2017-11-15'\n",
    "path_oct2017 = r'/Users/robertpagano/Desktop/Kickstarter Data/Kickstarter_2017-10-15'\n",
    "path_sep2017 = r'/Users/robertpagano/Desktop/Kickstarter Data/Kickstarter_2017-09-15'\n",
    "path_aug2017 = r'/Users/robertpagano/Desktop/Kickstarter Data/Kickstarter_2017-08-15'\n",
    "path_jul2017 = r'/Users/robertpagano/Desktop/Kickstarter Data/Kickstarter_2017-07-15'\n",
    "path_jun2017 = r'/Users/robertpagano/Desktop/Kickstarter Data/Kickstarter_2017-06-15'\n",
    "path_may2017 = r'/Users/robertpagano/Desktop/Kickstarter Data/Kickstarter_2017-05-15'\n",
    "path_apr2017 = r'/Users/robertpagano/Desktop/Kickstarter Data/Kickstarter_2017-04-15'\n",
    "path_mar2017 = r'/Users/robertpagano/Desktop/Kickstarter Data/Kickstarter_2017-03-15'\n",
    "path_feb2017 = r'/Users/robertpagano/Desktop/Kickstarter Data/Kickstarter_2017-02-15'\n",
    "path_jan2017 = r'/Users/robertpagano/Desktop/Kickstarter Data/Kickstarter_2017-01-15'"
   ]
  },
  {
   "cell_type": "markdown",
   "metadata": {},
   "source": [
    "Running my cleaning functions on each, one file group at a time:\n",
    "\n",
    "- clean part 1\n",
    "- clean part 2\n",
    "- pickle df\n"
   ]
  },
  {
   "cell_type": "code",
   "execution_count": null,
   "metadata": {},
   "outputs": [],
   "source": [
    "df_dec2017 = ks.clean_final_1_b(path_dec2017)"
   ]
  },
  {
   "cell_type": "code",
   "execution_count": null,
   "metadata": {},
   "outputs": [],
   "source": [
    "df_dec2017 = ks.clean_final_2_c(df_dec2017)"
   ]
  },
  {
   "cell_type": "code",
   "execution_count": null,
   "metadata": {},
   "outputs": [],
   "source": [
    "with open('/Users/robertpagano/metis_data/project_4/interim/dec_2017_cleaned.pickle', 'wb') as to_write:\n",
    "    pickle.dump(df_dec2017, to_write)"
   ]
  },
  {
   "cell_type": "code",
   "execution_count": null,
   "metadata": {},
   "outputs": [],
   "source": []
  },
  {
   "cell_type": "code",
   "execution_count": null,
   "metadata": {},
   "outputs": [],
   "source": [
    "df_nov2017 = ks.clean_final_1_b(path_nov2017)"
   ]
  },
  {
   "cell_type": "code",
   "execution_count": null,
   "metadata": {},
   "outputs": [],
   "source": [
    "df_nov2017 = ks.clean_final_2_d(df_nov2017)"
   ]
  },
  {
   "cell_type": "code",
   "execution_count": null,
   "metadata": {},
   "outputs": [],
   "source": [
    "with open('/Users/robertpagano/metis_data/project_4/interim/nov_2017_cleaned.pickle', 'wb') as to_write:\n",
    "    pickle.dump(df_nov2017, to_write)"
   ]
  },
  {
   "cell_type": "code",
   "execution_count": null,
   "metadata": {},
   "outputs": [],
   "source": []
  },
  {
   "cell_type": "code",
   "execution_count": null,
   "metadata": {},
   "outputs": [],
   "source": [
    "df_oct2017 = ks.clean_final_1_b(path_oct2017)"
   ]
  },
  {
   "cell_type": "code",
   "execution_count": null,
   "metadata": {},
   "outputs": [],
   "source": [
    "df_oct2017 = ks.clean_final_2_d(df_oct2017)"
   ]
  },
  {
   "cell_type": "code",
   "execution_count": null,
   "metadata": {},
   "outputs": [],
   "source": [
    "with open('/Users/robertpagano/metis_data/project_4/interim/oct_2017_cleaned.pickle', 'wb') as to_write:\n",
    "    pickle.dump(df_oct2017, to_write)"
   ]
  },
  {
   "cell_type": "code",
   "execution_count": null,
   "metadata": {},
   "outputs": [],
   "source": []
  },
  {
   "cell_type": "code",
   "execution_count": null,
   "metadata": {},
   "outputs": [],
   "source": [
    "df_sep2017 = ks.clean_final_1_c(path_sep2017)"
   ]
  },
  {
   "cell_type": "code",
   "execution_count": null,
   "metadata": {},
   "outputs": [],
   "source": [
    "df_sep2017 = ks.clean_final_2_e(df_sep2017)"
   ]
  },
  {
   "cell_type": "code",
   "execution_count": null,
   "metadata": {},
   "outputs": [],
   "source": [
    "with open('/Users/robertpagano/metis_data/project_4/interim/sep_2017_cleaned.pickle', 'wb') as to_write:\n",
    "    pickle.dump(df_sep2017, to_write)"
   ]
  },
  {
   "cell_type": "code",
   "execution_count": null,
   "metadata": {},
   "outputs": [],
   "source": []
  },
  {
   "cell_type": "code",
   "execution_count": null,
   "metadata": {},
   "outputs": [],
   "source": [
    "df_aug2017 = ks.clean_final_1_c(path_aug2017)"
   ]
  },
  {
   "cell_type": "code",
   "execution_count": null,
   "metadata": {},
   "outputs": [],
   "source": [
    "df_aug2017 = ks.clean_final_2_e(df_aug2017)"
   ]
  },
  {
   "cell_type": "code",
   "execution_count": null,
   "metadata": {},
   "outputs": [],
   "source": [
    "with open('/Users/robertpagano/metis_data/project_4/interim/aug_2017_cleaned.pickle', 'wb') as to_write:\n",
    "    pickle.dump(df_aug2017, to_write)"
   ]
  },
  {
   "cell_type": "code",
   "execution_count": null,
   "metadata": {},
   "outputs": [],
   "source": []
  },
  {
   "cell_type": "code",
   "execution_count": 3,
   "metadata": {},
   "outputs": [],
   "source": [
    "df_jul2017 = ks.clean_final_1_c(path_jul2017)"
   ]
  },
  {
   "cell_type": "code",
   "execution_count": 4,
   "metadata": {},
   "outputs": [],
   "source": [
    "df_jul2017 = ks.clean_final_2_e(df_jul2017)"
   ]
  },
  {
   "cell_type": "code",
   "execution_count": 5,
   "metadata": {},
   "outputs": [],
   "source": [
    "with open('/Users/robertpagano/metis_data/project_4/interim/jul_2017_cleaned.pickle', 'wb') as to_write:\n",
    "    pickle.dump(df_jul2017, to_write)"
   ]
  },
  {
   "cell_type": "code",
   "execution_count": null,
   "metadata": {},
   "outputs": [],
   "source": []
  },
  {
   "cell_type": "code",
   "execution_count": 6,
   "metadata": {},
   "outputs": [],
   "source": [
    "df_jun2017 = ks.clean_final_1_c(path_jun2017)"
   ]
  },
  {
   "cell_type": "code",
   "execution_count": 7,
   "metadata": {},
   "outputs": [],
   "source": [
    "df_jun2017 = ks.clean_final_2_e(df_jun2017)"
   ]
  },
  {
   "cell_type": "code",
   "execution_count": 8,
   "metadata": {},
   "outputs": [],
   "source": [
    "with open('/Users/robertpagano/metis_data/project_4/interim/jun_2017_cleaned.pickle', 'wb') as to_write:\n",
    "    pickle.dump(df_jun2017, to_write)"
   ]
  },
  {
   "cell_type": "code",
   "execution_count": null,
   "metadata": {},
   "outputs": [],
   "source": []
  },
  {
   "cell_type": "code",
   "execution_count": 9,
   "metadata": {},
   "outputs": [],
   "source": [
    "df_may2017 = ks.clean_final_1_c(path_may2017)"
   ]
  },
  {
   "cell_type": "code",
   "execution_count": 10,
   "metadata": {},
   "outputs": [],
   "source": [
    "df_may2017 = ks.clean_final_2_e(df_may2017)"
   ]
  },
  {
   "cell_type": "code",
   "execution_count": 11,
   "metadata": {},
   "outputs": [],
   "source": [
    "with open('/Users/robertpagano/metis_data/project_4/interim/may_2017_cleaned.pickle', 'wb') as to_write:\n",
    "    pickle.dump(df_may2017, to_write)"
   ]
  },
  {
   "cell_type": "code",
   "execution_count": null,
   "metadata": {},
   "outputs": [],
   "source": []
  },
  {
   "cell_type": "code",
   "execution_count": 12,
   "metadata": {},
   "outputs": [],
   "source": [
    "df_apr2017 = ks.clean_final_1_c(path_apr2017)"
   ]
  },
  {
   "cell_type": "code",
   "execution_count": 13,
   "metadata": {},
   "outputs": [],
   "source": [
    "df_apr2017 = ks.clean_final_2_e(df_apr2017)"
   ]
  },
  {
   "cell_type": "code",
   "execution_count": 14,
   "metadata": {},
   "outputs": [],
   "source": [
    "with open('/Users/robertpagano/metis_data/project_4/interim/apr_2017_cleaned.pickle', 'wb') as to_write:\n",
    "    pickle.dump(df_apr2017, to_write)"
   ]
  },
  {
   "cell_type": "code",
   "execution_count": null,
   "metadata": {},
   "outputs": [],
   "source": []
  },
  {
   "cell_type": "code",
   "execution_count": 15,
   "metadata": {},
   "outputs": [],
   "source": [
    "df_mar2017 = ks.clean_final_1_c(path_mar2017)"
   ]
  },
  {
   "cell_type": "code",
   "execution_count": 16,
   "metadata": {},
   "outputs": [],
   "source": [
    "df_mar2017 = ks.clean_final_2_e(df_mar2017)"
   ]
  },
  {
   "cell_type": "code",
   "execution_count": 17,
   "metadata": {},
   "outputs": [],
   "source": [
    "with open('/Users/robertpagano/metis_data/project_4/interim/mar_2017_cleaned.pickle', 'wb') as to_write:\n",
    "    pickle.dump(df_mar2017, to_write)"
   ]
  },
  {
   "cell_type": "code",
   "execution_count": null,
   "metadata": {},
   "outputs": [],
   "source": []
  },
  {
   "cell_type": "code",
   "execution_count": 18,
   "metadata": {},
   "outputs": [],
   "source": [
    "df_feb2017 = ks.clean_final_1_c(path_feb2017)"
   ]
  },
  {
   "cell_type": "code",
   "execution_count": 19,
   "metadata": {},
   "outputs": [],
   "source": [
    "df_feb2017 = ks.clean_final_2_e(df_feb2017)"
   ]
  },
  {
   "cell_type": "code",
   "execution_count": 20,
   "metadata": {},
   "outputs": [],
   "source": [
    "with open('/Users/robertpagano/metis_data/project_4/interim/feb_2017_cleaned.pickle', 'wb') as to_write:\n",
    "    pickle.dump(df_feb2017, to_write)"
   ]
  },
  {
   "cell_type": "code",
   "execution_count": null,
   "metadata": {},
   "outputs": [],
   "source": []
  },
  {
   "cell_type": "code",
   "execution_count": 21,
   "metadata": {},
   "outputs": [],
   "source": [
    "df_jan2017 = ks.clean_final_1_c(path_jan2017)"
   ]
  },
  {
   "cell_type": "code",
   "execution_count": 22,
   "metadata": {},
   "outputs": [],
   "source": [
    "df_jan2017 = ks.clean_final_2_e(df_jan2017)"
   ]
  },
  {
   "cell_type": "code",
   "execution_count": 23,
   "metadata": {},
   "outputs": [],
   "source": [
    "with open('/Users/robertpagano/metis_data/project_4/interim/jan_2017_cleaned.pickle', 'wb') as to_write:\n",
    "    pickle.dump(df_jan2017, to_write)"
   ]
  },
  {
   "cell_type": "code",
   "execution_count": null,
   "metadata": {},
   "outputs": [],
   "source": []
  },
  {
   "cell_type": "code",
   "execution_count": null,
   "metadata": {},
   "outputs": [],
   "source": []
  },
  {
   "cell_type": "code",
   "execution_count": null,
   "metadata": {},
   "outputs": [],
   "source": []
  }
 ],
 "metadata": {
  "kernelspec": {
   "display_name": "Python 3",
   "language": "python",
   "name": "python3"
  },
  "language_info": {
   "codemirror_mode": {
    "name": "ipython",
    "version": 3
   },
   "file_extension": ".py",
   "mimetype": "text/x-python",
   "name": "python",
   "nbconvert_exporter": "python",
   "pygments_lexer": "ipython3",
   "version": "3.6.7"
  }
 },
 "nbformat": 4,
 "nbformat_minor": 2
}
