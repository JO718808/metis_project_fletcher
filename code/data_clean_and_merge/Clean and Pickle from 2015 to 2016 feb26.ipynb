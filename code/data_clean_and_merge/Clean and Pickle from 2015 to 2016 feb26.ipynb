{
 "cells": [
  {
   "cell_type": "code",
   "execution_count": 2,
   "metadata": {},
   "outputs": [],
   "source": [
    "import pandas as pd\n",
    "import numpy as np\n",
    "import glob, os\n",
    "import datetime\n",
    "import json\n",
    "\n",
    "import pickle\n",
    "\n",
    "import ks_clean as ks\n",
    "\n",
    "pd.set_option('display.max_columns', None)  \n",
    "# pd.set_option('display.max_colwidth', 125)  # or 199"
   ]
  },
  {
   "cell_type": "code",
   "execution_count": 3,
   "metadata": {},
   "outputs": [],
   "source": [
    "##Creating my paths to my raw data\n",
    "\n",
    "path_dec2016 = r'/Users/robertpagano/Desktop/Kickstarter Data/Kickstarter_2016-12-15'\n",
    "path_nov2016 = r'/Users/robertpagano/Desktop/Kickstarter Data/Kickstarter_2016-11-12'\n",
    "path_oct2016 = r'/Users/robertpagano/Desktop/Kickstarter Data/Kickstarter_2016-10-15'\n",
    "path_sep2016 = r'/Users/robertpagano/Desktop/Kickstarter Data/Kickstarter_2016-09-15'\n",
    "path_aug2016 = r'/Users/robertpagano/Desktop/Kickstarter Data/Kickstarter_2016-08-15'\n",
    "path_jul2016 = r'/Users/robertpagano/Desktop/Kickstarter Data/Kickstarter_2016-07-15'\n",
    "path_jun2016 = r'/Users/robertpagano/Desktop/Kickstarter Data/Kickstarter_2016-06-15'\n",
    "path_may2016 = r'/Users/robertpagano/Desktop/Kickstarter Data/Kickstarter_2016-05-15'\n",
    "path_apr2016 = r'/Users/robertpagano/Desktop/Kickstarter Data/Kickstarter_2016-04-15'\n",
    "path_mar2016 = r'/Users/robertpagano/Desktop/Kickstarter Data/Kickstarter_2016-03-22'\n",
    "path_jan2016 = r'/Users/robertpagano/Desktop/Kickstarter Data/Kickstarter_2016-01-28'\n",
    "path_dec2015 = r'/Users/robertpagano/Desktop/Kickstarter Data/Kickstarter_2015-12-17'\n",
    "path_nov2015 = r'/Users/robertpagano/Desktop/Kickstarter Data/Kickstarter_2015-11-01'\n",
    "path_oct2015 = r'/Users/robertpagano/Desktop/Kickstarter Data/Kickstarter_2015-10-22'"
   ]
  },
  {
   "cell_type": "markdown",
   "metadata": {},
   "source": [
    "Running my cleaning functions on each, one file group at a time:\n",
    "\n",
    "- clean part 1\n",
    "- clean part 2\n",
    "- pickle df\n"
   ]
  },
  {
   "cell_type": "code",
   "execution_count": null,
   "metadata": {},
   "outputs": [],
   "source": [
    "df_dec2016 = ks.clean_final_1_c(path_dec2016)"
   ]
  },
  {
   "cell_type": "code",
   "execution_count": null,
   "metadata": {},
   "outputs": [],
   "source": [
    "df_dec2016 = ks.clean_final_2_e(df_dec2016)"
   ]
  },
  {
   "cell_type": "code",
   "execution_count": null,
   "metadata": {},
   "outputs": [],
   "source": [
    "with open('/Users/robertpagano/metis_data/project_4/interim/dec_2016_cleaned.pickle', 'wb') as to_write:\n",
    "    pickle.dump(df_dec2016, to_write)"
   ]
  },
  {
   "cell_type": "code",
   "execution_count": null,
   "metadata": {},
   "outputs": [],
   "source": []
  },
  {
   "cell_type": "code",
   "execution_count": null,
   "metadata": {},
   "outputs": [],
   "source": [
    "df_nov2016 = ks.clean_final_1_c(path_nov2016)"
   ]
  },
  {
   "cell_type": "code",
   "execution_count": null,
   "metadata": {},
   "outputs": [],
   "source": [
    "df_nov2016 = ks.clean_final_2_e(df_nov2016)"
   ]
  },
  {
   "cell_type": "code",
   "execution_count": null,
   "metadata": {},
   "outputs": [],
   "source": [
    "with open('/Users/robertpagano/metis_data/project_4/interim/nov_2016_cleaned.pickle', 'wb') as to_write:\n",
    "    pickle.dump(df_nov2016, to_write)"
   ]
  },
  {
   "cell_type": "code",
   "execution_count": null,
   "metadata": {},
   "outputs": [],
   "source": []
  },
  {
   "cell_type": "code",
   "execution_count": null,
   "metadata": {},
   "outputs": [],
   "source": [
    "df_oct2016 = ks.clean_final_1_c(path_oct2016)"
   ]
  },
  {
   "cell_type": "code",
   "execution_count": null,
   "metadata": {},
   "outputs": [],
   "source": [
    "df_oct2016 = ks.clean_final_2_e(df_oct2016)"
   ]
  },
  {
   "cell_type": "code",
   "execution_count": null,
   "metadata": {},
   "outputs": [],
   "source": [
    "with open('/Users/robertpagano/metis_data/project_4/interim/oct_2016_cleaned.pickle', 'wb') as to_write:\n",
    "    pickle.dump(df_oct2016, to_write)"
   ]
  },
  {
   "cell_type": "code",
   "execution_count": null,
   "metadata": {},
   "outputs": [],
   "source": []
  },
  {
   "cell_type": "code",
   "execution_count": null,
   "metadata": {},
   "outputs": [],
   "source": [
    "df_sep2016 = ks.clean_final_1_c(path_sep2016)"
   ]
  },
  {
   "cell_type": "code",
   "execution_count": null,
   "metadata": {},
   "outputs": [],
   "source": [
    "df_sep2016 = ks.clean_final_2_e(df_sep2016)"
   ]
  },
  {
   "cell_type": "code",
   "execution_count": null,
   "metadata": {},
   "outputs": [],
   "source": [
    "with open('/Users/robertpagano/metis_data/project_4/interim/sep_2016_cleaned.pickle', 'wb') as to_write:\n",
    "    pickle.dump(df_sep2016, to_write)"
   ]
  },
  {
   "cell_type": "code",
   "execution_count": null,
   "metadata": {},
   "outputs": [],
   "source": []
  },
  {
   "cell_type": "code",
   "execution_count": null,
   "metadata": {},
   "outputs": [],
   "source": [
    "df_aug2016 = ks.clean_final_1_c(path_aug2016)"
   ]
  },
  {
   "cell_type": "code",
   "execution_count": null,
   "metadata": {},
   "outputs": [],
   "source": [
    "df_aug2016 = ks.clean_final_2_e(df_aug2016)"
   ]
  },
  {
   "cell_type": "code",
   "execution_count": null,
   "metadata": {},
   "outputs": [],
   "source": [
    "with open('/Users/robertpagano/metis_data/project_4/interim/aug_2016_cleaned.pickle', 'wb') as to_write:\n",
    "    pickle.dump(df_aug2016, to_write)"
   ]
  },
  {
   "cell_type": "code",
   "execution_count": null,
   "metadata": {},
   "outputs": [],
   "source": []
  },
  {
   "cell_type": "code",
   "execution_count": null,
   "metadata": {},
   "outputs": [],
   "source": [
    "df_jul2016 = ks.clean_final_1_c(path_jul2016)"
   ]
  },
  {
   "cell_type": "code",
   "execution_count": null,
   "metadata": {},
   "outputs": [],
   "source": [
    "df_jul2016 = ks.clean_final_2_e(df_jul2016)"
   ]
  },
  {
   "cell_type": "code",
   "execution_count": null,
   "metadata": {},
   "outputs": [],
   "source": [
    "with open('/Users/robertpagano/metis_data/project_4/interim/jul_2016_cleaned.pickle', 'wb') as to_write:\n",
    "    pickle.dump(df_jul2016, to_write)"
   ]
  },
  {
   "cell_type": "code",
   "execution_count": null,
   "metadata": {},
   "outputs": [],
   "source": []
  },
  {
   "cell_type": "code",
   "execution_count": null,
   "metadata": {},
   "outputs": [],
   "source": [
    "df_jun2016 = ks.clean_final_1_c(path_jun2016)"
   ]
  },
  {
   "cell_type": "code",
   "execution_count": null,
   "metadata": {},
   "outputs": [],
   "source": [
    "df_jun2016 = ks.clean_final_2_e(df_jun2016)"
   ]
  },
  {
   "cell_type": "code",
   "execution_count": null,
   "metadata": {},
   "outputs": [],
   "source": [
    "with open('/Users/robertpagano/metis_data/project_4/interim/jun_2016_cleaned.pickle', 'wb') as to_write:\n",
    "    pickle.dump(df_jun2016, to_write)"
   ]
  },
  {
   "cell_type": "code",
   "execution_count": null,
   "metadata": {},
   "outputs": [],
   "source": []
  },
  {
   "cell_type": "code",
   "execution_count": null,
   "metadata": {},
   "outputs": [],
   "source": [
    "df_may2016 = ks.clean_final_1_c(path_may2016)"
   ]
  },
  {
   "cell_type": "code",
   "execution_count": null,
   "metadata": {},
   "outputs": [],
   "source": [
    "df_may2016 = ks.clean_final_2_e(df_may2016)"
   ]
  },
  {
   "cell_type": "code",
   "execution_count": null,
   "metadata": {},
   "outputs": [],
   "source": [
    "with open('/Users/robertpagano/metis_data/project_4/interim/may_2016_cleaned.pickle', 'wb') as to_write:\n",
    "    pickle.dump(df_may2016, to_write)"
   ]
  },
  {
   "cell_type": "code",
   "execution_count": null,
   "metadata": {},
   "outputs": [],
   "source": []
  },
  {
   "cell_type": "code",
   "execution_count": null,
   "metadata": {},
   "outputs": [],
   "source": [
    "df_apr2016 = ks.clean_final_1_c(path_apr2016)"
   ]
  },
  {
   "cell_type": "code",
   "execution_count": null,
   "metadata": {},
   "outputs": [],
   "source": [
    "df_apr2016 = ks.clean_final_2_e(df_apr2016)"
   ]
  },
  {
   "cell_type": "code",
   "execution_count": null,
   "metadata": {},
   "outputs": [],
   "source": [
    "with open('/Users/robertpagano/metis_data/project_4/interim/apr_2016_cleaned.pickle', 'wb') as to_write:\n",
    "    pickle.dump(df_apr2016, to_write)"
   ]
  },
  {
   "cell_type": "code",
   "execution_count": null,
   "metadata": {},
   "outputs": [],
   "source": []
  },
  {
   "cell_type": "code",
   "execution_count": null,
   "metadata": {},
   "outputs": [],
   "source": [
    "df_mar2016 = ks.clean_final_1_c(path_mar2016)"
   ]
  },
  {
   "cell_type": "code",
   "execution_count": null,
   "metadata": {},
   "outputs": [],
   "source": [
    "df_mar2016 = ks.clean_final_2_e(df_mar2016)"
   ]
  },
  {
   "cell_type": "code",
   "execution_count": null,
   "metadata": {},
   "outputs": [],
   "source": [
    "with open('/Users/robertpagano/metis_data/project_4/interim/mar_2016_cleaned.pickle', 'wb') as to_write:\n",
    "    pickle.dump(df_mar2016, to_write)"
   ]
  },
  {
   "cell_type": "code",
   "execution_count": null,
   "metadata": {},
   "outputs": [],
   "source": []
  },
  {
   "cell_type": "code",
   "execution_count": null,
   "metadata": {},
   "outputs": [],
   "source": [
    "df_jan2016 = ks.clean_final_1_c(path_jan2016)"
   ]
  },
  {
   "cell_type": "code",
   "execution_count": null,
   "metadata": {},
   "outputs": [],
   "source": [
    "df_jan2016 = ks.clean_final_2_e(df_jan2016)"
   ]
  },
  {
   "cell_type": "code",
   "execution_count": null,
   "metadata": {},
   "outputs": [],
   "source": [
    "with open('/Users/robertpagano/metis_data/project_4/interim/jan_2016_cleaned.pickle', 'wb') as to_write:\n",
    "    pickle.dump(df_jan2016, to_write)"
   ]
  },
  {
   "cell_type": "code",
   "execution_count": null,
   "metadata": {},
   "outputs": [],
   "source": []
  },
  {
   "cell_type": "code",
   "execution_count": 4,
   "metadata": {},
   "outputs": [],
   "source": [
    "# df_dec2015 = ks.clean_final_1_c(path_dec2015)"
   ]
  },
  {
   "cell_type": "code",
   "execution_count": 7,
   "metadata": {},
   "outputs": [],
   "source": [
    "# df_dec2015 = ks.clean_final_2_f(path_dec2015)"
   ]
  },
  {
   "cell_type": "code",
   "execution_count": null,
   "metadata": {},
   "outputs": [],
   "source": [
    "# with open('/Users/robertpagano/metis_data/project_4/interim/dec_2015_cleaned.pickle', 'wb') as to_write:\n",
    "#     pickle.dump(df_dec2015, to_write)"
   ]
  },
  {
   "cell_type": "code",
   "execution_count": null,
   "metadata": {},
   "outputs": [],
   "source": []
  },
  {
   "cell_type": "code",
   "execution_count": null,
   "metadata": {},
   "outputs": [],
   "source": [
    "# df_nov2015 = ks.clean_final_1_c(path_nov2015)"
   ]
  },
  {
   "cell_type": "code",
   "execution_count": null,
   "metadata": {},
   "outputs": [],
   "source": [
    "# df_nov2015 = ks.clean_final_2_e(path_nov2015)"
   ]
  },
  {
   "cell_type": "code",
   "execution_count": null,
   "metadata": {},
   "outputs": [],
   "source": [
    "# with open('/Users/robertpagano/metis_data/project_4/interim/nov_2015_cleaned.pickle', 'wb') as to_write:\n",
    "#     pickle.dump(df_nov2015, to_write)"
   ]
  },
  {
   "cell_type": "code",
   "execution_count": null,
   "metadata": {},
   "outputs": [],
   "source": []
  },
  {
   "cell_type": "code",
   "execution_count": null,
   "metadata": {},
   "outputs": [],
   "source": [
    "# df_oct2015 = ks.clean_final_1_c(path_oct2015)"
   ]
  },
  {
   "cell_type": "code",
   "execution_count": null,
   "metadata": {},
   "outputs": [],
   "source": [
    "# df_oct2015 = ks.clean_final_2_e(path_oct2015)"
   ]
  },
  {
   "cell_type": "code",
   "execution_count": null,
   "metadata": {},
   "outputs": [],
   "source": [
    "# with open('/Users/robertpagano/metis_data/project_4/interim/oct_2015_cleaned.pickle', 'wb') as to_write:\n",
    "#     pickle.dump(df_oct2015, to_write)"
   ]
  }
 ],
 "metadata": {
  "kernelspec": {
   "display_name": "Python 3",
   "language": "python",
   "name": "python3"
  },
  "language_info": {
   "codemirror_mode": {
    "name": "ipython",
    "version": 3
   },
   "file_extension": ".py",
   "mimetype": "text/x-python",
   "name": "python",
   "nbconvert_exporter": "python",
   "pygments_lexer": "ipython3",
   "version": "3.6.7"
  }
 },
 "nbformat": 4,
 "nbformat_minor": 2
}
