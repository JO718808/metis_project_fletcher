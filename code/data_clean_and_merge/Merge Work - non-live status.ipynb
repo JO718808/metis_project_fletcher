{
 "cells": [
  {
   "cell_type": "code",
   "execution_count": 1,
   "metadata": {},
   "outputs": [],
   "source": [
    "import pandas as pd\n",
    "import numpy as np\n",
    "import glob, os\n",
    "import datetime\n",
    "import json\n",
    "\n",
    "import pickle\n",
    "\n",
    "pd.set_option('display.max_columns', None)  \n",
    "# pd.set_option('display.max_colwidth', 125)  # or 199"
   ]
  },
  {
   "cell_type": "code",
   "execution_count": 2,
   "metadata": {},
   "outputs": [],
   "source": [
    "import df_combine as dfc"
   ]
  },
  {
   "cell_type": "markdown",
   "metadata": {},
   "source": [
    "https://pandas.pydata.org/pandas-docs/stable/reference/api/pandas.DataFrame.drop_duplicates.html\n",
    "\n",
    "Need to drop_duplicates - remove all completely duplicated rows"
   ]
  },
  {
   "cell_type": "code",
   "execution_count": 3,
   "metadata": {},
   "outputs": [
    {
     "name": "stdout",
     "output_type": "stream",
     "text": [
      "test3\n"
     ]
    }
   ],
   "source": [
    "df_feb2019 = dfc.unpkl('feb_2019_cleaned')"
   ]
  },
  {
   "cell_type": "code",
   "execution_count": 4,
   "metadata": {},
   "outputs": [
    {
     "data": {
      "text/plain": [
       "(208474, 38)"
      ]
     },
     "execution_count": 4,
     "metadata": {},
     "output_type": "execute_result"
    }
   ],
   "source": [
    "df_feb2019.shape"
   ]
  },
  {
   "cell_type": "code",
   "execution_count": 5,
   "metadata": {},
   "outputs": [],
   "source": [
    "df_feb2019 = df_feb2019.drop_duplicates(subset='id')"
   ]
  },
  {
   "cell_type": "code",
   "execution_count": 6,
   "metadata": {},
   "outputs": [
    {
     "data": {
      "text/plain": [
       "(181534, 38)"
      ]
     },
     "execution_count": 6,
     "metadata": {},
     "output_type": "execute_result"
    }
   ],
   "source": [
    "df_feb2019.shape"
   ]
  },
  {
   "cell_type": "code",
   "execution_count": 7,
   "metadata": {},
   "outputs": [],
   "source": [
    "df_feb2019_non_live = dfc.filter_out_live(df_feb2019)"
   ]
  },
  {
   "cell_type": "code",
   "execution_count": 8,
   "metadata": {},
   "outputs": [
    {
     "data": {
      "text/plain": [
       "(179025, 38)"
      ]
     },
     "execution_count": 8,
     "metadata": {},
     "output_type": "execute_result"
    }
   ],
   "source": [
    "df_feb2019_non_live.shape"
   ]
  },
  {
   "cell_type": "code",
   "execution_count": 9,
   "metadata": {},
   "outputs": [],
   "source": [
    "df_nonlive_master = df_feb2019_non_live.copy()"
   ]
  },
  {
   "cell_type": "markdown",
   "metadata": {},
   "source": [
    "try to do it in one function, should end with shape:\n",
    "    (180866, 38)\n",
    "    After adding Jan. Success!\n",
    "    \n",
    "Now I will run the function once for each dataset. At the end, I will have all projects with final status in one dataframe.\n",
    "   "
   ]
  },
  {
   "cell_type": "code",
   "execution_count": 10,
   "metadata": {},
   "outputs": [
    {
     "name": "stdout",
     "output_type": "stream",
     "text": [
      "test3\n"
     ]
    }
   ],
   "source": [
    "df_nonlive_master = dfc.append_new_live_from_filename('jan_2019_cleaned', df_nonlive_master)"
   ]
  },
  {
   "cell_type": "code",
   "execution_count": 11,
   "metadata": {},
   "outputs": [
    {
     "data": {
      "text/plain": [
       "(180866, 38)"
      ]
     },
     "execution_count": 11,
     "metadata": {},
     "output_type": "execute_result"
    }
   ],
   "source": [
    "df_nonlive_master.shape"
   ]
  },
  {
   "cell_type": "code",
   "execution_count": 12,
   "metadata": {},
   "outputs": [
    {
     "name": "stdout",
     "output_type": "stream",
     "text": [
      "test3\n"
     ]
    },
    {
     "data": {
      "text/plain": [
       "(220743, 38)"
      ]
     },
     "execution_count": 12,
     "metadata": {},
     "output_type": "execute_result"
    }
   ],
   "source": [
    "df_nonlive_master = dfc.append_new_live_from_filename('dec_2018_cleaned', df_nonlive_master)\n",
    "df_nonlive_master.shape"
   ]
  },
  {
   "cell_type": "code",
   "execution_count": 14,
   "metadata": {},
   "outputs": [
    {
     "name": "stdout",
     "output_type": "stream",
     "text": [
      "test3\n"
     ]
    },
    {
     "data": {
      "text/plain": [
       "(220890, 38)"
      ]
     },
     "execution_count": 14,
     "metadata": {},
     "output_type": "execute_result"
    }
   ],
   "source": [
    "df_nonlive_master = dfc.append_new_live_from_filename('nov_2018_cleaned', df_nonlive_master)\n",
    "df_nonlive_master.shape"
   ]
  },
  {
   "cell_type": "code",
   "execution_count": 15,
   "metadata": {},
   "outputs": [
    {
     "name": "stdout",
     "output_type": "stream",
     "text": [
      "test3\n"
     ]
    },
    {
     "data": {
      "text/plain": [
       "(221102, 38)"
      ]
     },
     "execution_count": 15,
     "metadata": {},
     "output_type": "execute_result"
    }
   ],
   "source": [
    "df_nonlive_master = dfc.append_new_live_from_filename('oct_2018_cleaned', df_nonlive_master)\n",
    "df_nonlive_master.shape"
   ]
  },
  {
   "cell_type": "code",
   "execution_count": 16,
   "metadata": {},
   "outputs": [
    {
     "name": "stdout",
     "output_type": "stream",
     "text": [
      "test3\n"
     ]
    },
    {
     "data": {
      "text/plain": [
       "(221559, 38)"
      ]
     },
     "execution_count": 16,
     "metadata": {},
     "output_type": "execute_result"
    }
   ],
   "source": [
    "df_nonlive_master = dfc.append_new_live_from_filename('sep_2018_cleaned', df_nonlive_master)\n",
    "df_nonlive_master.shape"
   ]
  },
  {
   "cell_type": "code",
   "execution_count": 17,
   "metadata": {},
   "outputs": [
    {
     "name": "stdout",
     "output_type": "stream",
     "text": [
      "test3\n"
     ]
    },
    {
     "data": {
      "text/plain": [
       "(221968, 38)"
      ]
     },
     "execution_count": 17,
     "metadata": {},
     "output_type": "execute_result"
    }
   ],
   "source": [
    "df_nonlive_master = dfc.append_new_live_from_filename('aug_2018_cleaned', df_nonlive_master)\n",
    "df_nonlive_master.shape"
   ]
  },
  {
   "cell_type": "code",
   "execution_count": 18,
   "metadata": {},
   "outputs": [
    {
     "name": "stdout",
     "output_type": "stream",
     "text": [
      "test3\n"
     ]
    },
    {
     "data": {
      "text/plain": [
       "(222303, 38)"
      ]
     },
     "execution_count": 18,
     "metadata": {},
     "output_type": "execute_result"
    }
   ],
   "source": [
    "df_nonlive_master = dfc.append_new_live_from_filename('jul_2018_cleaned', df_nonlive_master)\n",
    "df_nonlive_master.shape"
   ]
  },
  {
   "cell_type": "code",
   "execution_count": 19,
   "metadata": {},
   "outputs": [
    {
     "name": "stdout",
     "output_type": "stream",
     "text": [
      "test3\n"
     ]
    },
    {
     "data": {
      "text/plain": [
       "(222821, 38)"
      ]
     },
     "execution_count": 19,
     "metadata": {},
     "output_type": "execute_result"
    }
   ],
   "source": [
    "df_nonlive_master = dfc.append_new_live_from_filename('jun_2018_cleaned', df_nonlive_master)\n",
    "df_nonlive_master.shape"
   ]
  },
  {
   "cell_type": "code",
   "execution_count": 20,
   "metadata": {},
   "outputs": [
    {
     "name": "stdout",
     "output_type": "stream",
     "text": [
      "test3\n"
     ]
    },
    {
     "data": {
      "text/plain": [
       "(223584, 38)"
      ]
     },
     "execution_count": 20,
     "metadata": {},
     "output_type": "execute_result"
    }
   ],
   "source": [
    "df_nonlive_master = dfc.append_new_live_from_filename('may_2018_cleaned', df_nonlive_master)\n",
    "df_nonlive_master.shape"
   ]
  },
  {
   "cell_type": "code",
   "execution_count": 21,
   "metadata": {},
   "outputs": [
    {
     "name": "stdout",
     "output_type": "stream",
     "text": [
      "test3\n"
     ]
    },
    {
     "data": {
      "text/plain": [
       "(233510, 38)"
      ]
     },
     "execution_count": 21,
     "metadata": {},
     "output_type": "execute_result"
    }
   ],
   "source": [
    "df_nonlive_master = dfc.append_new_live_from_filename('apr_2018_cleaned', df_nonlive_master)\n",
    "df_nonlive_master.shape"
   ]
  },
  {
   "cell_type": "code",
   "execution_count": 22,
   "metadata": {},
   "outputs": [
    {
     "name": "stdout",
     "output_type": "stream",
     "text": [
      "test3\n"
     ]
    },
    {
     "data": {
      "text/plain": [
       "(234063, 39)"
      ]
     },
     "execution_count": 22,
     "metadata": {},
     "output_type": "execute_result"
    }
   ],
   "source": [
    "df_nonlive_master = dfc.append_new_live_from_filename('mar_2018_cleaned', df_nonlive_master)\n",
    "df_nonlive_master.shape"
   ]
  },
  {
   "cell_type": "code",
   "execution_count": 23,
   "metadata": {},
   "outputs": [
    {
     "name": "stdout",
     "output_type": "stream",
     "text": [
      "test3\n"
     ]
    },
    {
     "data": {
      "text/plain": [
       "(234260, 53)"
      ]
     },
     "execution_count": 23,
     "metadata": {},
     "output_type": "execute_result"
    }
   ],
   "source": [
    "df_nonlive_master = dfc.append_new_live_from_filename('feb_2018_cleaned', df_nonlive_master)\n",
    "df_nonlive_master.shape"
   ]
  },
  {
   "cell_type": "code",
   "execution_count": 24,
   "metadata": {},
   "outputs": [
    {
     "name": "stdout",
     "output_type": "stream",
     "text": [
      "test3\n"
     ]
    },
    {
     "data": {
      "text/plain": [
       "(234849, 53)"
      ]
     },
     "execution_count": 24,
     "metadata": {},
     "output_type": "execute_result"
    }
   ],
   "source": [
    "df_nonlive_master = dfc.append_new_live_from_filename('jan_2018_cleaned', df_nonlive_master)\n",
    "df_nonlive_master.shape"
   ]
  },
  {
   "cell_type": "code",
   "execution_count": 27,
   "metadata": {},
   "outputs": [
    {
     "data": {
      "text/plain": [
       "film & video    32880\n",
       "music           32561\n",
       "technology      25501\n",
       "art             23492\n",
       "publishing      19864\n",
       "games           17926\n",
       "food            17470\n",
       "fashion         14980\n",
       "design          10918\n",
       "comics           9828\n",
       "photography      7568\n",
       "theater          7363\n",
       "crafts           6356\n",
       "journalism       4893\n",
       "dance            3249\n",
       "Name: category_main, dtype: int64"
      ]
     },
     "execution_count": 27,
     "metadata": {},
     "output_type": "execute_result"
    }
   ],
   "source": [
    "df_nonlive_master['category_main'].value_counts()"
   ]
  },
  {
   "cell_type": "code",
   "execution_count": 28,
   "metadata": {},
   "outputs": [
    {
     "data": {
      "text/plain": [
       "successful    129019\n",
       "failed         95098\n",
       "canceled       10148\n",
       "suspended        584\n",
       "Name: state, dtype: int64"
      ]
     },
     "execution_count": 28,
     "metadata": {},
     "output_type": "execute_result"
    }
   ],
   "source": [
    "df_nonlive_master['state'].value_counts()"
   ]
  },
  {
   "cell_type": "code",
   "execution_count": 29,
   "metadata": {},
   "outputs": [
    {
     "data": {
      "text/plain": [
       "(234849, 38)"
      ]
     },
     "execution_count": 29,
     "metadata": {},
     "output_type": "execute_result"
    }
   ],
   "source": [
    "df_nonlive_master = df_nonlive_master.drop(columns=['source_url', 'creator_chosen_currency',\n",
    "       'creator_is_registered', 'creator_urls', 'profile_background_color',\n",
    "       'profile_background_image_attributes',\n",
    "       'profile_background_image_opacity', 'profile_blurb',\n",
    "       'profile_feature_image_attributes', 'profile_link_text_color',\n",
    "       'profile_link_url', 'profile_name',\n",
    "       'profile_should_show_feature_image_section',\n",
    "       'profile_show_feature_image', 'profile_state_changed_at'])\n",
    "df_nonlive_master.shape"
   ]
  },
  {
   "cell_type": "code",
   "execution_count": 30,
   "metadata": {},
   "outputs": [],
   "source": [
    "with open('/Users/robertpagano/metis_data/project_4/interim/all_non_live_cleaned.pickle', 'wb') as to_write:\n",
    "    pickle.dump(df_nonlive_master, to_write)"
   ]
  },
  {
   "cell_type": "markdown",
   "metadata": {},
   "source": [
    "\n",
    "So for non-live master, order is:\n",
    "\t1. unpickle df\n",
    "\t2. drop dups in that df (subset = 'id')\n",
    "\t3. filter out live\n",
    "\t4. append to the master (this also de-dups on subset id)\n",
    "\t6. repeat untill all the way through files\n",
    "\n",
    "SUCCESS. Now to move on to live statuses. \n",
    "\n",
    "Then for live master, order is:\n",
    "\t1. unpickle df\n",
    "\t2. drop dups in that df (subset = 'id')\n",
    "\t3. filter out non-live records\n",
    "\t4. append to master\n",
    "\t5. sort master by date\n",
    "\t6. drop dups in master (subset='id', keep='last' so that it keeps the last entry in live (most info))\n",
    "\t7. repeat until all the way through files\n",
    "\t8. Once I have all live records, will need to append all \"final statuses\" as the final target variable\n",
    "\t\t\t--remove any records that don't have this\n",
    "\t9. Then I just need to look at my value counts by category, and narrow my focus on category\n",
    "\n",
    "\tAfter that, it's NLP time\n",
    "\n"
   ]
  },
  {
   "cell_type": "code",
   "execution_count": 31,
   "metadata": {},
   "outputs": [
    {
     "name": "stdout",
     "output_type": "stream",
     "text": [
      "test3\n"
     ]
    },
    {
     "data": {
      "text/plain": [
       "(234938, 38)"
      ]
     },
     "execution_count": 31,
     "metadata": {},
     "output_type": "execute_result"
    }
   ],
   "source": [
    "df_nonlive_master = dfc.append_new_live_from_filename('dec_2017_cleaned', df_nonlive_master)\n",
    "df_nonlive_master.shape"
   ]
  },
  {
   "cell_type": "code",
   "execution_count": 32,
   "metadata": {},
   "outputs": [
    {
     "name": "stdout",
     "output_type": "stream",
     "text": [
      "test3\n"
     ]
    },
    {
     "data": {
      "text/plain": [
       "(235080, 38)"
      ]
     },
     "execution_count": 32,
     "metadata": {},
     "output_type": "execute_result"
    }
   ],
   "source": [
    "df_nonlive_master = dfc.append_new_live_from_filename('nov_2017_cleaned', df_nonlive_master)\n",
    "df_nonlive_master.shape"
   ]
  },
  {
   "cell_type": "code",
   "execution_count": 33,
   "metadata": {},
   "outputs": [
    {
     "name": "stdout",
     "output_type": "stream",
     "text": [
      "test3\n"
     ]
    },
    {
     "data": {
      "text/plain": [
       "(235395, 38)"
      ]
     },
     "execution_count": 33,
     "metadata": {},
     "output_type": "execute_result"
    }
   ],
   "source": [
    "df_nonlive_master = dfc.append_new_live_from_filename('oct_2017_cleaned', df_nonlive_master)\n",
    "df_nonlive_master.shape"
   ]
  },
  {
   "cell_type": "code",
   "execution_count": 34,
   "metadata": {},
   "outputs": [
    {
     "name": "stdout",
     "output_type": "stream",
     "text": [
      "test3\n"
     ]
    },
    {
     "data": {
      "text/plain": [
       "(235675, 38)"
      ]
     },
     "execution_count": 34,
     "metadata": {},
     "output_type": "execute_result"
    }
   ],
   "source": [
    "df_nonlive_master = dfc.append_new_live_from_filename('sep_2017_cleaned', df_nonlive_master)\n",
    "df_nonlive_master.shape"
   ]
  },
  {
   "cell_type": "code",
   "execution_count": 35,
   "metadata": {},
   "outputs": [
    {
     "name": "stdout",
     "output_type": "stream",
     "text": [
      "test3\n"
     ]
    },
    {
     "data": {
      "text/plain": [
       "(245194, 38)"
      ]
     },
     "execution_count": 35,
     "metadata": {},
     "output_type": "execute_result"
    }
   ],
   "source": [
    "df_nonlive_master = dfc.append_new_live_from_filename('aug_2017_cleaned', df_nonlive_master)\n",
    "df_nonlive_master.shape"
   ]
  },
  {
   "cell_type": "code",
   "execution_count": 36,
   "metadata": {},
   "outputs": [
    {
     "name": "stdout",
     "output_type": "stream",
     "text": [
      "test3\n"
     ]
    },
    {
     "data": {
      "text/plain": [
       "(269408, 38)"
      ]
     },
     "execution_count": 36,
     "metadata": {},
     "output_type": "execute_result"
    }
   ],
   "source": [
    "df_nonlive_master = dfc.append_new_live_from_filename('jul_2017_cleaned', df_nonlive_master)\n",
    "df_nonlive_master.shape"
   ]
  },
  {
   "cell_type": "code",
   "execution_count": 37,
   "metadata": {},
   "outputs": [
    {
     "name": "stdout",
     "output_type": "stream",
     "text": [
      "test3\n"
     ]
    },
    {
     "data": {
      "text/plain": [
       "(269642, 38)"
      ]
     },
     "execution_count": 37,
     "metadata": {},
     "output_type": "execute_result"
    }
   ],
   "source": [
    "df_nonlive_master = dfc.append_new_live_from_filename('jun_2017_cleaned', df_nonlive_master)\n",
    "df_nonlive_master.shape"
   ]
  },
  {
   "cell_type": "code",
   "execution_count": 38,
   "metadata": {},
   "outputs": [
    {
     "name": "stdout",
     "output_type": "stream",
     "text": [
      "test3\n"
     ]
    },
    {
     "data": {
      "text/plain": [
       "(276117, 38)"
      ]
     },
     "execution_count": 38,
     "metadata": {},
     "output_type": "execute_result"
    }
   ],
   "source": [
    "df_nonlive_master = dfc.append_new_live_from_filename('may_2017_cleaned', df_nonlive_master)\n",
    "df_nonlive_master.shape"
   ]
  },
  {
   "cell_type": "code",
   "execution_count": 39,
   "metadata": {},
   "outputs": [
    {
     "name": "stdout",
     "output_type": "stream",
     "text": [
      "test3\n"
     ]
    },
    {
     "data": {
      "text/plain": [
       "(277860, 38)"
      ]
     },
     "execution_count": 39,
     "metadata": {},
     "output_type": "execute_result"
    }
   ],
   "source": [
    "df_nonlive_master = dfc.append_new_live_from_filename('apr_2017_cleaned', df_nonlive_master)\n",
    "df_nonlive_master.shape"
   ]
  },
  {
   "cell_type": "code",
   "execution_count": 40,
   "metadata": {},
   "outputs": [
    {
     "name": "stdout",
     "output_type": "stream",
     "text": [
      "test3\n"
     ]
    },
    {
     "data": {
      "text/plain": [
       "(279819, 38)"
      ]
     },
     "execution_count": 40,
     "metadata": {},
     "output_type": "execute_result"
    }
   ],
   "source": [
    "df_nonlive_master = dfc.append_new_live_from_filename('mar_2017_cleaned', df_nonlive_master)\n",
    "df_nonlive_master.shape"
   ]
  },
  {
   "cell_type": "code",
   "execution_count": 41,
   "metadata": {},
   "outputs": [
    {
     "name": "stdout",
     "output_type": "stream",
     "text": [
      "test3\n"
     ]
    },
    {
     "data": {
      "text/plain": [
       "(281697, 38)"
      ]
     },
     "execution_count": 41,
     "metadata": {},
     "output_type": "execute_result"
    }
   ],
   "source": [
    "df_nonlive_master = dfc.append_new_live_from_filename('feb_2017_cleaned', df_nonlive_master)\n",
    "df_nonlive_master.shape"
   ]
  },
  {
   "cell_type": "code",
   "execution_count": 42,
   "metadata": {},
   "outputs": [
    {
     "name": "stdout",
     "output_type": "stream",
     "text": [
      "test3\n"
     ]
    },
    {
     "data": {
      "text/plain": [
       "(282016, 38)"
      ]
     },
     "execution_count": 42,
     "metadata": {},
     "output_type": "execute_result"
    }
   ],
   "source": [
    "df_nonlive_master = dfc.append_new_live_from_filename('jan_2017_cleaned', df_nonlive_master)\n",
    "df_nonlive_master.shape"
   ]
  },
  {
   "cell_type": "code",
   "execution_count": 44,
   "metadata": {},
   "outputs": [],
   "source": [
    "with open('/Users/robertpagano/metis_data/project_4/final/all_nonlive_cleaned_2017_to_present.pickle', 'wb') as to_write:\n",
    "    pickle.dump(df_nonlive_master, to_write)"
   ]
  },
  {
   "cell_type": "code",
   "execution_count": 3,
   "metadata": {},
   "outputs": [],
   "source": [
    "with open('/Users/robertpagano/metis_data/project_4/final/all_nonlive_cleaned_2017_to_present.pickle', 'rb') as f:\n",
    "    df_nonlive_master = pickle.load(f)"
   ]
  },
  {
   "cell_type": "code",
   "execution_count": 5,
   "metadata": {},
   "outputs": [
    {
     "name": "stdout",
     "output_type": "stream",
     "text": [
      "test4\n"
     ]
    },
    {
     "data": {
      "text/plain": [
       "(282289, 38)"
      ]
     },
     "execution_count": 5,
     "metadata": {},
     "output_type": "execute_result"
    }
   ],
   "source": [
    "df_nonlive_master = dfc.append_non_live_from_filename('dec_2016_cleaned', df_nonlive_master)\n",
    "df_nonlive_master.shape"
   ]
  },
  {
   "cell_type": "code",
   "execution_count": 6,
   "metadata": {},
   "outputs": [
    {
     "name": "stdout",
     "output_type": "stream",
     "text": [
      "test4\n"
     ]
    },
    {
     "data": {
      "text/plain": [
       "(282730, 41)"
      ]
     },
     "execution_count": 6,
     "metadata": {},
     "output_type": "execute_result"
    }
   ],
   "source": [
    "df_nonlive_master = dfc.append_non_live_from_filename('nov_2016_cleaned', df_nonlive_master)\n",
    "df_nonlive_master.shape"
   ]
  },
  {
   "cell_type": "code",
   "execution_count": 7,
   "metadata": {},
   "outputs": [
    {
     "name": "stdout",
     "output_type": "stream",
     "text": [
      "test4\n"
     ]
    },
    {
     "data": {
      "text/plain": [
       "(282857, 41)"
      ]
     },
     "execution_count": 7,
     "metadata": {},
     "output_type": "execute_result"
    }
   ],
   "source": [
    "df_nonlive_master = dfc.append_non_live_from_filename('oct_2016_cleaned', df_nonlive_master)\n",
    "df_nonlive_master.shape"
   ]
  },
  {
   "cell_type": "code",
   "execution_count": 8,
   "metadata": {},
   "outputs": [
    {
     "name": "stdout",
     "output_type": "stream",
     "text": [
      "test4\n"
     ]
    },
    {
     "data": {
      "text/plain": [
       "(283023, 41)"
      ]
     },
     "execution_count": 8,
     "metadata": {},
     "output_type": "execute_result"
    }
   ],
   "source": [
    "df_nonlive_master = dfc.append_non_live_from_filename('sep_2016_cleaned', df_nonlive_master)\n",
    "df_nonlive_master.shape"
   ]
  },
  {
   "cell_type": "code",
   "execution_count": 9,
   "metadata": {},
   "outputs": [
    {
     "name": "stdout",
     "output_type": "stream",
     "text": [
      "test4\n"
     ]
    },
    {
     "data": {
      "text/plain": [
       "(283272, 41)"
      ]
     },
     "execution_count": 9,
     "metadata": {},
     "output_type": "execute_result"
    }
   ],
   "source": [
    "df_nonlive_master = dfc.append_non_live_from_filename('aug_2016_cleaned', df_nonlive_master)\n",
    "df_nonlive_master.shape"
   ]
  },
  {
   "cell_type": "code",
   "execution_count": 10,
   "metadata": {},
   "outputs": [
    {
     "name": "stdout",
     "output_type": "stream",
     "text": [
      "test4\n"
     ]
    },
    {
     "data": {
      "text/plain": [
       "(283403, 41)"
      ]
     },
     "execution_count": 10,
     "metadata": {},
     "output_type": "execute_result"
    }
   ],
   "source": [
    "df_nonlive_master = dfc.append_non_live_from_filename('jul_2016_cleaned', df_nonlive_master)\n",
    "df_nonlive_master.shape"
   ]
  },
  {
   "cell_type": "code",
   "execution_count": 11,
   "metadata": {},
   "outputs": [
    {
     "name": "stdout",
     "output_type": "stream",
     "text": [
      "test4\n"
     ]
    },
    {
     "data": {
      "text/plain": [
       "(283543, 41)"
      ]
     },
     "execution_count": 11,
     "metadata": {},
     "output_type": "execute_result"
    }
   ],
   "source": [
    "df_nonlive_master = dfc.append_non_live_from_filename('jun_2016_cleaned', df_nonlive_master)\n",
    "df_nonlive_master.shape"
   ]
  },
  {
   "cell_type": "code",
   "execution_count": 12,
   "metadata": {},
   "outputs": [
    {
     "name": "stdout",
     "output_type": "stream",
     "text": [
      "test4\n"
     ]
    },
    {
     "data": {
      "text/plain": [
       "(283770, 41)"
      ]
     },
     "execution_count": 12,
     "metadata": {},
     "output_type": "execute_result"
    }
   ],
   "source": [
    "df_nonlive_master = dfc.append_non_live_from_filename('may_2016_cleaned', df_nonlive_master)\n",
    "df_nonlive_master.shape"
   ]
  },
  {
   "cell_type": "code",
   "execution_count": 13,
   "metadata": {},
   "outputs": [
    {
     "name": "stdout",
     "output_type": "stream",
     "text": [
      "test4\n"
     ]
    },
    {
     "data": {
      "text/plain": [
       "(283940, 41)"
      ]
     },
     "execution_count": 13,
     "metadata": {},
     "output_type": "execute_result"
    }
   ],
   "source": [
    "df_nonlive_master = dfc.append_non_live_from_filename('apr_2016_cleaned', df_nonlive_master)\n",
    "df_nonlive_master.shape"
   ]
  },
  {
   "cell_type": "code",
   "execution_count": 14,
   "metadata": {},
   "outputs": [
    {
     "name": "stdout",
     "output_type": "stream",
     "text": [
      "test4\n"
     ]
    },
    {
     "data": {
      "text/plain": [
       "(284085, 42)"
      ]
     },
     "execution_count": 14,
     "metadata": {},
     "output_type": "execute_result"
    }
   ],
   "source": [
    "df_nonlive_master = dfc.append_non_live_from_filename('mar_2016_cleaned', df_nonlive_master)\n",
    "df_nonlive_master.shape"
   ]
  },
  {
   "cell_type": "code",
   "execution_count": 15,
   "metadata": {},
   "outputs": [
    {
     "name": "stdout",
     "output_type": "stream",
     "text": [
      "test4\n"
     ]
    },
    {
     "data": {
      "text/plain": [
       "(284308, 42)"
      ]
     },
     "execution_count": 15,
     "metadata": {},
     "output_type": "execute_result"
    }
   ],
   "source": [
    "df_nonlive_master = dfc.append_non_live_from_filename('jan_2016_cleaned', df_nonlive_master)\n",
    "df_nonlive_master.shape"
   ]
  },
  {
   "cell_type": "code",
   "execution_count": 16,
   "metadata": {},
   "outputs": [
    {
     "data": {
      "text/plain": [
       "(284308, 38)"
      ]
     },
     "execution_count": 16,
     "metadata": {},
     "output_type": "execute_result"
    }
   ],
   "source": [
    "df_nonlive_master = df_nonlive_master.drop(columns=['unread_messages_count',\n",
    "       'unseen_activity_count', 'last_update_published_at',\n",
    "       'profile_should_show_feature_image'])\n",
    "\n",
    "df_nonlive_master.shape"
   ]
  },
  {
   "cell_type": "code",
   "execution_count": 18,
   "metadata": {},
   "outputs": [],
   "source": [
    "with open('/Users/robertpagano/metis_data/project_4/final/all_nonlive_cleaned_2016_to_present.pickle', 'wb') as to_write:\n",
    "    pickle.dump(df_nonlive_master, to_write)"
   ]
  },
  {
   "cell_type": "code",
   "execution_count": null,
   "metadata": {},
   "outputs": [],
   "source": []
  }
 ],
 "metadata": {
  "kernelspec": {
   "display_name": "Python 3",
   "language": "python",
   "name": "python3"
  },
  "language_info": {
   "codemirror_mode": {
    "name": "ipython",
    "version": 3
   },
   "file_extension": ".py",
   "mimetype": "text/x-python",
   "name": "python",
   "nbconvert_exporter": "python",
   "pygments_lexer": "ipython3",
   "version": "3.6.7"
  }
 },
 "nbformat": 4,
 "nbformat_minor": 2
}
