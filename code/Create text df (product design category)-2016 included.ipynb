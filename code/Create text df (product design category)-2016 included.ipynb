{
 "cells": [
  {
   "cell_type": "code",
   "execution_count": 1,
   "metadata": {},
   "outputs": [],
   "source": [
    "import pandas as pd\n",
    "import numpy as np\n",
    "import glob, os\n",
    "import datetime\n",
    "import json\n",
    "\n",
    "import pickle\n",
    "\n",
    "pd.set_option('display.max_columns', None)  \n",
    "# pd.set_option('display.max_colwidth', 125)  # or 199"
   ]
  },
  {
   "cell_type": "code",
   "execution_count": 2,
   "metadata": {},
   "outputs": [],
   "source": [
    "with open('/Users/robertpagano/metis_data/project_4/final/all_live_final_appended_2016_2019.pickle', 'rb') as f:\n",
    "    df = pickle.load(f)"
   ]
  },
  {
   "cell_type": "code",
   "execution_count": 3,
   "metadata": {},
   "outputs": [
    {
     "data": {
      "text/plain": [
       "technology      10314\n",
       "film & video     8745\n",
       "music            7020\n",
       "fashion          6990\n",
       "publishing       6688\n",
       "games            5902\n",
       "food             5621\n",
       "art              5198\n",
       "design           3343\n",
       "comics           3008\n",
       "photography      1824\n",
       "crafts           1806\n",
       "theater          1659\n",
       "journalism       1289\n",
       "dance             646\n",
       "Name: category_main, dtype: int64"
      ]
     },
     "execution_count": 3,
     "metadata": {},
     "output_type": "execute_result"
    }
   ],
   "source": [
    "df['category_main'].value_counts()"
   ]
  },
  {
   "cell_type": "code",
   "execution_count": 4,
   "metadata": {},
   "outputs": [
    {
     "data": {
      "text/plain": [
       "Apps                3205\n",
       "Apparel             3001\n",
       "Product Design      2112\n",
       "Web                 1989\n",
       "Accessories         1963\n",
       "Tabletop Games      1559\n",
       "Video Games         1551\n",
       "Comic Books         1327\n",
       "Gadgets             1326\n",
       "Children's Books    1286\n",
       "Restaurants         1249\n",
       "Playing Cards       1190\n",
       "Drinks              1185\n",
       "Comedy              1102\n",
       "Illustration        1099\n",
       "Drama               1040\n",
       "Nonfiction          1022\n",
       "Graphic Novels      1010\n",
       "Software             995\n",
       "Fiction              959\n",
       "Hip-Hop              951\n",
       "Documentary          915\n",
       "Hardware             912\n",
       "Webseries            876\n",
       "Mobile Games         840\n",
       "Food Trucks          738\n",
       "Art Books            735\n",
       "Country & Folk       709\n",
       "Photobooks           701\n",
       "Painting             699\n",
       "                    ... \n",
       "Movie Theaters        90\n",
       "Puzzles               83\n",
       "Latin                 82\n",
       "Translations          81\n",
       "Theater               80\n",
       "Design                80\n",
       "Animals               76\n",
       "Video Art             74\n",
       "Pet Fashion           73\n",
       "Photo                 70\n",
       "Journalism            66\n",
       "Fashion               65\n",
       "Workshops             62\n",
       "Pottery               59\n",
       "Knitting              57\n",
       "Crochet               56\n",
       "Literary Spaces       54\n",
       "Typography            48\n",
       "Embroidery            48\n",
       "Games                 45\n",
       "Glass                 43\n",
       "Photography           40\n",
       "Weaving               39\n",
       "Dance                 31\n",
       "Bacon                 29\n",
       "Residencies           28\n",
       "Quilts                25\n",
       "Letterpress           21\n",
       "Chiptune              11\n",
       "Taxidermy              2\n",
       "Name: category_name, Length: 159, dtype: int64"
      ]
     },
     "execution_count": 4,
     "metadata": {},
     "output_type": "execute_result"
    }
   ],
   "source": [
    "df['category_name'].value_counts()"
   ]
  },
  {
   "cell_type": "code",
   "execution_count": 5,
   "metadata": {},
   "outputs": [],
   "source": [
    "df_tech = df[df['category_main'] == 'technology']"
   ]
  },
  {
   "cell_type": "code",
   "execution_count": 6,
   "metadata": {},
   "outputs": [
    {
     "data": {
      "text/plain": [
       "(10314, 39)"
      ]
     },
     "execution_count": 6,
     "metadata": {},
     "output_type": "execute_result"
    }
   ],
   "source": [
    "df_tech.shape"
   ]
  },
  {
   "cell_type": "code",
   "execution_count": 7,
   "metadata": {},
   "outputs": [
    {
     "data": {
      "text/plain": [
       "Apps                 3205\n",
       "Web                  1459\n",
       "Gadgets              1326\n",
       "Software              995\n",
       "Hardware              912\n",
       "Wearables             594\n",
       "DIY Electronics       342\n",
       "Sound                 317\n",
       "Robots                218\n",
       "3D Printing           214\n",
       "Camera Equipment      164\n",
       "Flight                138\n",
       "Space Exploration     122\n",
       "Fabrication Tools     114\n",
       "Makerspaces           102\n",
       "Technology             92\n",
       "Name: category_name, dtype: int64"
      ]
     },
     "execution_count": 7,
     "metadata": {},
     "output_type": "execute_result"
    }
   ],
   "source": [
    "df_tech['category_name'].value_counts()"
   ]
  },
  {
   "cell_type": "code",
   "execution_count": 9,
   "metadata": {},
   "outputs": [],
   "source": [
    "df_games = df[df['category_main'] == 'games']"
   ]
  },
  {
   "cell_type": "code",
   "execution_count": 31,
   "metadata": {},
   "outputs": [
    {
     "data": {
      "text/plain": [
       "(5902, 39)"
      ]
     },
     "execution_count": 31,
     "metadata": {},
     "output_type": "execute_result"
    }
   ],
   "source": [
    "df_games.shape"
   ]
  },
  {
   "cell_type": "code",
   "execution_count": 32,
   "metadata": {},
   "outputs": [],
   "source": [
    "with open('/Users/robertpagano/metis_data/project_4/model_data/df_games_2016_2019.pickle', 'wb') as to_write:\n",
    "    pickle.dump(df_games, to_write)"
   ]
  },
  {
   "cell_type": "code",
   "execution_count": 30,
   "metadata": {},
   "outputs": [
    {
     "data": {
      "text/html": [
       "<div>\n",
       "<style scoped>\n",
       "    .dataframe tbody tr th:only-of-type {\n",
       "        vertical-align: middle;\n",
       "    }\n",
       "\n",
       "    .dataframe tbody tr th {\n",
       "        vertical-align: top;\n",
       "    }\n",
       "\n",
       "    .dataframe thead th {\n",
       "        text-align: right;\n",
       "    }\n",
       "</style>\n",
       "<table border=\"1\" class=\"dataframe\">\n",
       "  <thead>\n",
       "    <tr style=\"text-align: right;\">\n",
       "      <th></th>\n",
       "      <th>backers_count</th>\n",
       "      <th>blurb</th>\n",
       "      <th>converted_pledged_amount</th>\n",
       "      <th>country</th>\n",
       "      <th>goal</th>\n",
       "      <th>id</th>\n",
       "      <th>name</th>\n",
       "      <th>pledged</th>\n",
       "      <th>slug</th>\n",
       "      <th>staff_pick</th>\n",
       "      <th>state</th>\n",
       "      <th>state_changed_at</th>\n",
       "      <th>static_usd_rate</th>\n",
       "      <th>usd_pledged</th>\n",
       "      <th>date_created</th>\n",
       "      <th>deadline_date</th>\n",
       "      <th>launched_date</th>\n",
       "      <th>date_state_changed</th>\n",
       "      <th>time_to_launch</th>\n",
       "      <th>day_limit</th>\n",
       "      <th>current_date</th>\n",
       "      <th>days_left</th>\n",
       "      <th>days_in_field</th>\n",
       "      <th>manual_usd_rate</th>\n",
       "      <th>converted_goal</th>\n",
       "      <th>category_id</th>\n",
       "      <th>category_name</th>\n",
       "      <th>category_position</th>\n",
       "      <th>category_slug</th>\n",
       "      <th>creator_id</th>\n",
       "      <th>profile_id</th>\n",
       "      <th>profile_project_id</th>\n",
       "      <th>urls_project</th>\n",
       "      <th>category_main</th>\n",
       "      <th>remaining_money_needed</th>\n",
       "      <th>money_needed_by_day</th>\n",
       "      <th>money_gained_per_day</th>\n",
       "      <th>current_by_remaining_rate</th>\n",
       "      <th>final_state</th>\n",
       "    </tr>\n",
       "  </thead>\n",
       "  <tbody>\n",
       "    <tr>\n",
       "      <th>1796</th>\n",
       "      <td>107</td>\n",
       "      <td>An artistic professional pack of playing cards...</td>\n",
       "      <td>5125.0</td>\n",
       "      <td>CA</td>\n",
       "      <td>8000.0</td>\n",
       "      <td>269726791</td>\n",
       "      <td>Emanations Playing Cards | A Study of Real Magic</td>\n",
       "      <td>6770.29</td>\n",
       "      <td>emanations-playing-cards-a-study-of-real-magic</td>\n",
       "      <td>False</td>\n",
       "      <td>live</td>\n",
       "      <td>1549665049</td>\n",
       "      <td>0.755093</td>\n",
       "      <td>5112.199264</td>\n",
       "      <td>2019-01-12 02:34:21</td>\n",
       "      <td>2019-03-01 04:55:00</td>\n",
       "      <td>2019-02-08 22:30:48</td>\n",
       "      <td>2019-02-08 22:30:49</td>\n",
       "      <td>27</td>\n",
       "      <td>20</td>\n",
       "      <td>2019-02-14</td>\n",
       "      <td>15</td>\n",
       "      <td>6</td>\n",
       "      <td>0.757016</td>\n",
       "      <td>6041</td>\n",
       "      <td>273</td>\n",
       "      <td>Playing Cards</td>\n",
       "      <td>4</td>\n",
       "      <td>games/playing cards</td>\n",
       "      <td>1.972596e+09</td>\n",
       "      <td>3551993</td>\n",
       "      <td>3551993</td>\n",
       "      <td>https://www.kickstarter.com/projects/mahdigilb...</td>\n",
       "      <td>games</td>\n",
       "      <td>916.0</td>\n",
       "      <td>61.066667</td>\n",
       "      <td>854.166667</td>\n",
       "      <td>13.987445</td>\n",
       "      <td>successful</td>\n",
       "    </tr>\n",
       "    <tr>\n",
       "      <th>2575</th>\n",
       "      <td>171</td>\n",
       "      <td>Make it rain pancakes in FAT STACKS. \\nCreate ...</td>\n",
       "      <td>6587.0</td>\n",
       "      <td>US</td>\n",
       "      <td>10000.0</td>\n",
       "      <td>1697621882</td>\n",
       "      <td>FAT STACKS: The Pancake Stacking Strategy Card...</td>\n",
       "      <td>6587.00</td>\n",
       "      <td>fat-stacks</td>\n",
       "      <td>False</td>\n",
       "      <td>live</td>\n",
       "      <td>1546614890</td>\n",
       "      <td>1.000000</td>\n",
       "      <td>6587.000000</td>\n",
       "      <td>2018-12-22 23:03:04</td>\n",
       "      <td>2019-02-03 15:14:49</td>\n",
       "      <td>2019-01-04 15:14:49</td>\n",
       "      <td>2019-01-04 15:14:50</td>\n",
       "      <td>12</td>\n",
       "      <td>30</td>\n",
       "      <td>2019-01-17</td>\n",
       "      <td>17</td>\n",
       "      <td>13</td>\n",
       "      <td>1.000000</td>\n",
       "      <td>10000</td>\n",
       "      <td>34</td>\n",
       "      <td>Tabletop Games</td>\n",
       "      <td>6</td>\n",
       "      <td>games/tabletop games</td>\n",
       "      <td>1.790178e+08</td>\n",
       "      <td>3540073</td>\n",
       "      <td>3540073</td>\n",
       "      <td>https://www.kickstarter.com/projects/candycode...</td>\n",
       "      <td>games</td>\n",
       "      <td>3413.0</td>\n",
       "      <td>200.764706</td>\n",
       "      <td>506.692308</td>\n",
       "      <td>2.523812</td>\n",
       "      <td>successful</td>\n",
       "    </tr>\n",
       "    <tr>\n",
       "      <th>2594</th>\n",
       "      <td>133</td>\n",
       "      <td>Endless playability, stunning artwork and fant...</td>\n",
       "      <td>4856.0</td>\n",
       "      <td>US</td>\n",
       "      <td>10000.0</td>\n",
       "      <td>2046938895</td>\n",
       "      <td>Royal Heroz - Fantasy Strategy Playing Cards</td>\n",
       "      <td>4856.00</td>\n",
       "      <td>royal-heroz-fantasy-strategy-playing-cards</td>\n",
       "      <td>False</td>\n",
       "      <td>live</td>\n",
       "      <td>1543496274</td>\n",
       "      <td>1.000000</td>\n",
       "      <td>4856.000000</td>\n",
       "      <td>2018-11-06 04:12:47</td>\n",
       "      <td>2019-01-28 12:57:53</td>\n",
       "      <td>2018-11-29 12:57:53</td>\n",
       "      <td>2018-11-29 12:57:54</td>\n",
       "      <td>23</td>\n",
       "      <td>60</td>\n",
       "      <td>2019-01-17</td>\n",
       "      <td>11</td>\n",
       "      <td>49</td>\n",
       "      <td>1.000000</td>\n",
       "      <td>10000</td>\n",
       "      <td>273</td>\n",
       "      <td>Playing Cards</td>\n",
       "      <td>4</td>\n",
       "      <td>games/playing cards</td>\n",
       "      <td>1.539175e+09</td>\n",
       "      <td>3508195</td>\n",
       "      <td>3508195</td>\n",
       "      <td>https://www.kickstarter.com/projects/153917502...</td>\n",
       "      <td>games</td>\n",
       "      <td>5144.0</td>\n",
       "      <td>467.636364</td>\n",
       "      <td>99.102041</td>\n",
       "      <td>0.211921</td>\n",
       "      <td>successful</td>\n",
       "    </tr>\n",
       "    <tr>\n",
       "      <th>2665</th>\n",
       "      <td>187</td>\n",
       "      <td>In 'Coral', use dice to make shapes in 3D! In ...</td>\n",
       "      <td>7420.0</td>\n",
       "      <td>GB</td>\n",
       "      <td>6500.0</td>\n",
       "      <td>1642293087</td>\n",
       "      <td>Coral Islands : 2 interactive dice-stacking ga...</td>\n",
       "      <td>5772.00</td>\n",
       "      <td>coral-islands-2-interactive-dice-stacking-game...</td>\n",
       "      <td>False</td>\n",
       "      <td>live</td>\n",
       "      <td>1547640130</td>\n",
       "      <td>1.289925</td>\n",
       "      <td>7445.445830</td>\n",
       "      <td>2018-11-21 13:04:17</td>\n",
       "      <td>2019-02-05 22:30:00</td>\n",
       "      <td>2019-01-16 12:02:09</td>\n",
       "      <td>2019-01-16 12:02:10</td>\n",
       "      <td>55</td>\n",
       "      <td>20</td>\n",
       "      <td>2019-01-17</td>\n",
       "      <td>19</td>\n",
       "      <td>1</td>\n",
       "      <td>1.285516</td>\n",
       "      <td>8385</td>\n",
       "      <td>34</td>\n",
       "      <td>Tabletop Games</td>\n",
       "      <td>6</td>\n",
       "      <td>games/tabletop games</td>\n",
       "      <td>1.529264e+09</td>\n",
       "      <td>3519666</td>\n",
       "      <td>3519666</td>\n",
       "      <td>https://www.kickstarter.com/projects/alleycatg...</td>\n",
       "      <td>games</td>\n",
       "      <td>965.0</td>\n",
       "      <td>50.789474</td>\n",
       "      <td>7420.000000</td>\n",
       "      <td>146.093264</td>\n",
       "      <td>successful</td>\n",
       "    </tr>\n",
       "    <tr>\n",
       "      <th>2668</th>\n",
       "      <td>6</td>\n",
       "      <td>Online 3D Stores for businesses that blur 3D G...</td>\n",
       "      <td>91.0</td>\n",
       "      <td>US</td>\n",
       "      <td>50000.0</td>\n",
       "      <td>932587626</td>\n",
       "      <td>3D Shopping with WalkTheWeb 3D Technology!</td>\n",
       "      <td>91.00</td>\n",
       "      <td>3d-shopping-with-walktheweb-franchising-3d-web...</td>\n",
       "      <td>False</td>\n",
       "      <td>live</td>\n",
       "      <td>1544716132</td>\n",
       "      <td>1.000000</td>\n",
       "      <td>91.000000</td>\n",
       "      <td>2018-11-29 16:30:36</td>\n",
       "      <td>2019-02-11 15:48:51</td>\n",
       "      <td>2018-12-13 15:48:51</td>\n",
       "      <td>2018-12-13 15:48:52</td>\n",
       "      <td>13</td>\n",
       "      <td>60</td>\n",
       "      <td>2019-01-17</td>\n",
       "      <td>25</td>\n",
       "      <td>35</td>\n",
       "      <td>1.000000</td>\n",
       "      <td>50000</td>\n",
       "      <td>271</td>\n",
       "      <td>Live Games</td>\n",
       "      <td>2</td>\n",
       "      <td>games/live games</td>\n",
       "      <td>7.987651e+08</td>\n",
       "      <td>3525453</td>\n",
       "      <td>3525453</td>\n",
       "      <td>https://www.kickstarter.com/projects/walkthewe...</td>\n",
       "      <td>games</td>\n",
       "      <td>49909.0</td>\n",
       "      <td>1996.360000</td>\n",
       "      <td>2.600000</td>\n",
       "      <td>0.001302</td>\n",
       "      <td>failed</td>\n",
       "    </tr>\n",
       "  </tbody>\n",
       "</table>\n",
       "</div>"
      ],
      "text/plain": [
       "      backers_count                                              blurb  \\\n",
       "1796            107  An artistic professional pack of playing cards...   \n",
       "2575            171  Make it rain pancakes in FAT STACKS. \\nCreate ...   \n",
       "2594            133  Endless playability, stunning artwork and fant...   \n",
       "2665            187  In 'Coral', use dice to make shapes in 3D! In ...   \n",
       "2668              6  Online 3D Stores for businesses that blur 3D G...   \n",
       "\n",
       "      converted_pledged_amount country     goal          id  \\\n",
       "1796                    5125.0      CA   8000.0   269726791   \n",
       "2575                    6587.0      US  10000.0  1697621882   \n",
       "2594                    4856.0      US  10000.0  2046938895   \n",
       "2665                    7420.0      GB   6500.0  1642293087   \n",
       "2668                      91.0      US  50000.0   932587626   \n",
       "\n",
       "                                                   name  pledged  \\\n",
       "1796   Emanations Playing Cards | A Study of Real Magic  6770.29   \n",
       "2575  FAT STACKS: The Pancake Stacking Strategy Card...  6587.00   \n",
       "2594       Royal Heroz - Fantasy Strategy Playing Cards  4856.00   \n",
       "2665  Coral Islands : 2 interactive dice-stacking ga...  5772.00   \n",
       "2668         3D Shopping with WalkTheWeb 3D Technology!    91.00   \n",
       "\n",
       "                                                   slug  staff_pick state  \\\n",
       "1796     emanations-playing-cards-a-study-of-real-magic       False  live   \n",
       "2575                                         fat-stacks       False  live   \n",
       "2594         royal-heroz-fantasy-strategy-playing-cards       False  live   \n",
       "2665  coral-islands-2-interactive-dice-stacking-game...       False  live   \n",
       "2668  3d-shopping-with-walktheweb-franchising-3d-web...       False  live   \n",
       "\n",
       "      state_changed_at  static_usd_rate  usd_pledged        date_created  \\\n",
       "1796        1549665049         0.755093  5112.199264 2019-01-12 02:34:21   \n",
       "2575        1546614890         1.000000  6587.000000 2018-12-22 23:03:04   \n",
       "2594        1543496274         1.000000  4856.000000 2018-11-06 04:12:47   \n",
       "2665        1547640130         1.289925  7445.445830 2018-11-21 13:04:17   \n",
       "2668        1544716132         1.000000    91.000000 2018-11-29 16:30:36   \n",
       "\n",
       "           deadline_date       launched_date  date_state_changed  \\\n",
       "1796 2019-03-01 04:55:00 2019-02-08 22:30:48 2019-02-08 22:30:49   \n",
       "2575 2019-02-03 15:14:49 2019-01-04 15:14:49 2019-01-04 15:14:50   \n",
       "2594 2019-01-28 12:57:53 2018-11-29 12:57:53 2018-11-29 12:57:54   \n",
       "2665 2019-02-05 22:30:00 2019-01-16 12:02:09 2019-01-16 12:02:10   \n",
       "2668 2019-02-11 15:48:51 2018-12-13 15:48:51 2018-12-13 15:48:52   \n",
       "\n",
       "      time_to_launch  day_limit current_date  days_left  days_in_field  \\\n",
       "1796              27         20   2019-02-14         15              6   \n",
       "2575              12         30   2019-01-17         17             13   \n",
       "2594              23         60   2019-01-17         11             49   \n",
       "2665              55         20   2019-01-17         19              1   \n",
       "2668              13         60   2019-01-17         25             35   \n",
       "\n",
       "      manual_usd_rate  converted_goal  category_id   category_name  \\\n",
       "1796         0.757016            6041          273   Playing Cards   \n",
       "2575         1.000000           10000           34  Tabletop Games   \n",
       "2594         1.000000           10000          273   Playing Cards   \n",
       "2665         1.285516            8385           34  Tabletop Games   \n",
       "2668         1.000000           50000          271      Live Games   \n",
       "\n",
       "      category_position         category_slug    creator_id  profile_id  \\\n",
       "1796                  4   games/playing cards  1.972596e+09     3551993   \n",
       "2575                  6  games/tabletop games  1.790178e+08     3540073   \n",
       "2594                  4   games/playing cards  1.539175e+09     3508195   \n",
       "2665                  6  games/tabletop games  1.529264e+09     3519666   \n",
       "2668                  2      games/live games  7.987651e+08     3525453   \n",
       "\n",
       "      profile_project_id                                       urls_project  \\\n",
       "1796             3551993  https://www.kickstarter.com/projects/mahdigilb...   \n",
       "2575             3540073  https://www.kickstarter.com/projects/candycode...   \n",
       "2594             3508195  https://www.kickstarter.com/projects/153917502...   \n",
       "2665             3519666  https://www.kickstarter.com/projects/alleycatg...   \n",
       "2668             3525453  https://www.kickstarter.com/projects/walkthewe...   \n",
       "\n",
       "     category_main  remaining_money_needed  money_needed_by_day  \\\n",
       "1796         games                   916.0            61.066667   \n",
       "2575         games                  3413.0           200.764706   \n",
       "2594         games                  5144.0           467.636364   \n",
       "2665         games                   965.0            50.789474   \n",
       "2668         games                 49909.0          1996.360000   \n",
       "\n",
       "      money_gained_per_day  current_by_remaining_rate final_state  \n",
       "1796            854.166667                  13.987445  successful  \n",
       "2575            506.692308                   2.523812  successful  \n",
       "2594             99.102041                   0.211921  successful  \n",
       "2665           7420.000000                 146.093264  successful  \n",
       "2668              2.600000                   0.001302      failed  "
      ]
     },
     "execution_count": 30,
     "metadata": {},
     "output_type": "execute_result"
    }
   ],
   "source": [
    "df_games.head()"
   ]
  },
  {
   "cell_type": "code",
   "execution_count": 11,
   "metadata": {},
   "outputs": [
    {
     "data": {
      "text/plain": [
       "Tabletop Games     1559\n",
       "Video Games        1551\n",
       "Playing Cards      1190\n",
       "Mobile Games        840\n",
       "Live Games          475\n",
       "Gaming Hardware     159\n",
       "Puzzles              83\n",
       "Games                45\n",
       "Name: category_name, dtype: int64"
      ]
     },
     "execution_count": 11,
     "metadata": {},
     "output_type": "execute_result"
    }
   ],
   "source": [
    "df_games['category_name'].value_counts()"
   ]
  },
  {
   "cell_type": "code",
   "execution_count": 25,
   "metadata": {},
   "outputs": [
    {
     "data": {
      "text/plain": [
       "failed        2950\n",
       "successful    2722\n",
       "canceled       221\n",
       "suspended        9\n",
       "Name: final_state, dtype: int64"
      ]
     },
     "execution_count": 25,
     "metadata": {},
     "output_type": "execute_result"
    }
   ],
   "source": [
    "df_games['final_state'].value_counts()"
   ]
  },
  {
   "cell_type": "code",
   "execution_count": 26,
   "metadata": {},
   "outputs": [],
   "source": [
    "df_games_text = df_games[['final_state', 'id', 'name', 'blurb', 'category_name']].copy()"
   ]
  },
  {
   "cell_type": "code",
   "execution_count": 27,
   "metadata": {},
   "outputs": [
    {
     "data": {
      "text/html": [
       "<div>\n",
       "<style scoped>\n",
       "    .dataframe tbody tr th:only-of-type {\n",
       "        vertical-align: middle;\n",
       "    }\n",
       "\n",
       "    .dataframe tbody tr th {\n",
       "        vertical-align: top;\n",
       "    }\n",
       "\n",
       "    .dataframe thead th {\n",
       "        text-align: right;\n",
       "    }\n",
       "</style>\n",
       "<table border=\"1\" class=\"dataframe\">\n",
       "  <thead>\n",
       "    <tr style=\"text-align: right;\">\n",
       "      <th></th>\n",
       "      <th>final_state</th>\n",
       "      <th>id</th>\n",
       "      <th>name</th>\n",
       "      <th>blurb</th>\n",
       "      <th>category_name</th>\n",
       "    </tr>\n",
       "  </thead>\n",
       "  <tbody>\n",
       "    <tr>\n",
       "      <th>1796</th>\n",
       "      <td>successful</td>\n",
       "      <td>269726791</td>\n",
       "      <td>Emanations Playing Cards | A Study of Real Magic</td>\n",
       "      <td>An artistic professional pack of playing cards...</td>\n",
       "      <td>Playing Cards</td>\n",
       "    </tr>\n",
       "    <tr>\n",
       "      <th>2575</th>\n",
       "      <td>successful</td>\n",
       "      <td>1697621882</td>\n",
       "      <td>FAT STACKS: The Pancake Stacking Strategy Card...</td>\n",
       "      <td>Make it rain pancakes in FAT STACKS. \\nCreate ...</td>\n",
       "      <td>Tabletop Games</td>\n",
       "    </tr>\n",
       "    <tr>\n",
       "      <th>2594</th>\n",
       "      <td>successful</td>\n",
       "      <td>2046938895</td>\n",
       "      <td>Royal Heroz - Fantasy Strategy Playing Cards</td>\n",
       "      <td>Endless playability, stunning artwork and fant...</td>\n",
       "      <td>Playing Cards</td>\n",
       "    </tr>\n",
       "    <tr>\n",
       "      <th>2665</th>\n",
       "      <td>successful</td>\n",
       "      <td>1642293087</td>\n",
       "      <td>Coral Islands : 2 interactive dice-stacking ga...</td>\n",
       "      <td>In 'Coral', use dice to make shapes in 3D! In ...</td>\n",
       "      <td>Tabletop Games</td>\n",
       "    </tr>\n",
       "    <tr>\n",
       "      <th>2668</th>\n",
       "      <td>failed</td>\n",
       "      <td>932587626</td>\n",
       "      <td>3D Shopping with WalkTheWeb 3D Technology!</td>\n",
       "      <td>Online 3D Stores for businesses that blur 3D G...</td>\n",
       "      <td>Live Games</td>\n",
       "    </tr>\n",
       "  </tbody>\n",
       "</table>\n",
       "</div>"
      ],
      "text/plain": [
       "     final_state          id  \\\n",
       "1796  successful   269726791   \n",
       "2575  successful  1697621882   \n",
       "2594  successful  2046938895   \n",
       "2665  successful  1642293087   \n",
       "2668      failed   932587626   \n",
       "\n",
       "                                                   name  \\\n",
       "1796   Emanations Playing Cards | A Study of Real Magic   \n",
       "2575  FAT STACKS: The Pancake Stacking Strategy Card...   \n",
       "2594       Royal Heroz - Fantasy Strategy Playing Cards   \n",
       "2665  Coral Islands : 2 interactive dice-stacking ga...   \n",
       "2668         3D Shopping with WalkTheWeb 3D Technology!   \n",
       "\n",
       "                                                  blurb   category_name  \n",
       "1796  An artistic professional pack of playing cards...   Playing Cards  \n",
       "2575  Make it rain pancakes in FAT STACKS. \\nCreate ...  Tabletop Games  \n",
       "2594  Endless playability, stunning artwork and fant...   Playing Cards  \n",
       "2665  In 'Coral', use dice to make shapes in 3D! In ...  Tabletop Games  \n",
       "2668  Online 3D Stores for businesses that blur 3D G...      Live Games  "
      ]
     },
     "execution_count": 27,
     "metadata": {},
     "output_type": "execute_result"
    }
   ],
   "source": [
    "df_games_text.head()"
   ]
  },
  {
   "cell_type": "code",
   "execution_count": 29,
   "metadata": {},
   "outputs": [],
   "source": [
    "with open('/Users/robertpagano/metis_data/project_4/text_dataframes/games_text_2016_2019.pickle', 'wb') as to_write:\n",
    "    pickle.dump(df_games_text, to_write)"
   ]
  },
  {
   "cell_type": "code",
   "execution_count": 12,
   "metadata": {},
   "outputs": [],
   "source": [
    "df_design = df[df['category_main'] == 'design']"
   ]
  },
  {
   "cell_type": "code",
   "execution_count": 13,
   "metadata": {},
   "outputs": [
    {
     "data": {
      "text/plain": [
       "(3343, 39)"
      ]
     },
     "execution_count": 13,
     "metadata": {},
     "output_type": "execute_result"
    }
   ],
   "source": [
    "df_design.shape"
   ]
  },
  {
   "cell_type": "code",
   "execution_count": 14,
   "metadata": {},
   "outputs": [
    {
     "data": {
      "text/plain": [
       "Product Design        2112\n",
       "Graphic Design         511\n",
       "Architecture           313\n",
       "Interactive Design     164\n",
       "Civic Design           115\n",
       "Design                  80\n",
       "Typography              48\n",
       "Name: category_name, dtype: int64"
      ]
     },
     "execution_count": 14,
     "metadata": {},
     "output_type": "execute_result"
    }
   ],
   "source": [
    "df_design['category_name'].value_counts()"
   ]
  },
  {
   "cell_type": "code",
   "execution_count": 24,
   "metadata": {},
   "outputs": [
    {
     "data": {
      "text/plain": [
       "successful    2431\n",
       "failed         815\n",
       "canceled        94\n",
       "suspended        3\n",
       "Name: final_state, dtype: int64"
      ]
     },
     "execution_count": 24,
     "metadata": {},
     "output_type": "execute_result"
    }
   ],
   "source": [
    "df_design['final_state'].value_counts()"
   ]
  },
  {
   "cell_type": "code",
   "execution_count": 20,
   "metadata": {},
   "outputs": [
    {
     "data": {
      "text/plain": [
       "(10314, 39)"
      ]
     },
     "execution_count": 20,
     "metadata": {},
     "output_type": "execute_result"
    }
   ],
   "source": [
    "df_tech.shape"
   ]
  },
  {
   "cell_type": "markdown",
   "metadata": {},
   "source": [
    "Below - I am going to focus on technology projects only, so roughly n=10000\n",
    "\n",
    "I am going to create a dataframe with just id, name, blurb, category name, and final state\n",
    "\n",
    "UPDATE - the classes are extremely unbalanced, going to switch to games which has class balance even though 4k fewer observations"
   ]
  },
  {
   "cell_type": "code",
   "execution_count": 17,
   "metadata": {},
   "outputs": [],
   "source": [
    "df_tech_text = df_tech[['final_state', 'id', 'name', 'blurb', 'category_name']].copy()"
   ]
  },
  {
   "cell_type": "code",
   "execution_count": 22,
   "metadata": {},
   "outputs": [
    {
     "data": {
      "text/html": [
       "<div>\n",
       "<style scoped>\n",
       "    .dataframe tbody tr th:only-of-type {\n",
       "        vertical-align: middle;\n",
       "    }\n",
       "\n",
       "    .dataframe tbody tr th {\n",
       "        vertical-align: top;\n",
       "    }\n",
       "\n",
       "    .dataframe thead th {\n",
       "        text-align: right;\n",
       "    }\n",
       "</style>\n",
       "<table border=\"1\" class=\"dataframe\">\n",
       "  <thead>\n",
       "    <tr style=\"text-align: right;\">\n",
       "      <th></th>\n",
       "      <th>final_state</th>\n",
       "      <th>id</th>\n",
       "      <th>name</th>\n",
       "      <th>blurb</th>\n",
       "      <th>category_name</th>\n",
       "    </tr>\n",
       "  </thead>\n",
       "  <tbody>\n",
       "    <tr>\n",
       "      <th>2634</th>\n",
       "      <td>failed</td>\n",
       "      <td>1357810203</td>\n",
       "      <td>LPReader - Reads Printed Text Out Loud!</td>\n",
       "      <td>Battery operated, mobile device to read, out l...</td>\n",
       "      <td>Gadgets</td>\n",
       "    </tr>\n",
       "    <tr>\n",
       "      <th>2683</th>\n",
       "      <td>failed</td>\n",
       "      <td>443520922</td>\n",
       "      <td>SHARES - The one and only finance app for shar...</td>\n",
       "      <td>My vision is to create the perfect app for eve...</td>\n",
       "      <td>Software</td>\n",
       "    </tr>\n",
       "    <tr>\n",
       "      <th>2684</th>\n",
       "      <td>canceled</td>\n",
       "      <td>1571233665</td>\n",
       "      <td>Atalanta Biometric Wearable for Swimmers, Runn...</td>\n",
       "      <td>The first high-end multi-sport wearable device...</td>\n",
       "      <td>Wearables</td>\n",
       "    </tr>\n",
       "    <tr>\n",
       "      <th>2685</th>\n",
       "      <td>failed</td>\n",
       "      <td>1915191124</td>\n",
       "      <td>BOT:BIT, more than just a robot!</td>\n",
       "      <td>Bot:Bit, world’s first STEAM robot kit powered...</td>\n",
       "      <td>Robots</td>\n",
       "    </tr>\n",
       "    <tr>\n",
       "      <th>2706</th>\n",
       "      <td>failed</td>\n",
       "      <td>471932569</td>\n",
       "      <td>headsApp: Save time and money. Gain piece of m...</td>\n",
       "      <td>With headsApp, you know what's happening every...</td>\n",
       "      <td>Apps</td>\n",
       "    </tr>\n",
       "  </tbody>\n",
       "</table>\n",
       "</div>"
      ],
      "text/plain": [
       "     final_state          id  \\\n",
       "2634      failed  1357810203   \n",
       "2683      failed   443520922   \n",
       "2684    canceled  1571233665   \n",
       "2685      failed  1915191124   \n",
       "2706      failed   471932569   \n",
       "\n",
       "                                                   name  \\\n",
       "2634            LPReader - Reads Printed Text Out Loud!   \n",
       "2683  SHARES - The one and only finance app for shar...   \n",
       "2684  Atalanta Biometric Wearable for Swimmers, Runn...   \n",
       "2685                   BOT:BIT, more than just a robot!   \n",
       "2706  headsApp: Save time and money. Gain piece of m...   \n",
       "\n",
       "                                                  blurb category_name  \n",
       "2634  Battery operated, mobile device to read, out l...       Gadgets  \n",
       "2683  My vision is to create the perfect app for eve...      Software  \n",
       "2684  The first high-end multi-sport wearable device...     Wearables  \n",
       "2685  Bot:Bit, world’s first STEAM robot kit powered...        Robots  \n",
       "2706  With headsApp, you know what's happening every...          Apps  "
      ]
     },
     "execution_count": 22,
     "metadata": {},
     "output_type": "execute_result"
    }
   ],
   "source": [
    "df_tech_text.head()"
   ]
  },
  {
   "cell_type": "code",
   "execution_count": 23,
   "metadata": {},
   "outputs": [
    {
     "data": {
      "text/plain": [
       "failed        8435\n",
       "successful    1309\n",
       "canceled       544\n",
       "suspended       26\n",
       "Name: final_state, dtype: int64"
      ]
     },
     "execution_count": 23,
     "metadata": {},
     "output_type": "execute_result"
    }
   ],
   "source": [
    "df_tech_text['final_state'].value_counts()"
   ]
  },
  {
   "cell_type": "code",
   "execution_count": null,
   "metadata": {},
   "outputs": [],
   "source": []
  }
 ],
 "metadata": {
  "kernelspec": {
   "display_name": "Python 3",
   "language": "python",
   "name": "python3"
  },
  "language_info": {
   "codemirror_mode": {
    "name": "ipython",
    "version": 3
   },
   "file_extension": ".py",
   "mimetype": "text/x-python",
   "name": "python",
   "nbconvert_exporter": "python",
   "pygments_lexer": "ipython3",
   "version": "3.6.7"
  }
 },
 "nbformat": 4,
 "nbformat_minor": 2
}
