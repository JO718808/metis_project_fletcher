{
 "cells": [
  {
   "cell_type": "code",
   "execution_count": 1,
   "metadata": {},
   "outputs": [],
   "source": [
    "import pandas as pd\n",
    "import numpy as np\n",
    "import glob, os\n",
    "import datetime\n",
    "import json\n",
    "\n",
    "import pickle\n",
    "\n",
    "pd.set_option('display.max_columns', None)  \n",
    "# pd.set_option('display.max_colwidth', 125)  # or 199"
   ]
  },
  {
   "cell_type": "code",
   "execution_count": 2,
   "metadata": {},
   "outputs": [],
   "source": [
    "with open('/Users/robertpagano/metis_data/project_4/final/all_live_final_appended_2016_2019.pickle', 'rb') as f:\n",
    "    df = pickle.load(f)"
   ]
  },
  {
   "cell_type": "code",
   "execution_count": 3,
   "metadata": {},
   "outputs": [
    {
     "data": {
      "text/plain": [
       "technology      10314\n",
       "film & video     8745\n",
       "music            7020\n",
       "fashion          6990\n",
       "publishing       6688\n",
       "games            5902\n",
       "food             5621\n",
       "art              5198\n",
       "design           3343\n",
       "comics           3008\n",
       "photography      1824\n",
       "crafts           1806\n",
       "theater          1659\n",
       "journalism       1289\n",
       "dance             646\n",
       "Name: category_main, dtype: int64"
      ]
     },
     "execution_count": 3,
     "metadata": {},
     "output_type": "execute_result"
    }
   ],
   "source": [
    "df['category_main'].value_counts()"
   ]
  },
  {
   "cell_type": "code",
   "execution_count": 4,
   "metadata": {},
   "outputs": [
    {
     "data": {
      "text/plain": [
       "Apps                3205\n",
       "Apparel             3001\n",
       "Product Design      2112\n",
       "Web                 1989\n",
       "Accessories         1963\n",
       "Tabletop Games      1559\n",
       "Video Games         1551\n",
       "Comic Books         1327\n",
       "Gadgets             1326\n",
       "Children's Books    1286\n",
       "Restaurants         1249\n",
       "Playing Cards       1190\n",
       "Drinks              1185\n",
       "Comedy              1102\n",
       "Illustration        1099\n",
       "Drama               1040\n",
       "Nonfiction          1022\n",
       "Graphic Novels      1010\n",
       "Software             995\n",
       "Fiction              959\n",
       "Hip-Hop              951\n",
       "Documentary          915\n",
       "Hardware             912\n",
       "Webseries            876\n",
       "Mobile Games         840\n",
       "Food Trucks          738\n",
       "Art Books            735\n",
       "Country & Folk       709\n",
       "Photobooks           701\n",
       "Painting             699\n",
       "                    ... \n",
       "Movie Theaters        90\n",
       "Puzzles               83\n",
       "Latin                 82\n",
       "Translations          81\n",
       "Theater               80\n",
       "Design                80\n",
       "Animals               76\n",
       "Video Art             74\n",
       "Pet Fashion           73\n",
       "Photo                 70\n",
       "Journalism            66\n",
       "Fashion               65\n",
       "Workshops             62\n",
       "Pottery               59\n",
       "Knitting              57\n",
       "Crochet               56\n",
       "Literary Spaces       54\n",
       "Typography            48\n",
       "Embroidery            48\n",
       "Games                 45\n",
       "Glass                 43\n",
       "Photography           40\n",
       "Weaving               39\n",
       "Dance                 31\n",
       "Bacon                 29\n",
       "Residencies           28\n",
       "Quilts                25\n",
       "Letterpress           21\n",
       "Chiptune              11\n",
       "Taxidermy              2\n",
       "Name: category_name, Length: 159, dtype: int64"
      ]
     },
     "execution_count": 4,
     "metadata": {},
     "output_type": "execute_result"
    }
   ],
   "source": [
    "df['category_name'].value_counts()"
   ]
  },
  {
   "cell_type": "code",
   "execution_count": 5,
   "metadata": {},
   "outputs": [],
   "source": [
    "df_tech = df[df['category_main'] == 'technology']"
   ]
  },
  {
   "cell_type": "code",
   "execution_count": 6,
   "metadata": {},
   "outputs": [
    {
     "data": {
      "text/plain": [
       "(10314, 39)"
      ]
     },
     "execution_count": 6,
     "metadata": {},
     "output_type": "execute_result"
    }
   ],
   "source": [
    "df_tech.shape"
   ]
  },
  {
   "cell_type": "code",
   "execution_count": 7,
   "metadata": {},
   "outputs": [
    {
     "data": {
      "text/plain": [
       "Apps                 3205\n",
       "Web                  1459\n",
       "Gadgets              1326\n",
       "Software              995\n",
       "Hardware              912\n",
       "Wearables             594\n",
       "DIY Electronics       342\n",
       "Sound                 317\n",
       "Robots                218\n",
       "3D Printing           214\n",
       "Camera Equipment      164\n",
       "Flight                138\n",
       "Space Exploration     122\n",
       "Fabrication Tools     114\n",
       "Makerspaces           102\n",
       "Technology             92\n",
       "Name: category_name, dtype: int64"
      ]
     },
     "execution_count": 7,
     "metadata": {},
     "output_type": "execute_result"
    }
   ],
   "source": [
    "df_tech['category_name'].value_counts()"
   ]
  },
  {
   "cell_type": "code",
   "execution_count": 9,
   "metadata": {},
   "outputs": [],
   "source": [
    "df_games = df[df['category_main'] == 'games']"
   ]
  },
  {
   "cell_type": "code",
   "execution_count": 10,
   "metadata": {},
   "outputs": [
    {
     "data": {
      "text/plain": [
       "(5902, 39)"
      ]
     },
     "execution_count": 10,
     "metadata": {},
     "output_type": "execute_result"
    }
   ],
   "source": [
    "df_games.shape"
   ]
  },
  {
   "cell_type": "code",
   "execution_count": 11,
   "metadata": {},
   "outputs": [
    {
     "data": {
      "text/plain": [
       "Tabletop Games     1559\n",
       "Video Games        1551\n",
       "Playing Cards      1190\n",
       "Mobile Games        840\n",
       "Live Games          475\n",
       "Gaming Hardware     159\n",
       "Puzzles              83\n",
       "Games                45\n",
       "Name: category_name, dtype: int64"
      ]
     },
     "execution_count": 11,
     "metadata": {},
     "output_type": "execute_result"
    }
   ],
   "source": [
    "df_games['category_name'].value_counts()"
   ]
  },
  {
   "cell_type": "code",
   "execution_count": 25,
   "metadata": {},
   "outputs": [
    {
     "data": {
      "text/plain": [
       "failed        2950\n",
       "successful    2722\n",
       "canceled       221\n",
       "suspended        9\n",
       "Name: final_state, dtype: int64"
      ]
     },
     "execution_count": 25,
     "metadata": {},
     "output_type": "execute_result"
    }
   ],
   "source": [
    "df_games['final_state'].value_counts()"
   ]
  },
  {
   "cell_type": "code",
   "execution_count": 26,
   "metadata": {},
   "outputs": [],
   "source": [
    "df_games_text = df_games[['final_state', 'id', 'name', 'blurb', 'category_name']].copy()"
   ]
  },
  {
   "cell_type": "code",
   "execution_count": 27,
   "metadata": {},
   "outputs": [
    {
     "data": {
      "text/html": [
       "<div>\n",
       "<style scoped>\n",
       "    .dataframe tbody tr th:only-of-type {\n",
       "        vertical-align: middle;\n",
       "    }\n",
       "\n",
       "    .dataframe tbody tr th {\n",
       "        vertical-align: top;\n",
       "    }\n",
       "\n",
       "    .dataframe thead th {\n",
       "        text-align: right;\n",
       "    }\n",
       "</style>\n",
       "<table border=\"1\" class=\"dataframe\">\n",
       "  <thead>\n",
       "    <tr style=\"text-align: right;\">\n",
       "      <th></th>\n",
       "      <th>final_state</th>\n",
       "      <th>id</th>\n",
       "      <th>name</th>\n",
       "      <th>blurb</th>\n",
       "      <th>category_name</th>\n",
       "    </tr>\n",
       "  </thead>\n",
       "  <tbody>\n",
       "    <tr>\n",
       "      <th>1796</th>\n",
       "      <td>successful</td>\n",
       "      <td>269726791</td>\n",
       "      <td>Emanations Playing Cards | A Study of Real Magic</td>\n",
       "      <td>An artistic professional pack of playing cards...</td>\n",
       "      <td>Playing Cards</td>\n",
       "    </tr>\n",
       "    <tr>\n",
       "      <th>2575</th>\n",
       "      <td>successful</td>\n",
       "      <td>1697621882</td>\n",
       "      <td>FAT STACKS: The Pancake Stacking Strategy Card...</td>\n",
       "      <td>Make it rain pancakes in FAT STACKS. \\nCreate ...</td>\n",
       "      <td>Tabletop Games</td>\n",
       "    </tr>\n",
       "    <tr>\n",
       "      <th>2594</th>\n",
       "      <td>successful</td>\n",
       "      <td>2046938895</td>\n",
       "      <td>Royal Heroz - Fantasy Strategy Playing Cards</td>\n",
       "      <td>Endless playability, stunning artwork and fant...</td>\n",
       "      <td>Playing Cards</td>\n",
       "    </tr>\n",
       "    <tr>\n",
       "      <th>2665</th>\n",
       "      <td>successful</td>\n",
       "      <td>1642293087</td>\n",
       "      <td>Coral Islands : 2 interactive dice-stacking ga...</td>\n",
       "      <td>In 'Coral', use dice to make shapes in 3D! In ...</td>\n",
       "      <td>Tabletop Games</td>\n",
       "    </tr>\n",
       "    <tr>\n",
       "      <th>2668</th>\n",
       "      <td>failed</td>\n",
       "      <td>932587626</td>\n",
       "      <td>3D Shopping with WalkTheWeb 3D Technology!</td>\n",
       "      <td>Online 3D Stores for businesses that blur 3D G...</td>\n",
       "      <td>Live Games</td>\n",
       "    </tr>\n",
       "  </tbody>\n",
       "</table>\n",
       "</div>"
      ],
      "text/plain": [
       "     final_state          id  \\\n",
       "1796  successful   269726791   \n",
       "2575  successful  1697621882   \n",
       "2594  successful  2046938895   \n",
       "2665  successful  1642293087   \n",
       "2668      failed   932587626   \n",
       "\n",
       "                                                   name  \\\n",
       "1796   Emanations Playing Cards | A Study of Real Magic   \n",
       "2575  FAT STACKS: The Pancake Stacking Strategy Card...   \n",
       "2594       Royal Heroz - Fantasy Strategy Playing Cards   \n",
       "2665  Coral Islands : 2 interactive dice-stacking ga...   \n",
       "2668         3D Shopping with WalkTheWeb 3D Technology!   \n",
       "\n",
       "                                                  blurb   category_name  \n",
       "1796  An artistic professional pack of playing cards...   Playing Cards  \n",
       "2575  Make it rain pancakes in FAT STACKS. \\nCreate ...  Tabletop Games  \n",
       "2594  Endless playability, stunning artwork and fant...   Playing Cards  \n",
       "2665  In 'Coral', use dice to make shapes in 3D! In ...  Tabletop Games  \n",
       "2668  Online 3D Stores for businesses that blur 3D G...      Live Games  "
      ]
     },
     "execution_count": 27,
     "metadata": {},
     "output_type": "execute_result"
    }
   ],
   "source": [
    "df_games_text.head()"
   ]
  },
  {
   "cell_type": "code",
   "execution_count": 29,
   "metadata": {},
   "outputs": [],
   "source": [
    "with open('/Users/robertpagano/metis_data/project_4/text_dataframes/games_text_2016_2019.pickle', 'wb') as to_write:\n",
    "    pickle.dump(df_games_text, to_write)"
   ]
  },
  {
   "cell_type": "code",
   "execution_count": 12,
   "metadata": {},
   "outputs": [],
   "source": [
    "df_design = df[df['category_main'] == 'design']"
   ]
  },
  {
   "cell_type": "code",
   "execution_count": 13,
   "metadata": {},
   "outputs": [
    {
     "data": {
      "text/plain": [
       "(3343, 39)"
      ]
     },
     "execution_count": 13,
     "metadata": {},
     "output_type": "execute_result"
    }
   ],
   "source": [
    "df_design.shape"
   ]
  },
  {
   "cell_type": "code",
   "execution_count": 14,
   "metadata": {},
   "outputs": [
    {
     "data": {
      "text/plain": [
       "Product Design        2112\n",
       "Graphic Design         511\n",
       "Architecture           313\n",
       "Interactive Design     164\n",
       "Civic Design           115\n",
       "Design                  80\n",
       "Typography              48\n",
       "Name: category_name, dtype: int64"
      ]
     },
     "execution_count": 14,
     "metadata": {},
     "output_type": "execute_result"
    }
   ],
   "source": [
    "df_design['category_name'].value_counts()"
   ]
  },
  {
   "cell_type": "code",
   "execution_count": 24,
   "metadata": {},
   "outputs": [
    {
     "data": {
      "text/plain": [
       "successful    2431\n",
       "failed         815\n",
       "canceled        94\n",
       "suspended        3\n",
       "Name: final_state, dtype: int64"
      ]
     },
     "execution_count": 24,
     "metadata": {},
     "output_type": "execute_result"
    }
   ],
   "source": [
    "df_design['final_state'].value_counts()"
   ]
  },
  {
   "cell_type": "code",
   "execution_count": 20,
   "metadata": {},
   "outputs": [
    {
     "data": {
      "text/plain": [
       "(10314, 39)"
      ]
     },
     "execution_count": 20,
     "metadata": {},
     "output_type": "execute_result"
    }
   ],
   "source": [
    "df_tech.shape"
   ]
  },
  {
   "cell_type": "markdown",
   "metadata": {},
   "source": [
    "Below - I am going to focus on technology projects only, so roughly n=10000\n",
    "\n",
    "I am going to create a dataframe with just id, name, blurb, category name, and final state\n",
    "\n",
    "UPDATE - the classes are extremely unbalanced, going to switch to games which has class balance even though 4k fewer observations"
   ]
  },
  {
   "cell_type": "code",
   "execution_count": 17,
   "metadata": {},
   "outputs": [],
   "source": [
    "df_tech_text = df_tech[['final_state', 'id', 'name', 'blurb', 'category_name']].copy()"
   ]
  },
  {
   "cell_type": "code",
   "execution_count": 22,
   "metadata": {},
   "outputs": [
    {
     "data": {
      "text/html": [
       "<div>\n",
       "<style scoped>\n",
       "    .dataframe tbody tr th:only-of-type {\n",
       "        vertical-align: middle;\n",
       "    }\n",
       "\n",
       "    .dataframe tbody tr th {\n",
       "        vertical-align: top;\n",
       "    }\n",
       "\n",
       "    .dataframe thead th {\n",
       "        text-align: right;\n",
       "    }\n",
       "</style>\n",
       "<table border=\"1\" class=\"dataframe\">\n",
       "  <thead>\n",
       "    <tr style=\"text-align: right;\">\n",
       "      <th></th>\n",
       "      <th>final_state</th>\n",
       "      <th>id</th>\n",
       "      <th>name</th>\n",
       "      <th>blurb</th>\n",
       "      <th>category_name</th>\n",
       "    </tr>\n",
       "  </thead>\n",
       "  <tbody>\n",
       "    <tr>\n",
       "      <th>2634</th>\n",
       "      <td>failed</td>\n",
       "      <td>1357810203</td>\n",
       "      <td>LPReader - Reads Printed Text Out Loud!</td>\n",
       "      <td>Battery operated, mobile device to read, out l...</td>\n",
       "      <td>Gadgets</td>\n",
       "    </tr>\n",
       "    <tr>\n",
       "      <th>2683</th>\n",
       "      <td>failed</td>\n",
       "      <td>443520922</td>\n",
       "      <td>SHARES - The one and only finance app for shar...</td>\n",
       "      <td>My vision is to create the perfect app for eve...</td>\n",
       "      <td>Software</td>\n",
       "    </tr>\n",
       "    <tr>\n",
       "      <th>2684</th>\n",
       "      <td>canceled</td>\n",
       "      <td>1571233665</td>\n",
       "      <td>Atalanta Biometric Wearable for Swimmers, Runn...</td>\n",
       "      <td>The first high-end multi-sport wearable device...</td>\n",
       "      <td>Wearables</td>\n",
       "    </tr>\n",
       "    <tr>\n",
       "      <th>2685</th>\n",
       "      <td>failed</td>\n",
       "      <td>1915191124</td>\n",
       "      <td>BOT:BIT, more than just a robot!</td>\n",
       "      <td>Bot:Bit, world’s first STEAM robot kit powered...</td>\n",
       "      <td>Robots</td>\n",
       "    </tr>\n",
       "    <tr>\n",
       "      <th>2706</th>\n",
       "      <td>failed</td>\n",
       "      <td>471932569</td>\n",
       "      <td>headsApp: Save time and money. Gain piece of m...</td>\n",
       "      <td>With headsApp, you know what's happening every...</td>\n",
       "      <td>Apps</td>\n",
       "    </tr>\n",
       "  </tbody>\n",
       "</table>\n",
       "</div>"
      ],
      "text/plain": [
       "     final_state          id  \\\n",
       "2634      failed  1357810203   \n",
       "2683      failed   443520922   \n",
       "2684    canceled  1571233665   \n",
       "2685      failed  1915191124   \n",
       "2706      failed   471932569   \n",
       "\n",
       "                                                   name  \\\n",
       "2634            LPReader - Reads Printed Text Out Loud!   \n",
       "2683  SHARES - The one and only finance app for shar...   \n",
       "2684  Atalanta Biometric Wearable for Swimmers, Runn...   \n",
       "2685                   BOT:BIT, more than just a robot!   \n",
       "2706  headsApp: Save time and money. Gain piece of m...   \n",
       "\n",
       "                                                  blurb category_name  \n",
       "2634  Battery operated, mobile device to read, out l...       Gadgets  \n",
       "2683  My vision is to create the perfect app for eve...      Software  \n",
       "2684  The first high-end multi-sport wearable device...     Wearables  \n",
       "2685  Bot:Bit, world’s first STEAM robot kit powered...        Robots  \n",
       "2706  With headsApp, you know what's happening every...          Apps  "
      ]
     },
     "execution_count": 22,
     "metadata": {},
     "output_type": "execute_result"
    }
   ],
   "source": [
    "df_tech_text.head()"
   ]
  },
  {
   "cell_type": "code",
   "execution_count": 23,
   "metadata": {},
   "outputs": [
    {
     "data": {
      "text/plain": [
       "failed        8435\n",
       "successful    1309\n",
       "canceled       544\n",
       "suspended       26\n",
       "Name: final_state, dtype: int64"
      ]
     },
     "execution_count": 23,
     "metadata": {},
     "output_type": "execute_result"
    }
   ],
   "source": [
    "df_tech_text['final_state'].value_counts()"
   ]
  },
  {
   "cell_type": "code",
   "execution_count": null,
   "metadata": {},
   "outputs": [],
   "source": []
  }
 ],
 "metadata": {
  "kernelspec": {
   "display_name": "Python 3",
   "language": "python",
   "name": "python3"
  },
  "language_info": {
   "codemirror_mode": {
    "name": "ipython",
    "version": 3
   },
   "file_extension": ".py",
   "mimetype": "text/x-python",
   "name": "python",
   "nbconvert_exporter": "python",
   "pygments_lexer": "ipython3",
   "version": "3.6.7"
  }
 },
 "nbformat": 4,
 "nbformat_minor": 2
}
