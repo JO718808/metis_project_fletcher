{
 "cells": [
  {
   "cell_type": "code",
   "execution_count": 1,
   "metadata": {},
   "outputs": [],
   "source": [
    "import pandas as pd\n",
    "import numpy as np\n",
    "import glob, os\n",
    "import datetime\n",
    "import json\n",
    "\n",
    "import pickle\n",
    "\n",
    "import ks_clean as ks\n",
    "\n",
    "pd.set_option('display.max_columns', None)  \n",
    "# pd.set_option('display.max_colwidth', 125)  # or 199"
   ]
  },
  {
   "cell_type": "code",
   "execution_count": 2,
   "metadata": {},
   "outputs": [],
   "source": [
    "##Creating my paths to my raw data\n",
    "\n",
    "path_feb2019 = r'/Users/robertpagano/Desktop/Kickstarter Data/Kickstarter_2019-02-14'\n",
    "path_jan2019 = r'/Users/robertpagano/Desktop/Kickstarter Data/Kickstarter_2019-01-17'\n",
    "path_dec2018 = r'/Users/robertpagano/Desktop/Kickstarter Data/Kickstarter_2018-12-13'\n",
    "path_nov2018 = r'/Users/robertpagano/Desktop/Kickstarter Data/Kickstarter_2018-11-15'\n",
    "path_oct2018 = r'/Users/robertpagano/Desktop/Kickstarter Data/Kickstarter_2018-10-18'\n",
    "path_sep2018 = r'/Users/robertpagano/Desktop/Kickstarter Data/Kickstarter_2018-09-13'\n",
    "path_aug2018 = r'/Users/robertpagano/Desktop/Kickstarter Data/Kickstarter_2018-08-16'\n",
    "path_jul2018 = r'/Users/robertpagano/Desktop/Kickstarter Data/Kickstarter_2018-07-12'\n",
    "path_jun2018 = r'/Users/robertpagano/Desktop/Kickstarter Data/Kickstarter_2018-06-14'\n",
    "path_may2018 = r'/Users/robertpagano/Desktop/Kickstarter Data/Kickstarter_2018-05-17'\n",
    "path_apr2018 = r'/Users/robertpagano/Desktop/Kickstarter Data/Kickstarter_2018-04-12'\n",
    "path_mar2018 = r'/Users/robertpagano/Desktop/Kickstarter Data/Kickstarter_2018-03-15'\n",
    "path_feb2018 = r'/Users/robertpagano/Desktop/Kickstarter Data/Kickstarter_2018-02-15'\n",
    "path_jan2018 = r'/Users/robertpagano/Desktop/Kickstarter Data/Kickstarter_2018-01-12'"
   ]
  },
  {
   "cell_type": "markdown",
   "metadata": {},
   "source": [
    "Running my cleaning functions on each, one file group at a time:\n",
    "\n",
    "- clean part 1\n",
    "- clean part 2\n",
    "- pickle df\n"
   ]
  },
  {
   "cell_type": "code",
   "execution_count": null,
   "metadata": {},
   "outputs": [],
   "source": [
    "df_feb2019 = ks.clean_final_1(path_feb2019)"
   ]
  },
  {
   "cell_type": "code",
   "execution_count": null,
   "metadata": {},
   "outputs": [],
   "source": [
    "df_feb2019 = ks.clean_final_2(df_feb2019)"
   ]
  },
  {
   "cell_type": "code",
   "execution_count": null,
   "metadata": {},
   "outputs": [],
   "source": [
    "with open('/Users/robertpagano/metis_data/project_4/interim/feb_2019_cleaned.pickle', 'wb') as to_write:\n",
    "    pickle.dump(df_feb2019, to_write)"
   ]
  },
  {
   "cell_type": "code",
   "execution_count": null,
   "metadata": {},
   "outputs": [],
   "source": []
  },
  {
   "cell_type": "code",
   "execution_count": null,
   "metadata": {},
   "outputs": [],
   "source": [
    "df_jan2019 = ks.clean_final_1(path_jan2019)"
   ]
  },
  {
   "cell_type": "code",
   "execution_count": null,
   "metadata": {},
   "outputs": [],
   "source": [
    "df_jan2019 = ks.clean_final_2(df_jan2019)"
   ]
  },
  {
   "cell_type": "code",
   "execution_count": null,
   "metadata": {},
   "outputs": [],
   "source": [
    "with open('/Users/robertpagano/metis_data/project_4/interim/jan_2019_cleaned.pickle', 'wb') as to_write:\n",
    "    pickle.dump(df_jan2019, to_write)"
   ]
  },
  {
   "cell_type": "code",
   "execution_count": null,
   "metadata": {},
   "outputs": [],
   "source": []
  },
  {
   "cell_type": "code",
   "execution_count": null,
   "metadata": {},
   "outputs": [],
   "source": [
    "df_dec2018 = ks.clean_final_1(path_dec2018)"
   ]
  },
  {
   "cell_type": "code",
   "execution_count": null,
   "metadata": {},
   "outputs": [],
   "source": [
    "df_dec2018 = ks.clean_final_2(df_dec2018)"
   ]
  },
  {
   "cell_type": "code",
   "execution_count": null,
   "metadata": {},
   "outputs": [],
   "source": [
    "with open('/Users/robertpagano/metis_data/project_4/interim/dec_2018_cleaned.pickle', 'wb') as to_write:\n",
    "    pickle.dump(df_dec2018, to_write)"
   ]
  },
  {
   "cell_type": "code",
   "execution_count": null,
   "metadata": {},
   "outputs": [],
   "source": []
  },
  {
   "cell_type": "code",
   "execution_count": null,
   "metadata": {},
   "outputs": [],
   "source": [
    "df_nov2018 = ks.clean_final_1(path_nov2018)"
   ]
  },
  {
   "cell_type": "code",
   "execution_count": null,
   "metadata": {},
   "outputs": [],
   "source": [
    "df_nov2018 = ks.clean_final_2(df_nov2018)"
   ]
  },
  {
   "cell_type": "code",
   "execution_count": null,
   "metadata": {},
   "outputs": [],
   "source": [
    "with open('/Users/robertpagano/metis_data/project_4/interim/nov_2018_cleaned.pickle', 'wb') as to_write:\n",
    "    pickle.dump(df_nov2018, to_write)"
   ]
  },
  {
   "cell_type": "code",
   "execution_count": null,
   "metadata": {},
   "outputs": [],
   "source": []
  },
  {
   "cell_type": "code",
   "execution_count": null,
   "metadata": {},
   "outputs": [],
   "source": [
    "df_oct2018 = ks.clean_final_1(path_oct2018)"
   ]
  },
  {
   "cell_type": "code",
   "execution_count": null,
   "metadata": {},
   "outputs": [],
   "source": [
    "df_oct2018 = ks.clean_final_2(df_oct2018)"
   ]
  },
  {
   "cell_type": "code",
   "execution_count": null,
   "metadata": {},
   "outputs": [],
   "source": [
    "with open('/Users/robertpagano/metis_data/project_4/interim/oct_2018_cleaned.pickle', 'wb') as to_write:\n",
    "    pickle.dump(df_oct2018, to_write)"
   ]
  },
  {
   "cell_type": "code",
   "execution_count": null,
   "metadata": {},
   "outputs": [],
   "source": []
  },
  {
   "cell_type": "code",
   "execution_count": null,
   "metadata": {},
   "outputs": [],
   "source": [
    "df_sep2018 = ks.clean_final_1(path_sep2018)"
   ]
  },
  {
   "cell_type": "code",
   "execution_count": null,
   "metadata": {},
   "outputs": [],
   "source": [
    "df_sep2018 = ks.clean_final_2(df_sep2018)"
   ]
  },
  {
   "cell_type": "code",
   "execution_count": null,
   "metadata": {},
   "outputs": [],
   "source": [
    "with open('/Users/robertpagano/metis_data/project_4/interim/sep_2018_cleaned.pickle', 'wb') as to_write:\n",
    "    pickle.dump(df_sep2018, to_write)"
   ]
  },
  {
   "cell_type": "markdown",
   "metadata": {},
   "source": [
    "**RUN BELOW AGAIN. MAY NEED TO DEBUG!**\n",
    "\n",
    "OK try new clean 2 B for the rest"
   ]
  },
  {
   "cell_type": "code",
   "execution_count": null,
   "metadata": {},
   "outputs": [],
   "source": [
    "df_aug2018 = ks.clean_final_1(path_aug2018)"
   ]
  },
  {
   "cell_type": "code",
   "execution_count": null,
   "metadata": {},
   "outputs": [],
   "source": [
    "df_aug2018 = ks.clean_final_2_b(df_aug2018)"
   ]
  },
  {
   "cell_type": "code",
   "execution_count": null,
   "metadata": {},
   "outputs": [],
   "source": [
    "with open('/Users/robertpagano/metis_data/project_4/interim/aug_2018_cleaned.pickle', 'wb') as to_write:\n",
    "    pickle.dump(df_aug2018, to_write)"
   ]
  },
  {
   "cell_type": "code",
   "execution_count": null,
   "metadata": {},
   "outputs": [],
   "source": []
  },
  {
   "cell_type": "code",
   "execution_count": null,
   "metadata": {},
   "outputs": [],
   "source": [
    "df_jul2018 = ks.clean_final_1(path_jul2018)"
   ]
  },
  {
   "cell_type": "code",
   "execution_count": null,
   "metadata": {},
   "outputs": [],
   "source": [
    "df_jul2018 = ks.clean_final_2_b(df_jul2018)"
   ]
  },
  {
   "cell_type": "code",
   "execution_count": null,
   "metadata": {},
   "outputs": [],
   "source": [
    "with open('/Users/robertpagano/metis_data/project_4/interim/jul_2018_cleaned.pickle', 'wb') as to_write:\n",
    "    pickle.dump(df_jul2018, to_write)"
   ]
  },
  {
   "cell_type": "code",
   "execution_count": null,
   "metadata": {},
   "outputs": [],
   "source": []
  },
  {
   "cell_type": "code",
   "execution_count": null,
   "metadata": {},
   "outputs": [],
   "source": [
    "df_jun2018 = ks.clean_final_1(path_jun2018)"
   ]
  },
  {
   "cell_type": "code",
   "execution_count": null,
   "metadata": {},
   "outputs": [],
   "source": [
    "df_jun2018 = ks.clean_final_2_b(df_jun2018)"
   ]
  },
  {
   "cell_type": "code",
   "execution_count": null,
   "metadata": {},
   "outputs": [],
   "source": [
    "with open('/Users/robertpagano/metis_data/project_4/interim/jun_2018_cleaned.pickle', 'wb') as to_write:\n",
    "    pickle.dump(df_jun2018, to_write)"
   ]
  },
  {
   "cell_type": "code",
   "execution_count": null,
   "metadata": {},
   "outputs": [],
   "source": []
  },
  {
   "cell_type": "code",
   "execution_count": null,
   "metadata": {},
   "outputs": [],
   "source": [
    "df_may2018 = ks.clean_final_1(path_may2018)"
   ]
  },
  {
   "cell_type": "code",
   "execution_count": null,
   "metadata": {},
   "outputs": [],
   "source": [
    "df_may2018 = ks.clean_final_2_b(df_may2018)"
   ]
  },
  {
   "cell_type": "code",
   "execution_count": null,
   "metadata": {},
   "outputs": [],
   "source": [
    "with open('/Users/robertpagano/metis_data/project_4/interim/may_2018_cleaned.pickle', 'wb') as to_write:\n",
    "    pickle.dump(df_may2018, to_write)"
   ]
  },
  {
   "cell_type": "code",
   "execution_count": null,
   "metadata": {},
   "outputs": [],
   "source": []
  },
  {
   "cell_type": "code",
   "execution_count": null,
   "metadata": {},
   "outputs": [],
   "source": [
    "df_apr2018 = ks.clean_final_1(path_apr2018)"
   ]
  },
  {
   "cell_type": "code",
   "execution_count": null,
   "metadata": {},
   "outputs": [],
   "source": [
    "df_apr2018 = ks.clean_final_2_b(df_apr2018)"
   ]
  },
  {
   "cell_type": "code",
   "execution_count": null,
   "metadata": {},
   "outputs": [],
   "source": [
    "with open('/Users/robertpagano/metis_data/project_4/interim/apr_2018_cleaned.pickle', 'wb') as to_write:\n",
    "    pickle.dump(df_apr2018, to_write)"
   ]
  },
  {
   "cell_type": "code",
   "execution_count": null,
   "metadata": {},
   "outputs": [],
   "source": []
  },
  {
   "cell_type": "code",
   "execution_count": null,
   "metadata": {},
   "outputs": [],
   "source": [
    "df_mar2018 = ks.clean_final_1(path_mar2018)"
   ]
  },
  {
   "cell_type": "code",
   "execution_count": null,
   "metadata": {},
   "outputs": [],
   "source": [
    "df_mar2018 = ks.clean_final_2_b(df_mar2018)"
   ]
  },
  {
   "cell_type": "code",
   "execution_count": null,
   "metadata": {},
   "outputs": [],
   "source": [
    "with open('/Users/robertpagano/metis_data/project_4/interim/mar_2018_cleaned.pickle', 'wb') as to_write:\n",
    "    pickle.dump(df_mar2018, to_write)"
   ]
  },
  {
   "cell_type": "markdown",
   "metadata": {},
   "source": [
    "Below I'm going to ignore the url parsing because will likely not use that data anyway"
   ]
  },
  {
   "cell_type": "code",
   "execution_count": 3,
   "metadata": {},
   "outputs": [],
   "source": [
    "df_feb2018 = ks.clean_final_1_b(path_feb2018)"
   ]
  },
  {
   "cell_type": "code",
   "execution_count": 5,
   "metadata": {},
   "outputs": [],
   "source": [
    "df_feb2018 = ks.clean_final_2_c(df_feb2018)"
   ]
  },
  {
   "cell_type": "code",
   "execution_count": 6,
   "metadata": {},
   "outputs": [],
   "source": [
    "with open('/Users/robertpagano/metis_data/project_4/interim/feb_2018_cleaned.pickle', 'wb') as to_write:\n",
    "    pickle.dump(df_feb2018, to_write)"
   ]
  },
  {
   "cell_type": "code",
   "execution_count": null,
   "metadata": {},
   "outputs": [],
   "source": []
  },
  {
   "cell_type": "code",
   "execution_count": 7,
   "metadata": {},
   "outputs": [],
   "source": [
    "df_jan2018 = ks.clean_final_1_b(path_jan2018)"
   ]
  },
  {
   "cell_type": "code",
   "execution_count": 8,
   "metadata": {},
   "outputs": [],
   "source": [
    "df_jan2018 = ks.clean_final_2_c(df_jan2018)"
   ]
  },
  {
   "cell_type": "code",
   "execution_count": 9,
   "metadata": {},
   "outputs": [],
   "source": [
    "with open('/Users/robertpagano/metis_data/project_4/interim/jan_2018_cleaned.pickle', 'wb') as to_write:\n",
    "    pickle.dump(df_jan2018, to_write)"
   ]
  },
  {
   "cell_type": "code",
   "execution_count": null,
   "metadata": {},
   "outputs": [],
   "source": []
  },
  {
   "cell_type": "code",
   "execution_count": null,
   "metadata": {},
   "outputs": [],
   "source": []
  },
  {
   "cell_type": "code",
   "execution_count": null,
   "metadata": {},
   "outputs": [],
   "source": []
  }
 ],
 "metadata": {
  "kernelspec": {
   "display_name": "Python 3",
   "language": "python",
   "name": "python3"
  },
  "language_info": {
   "codemirror_mode": {
    "name": "ipython",
    "version": 3
   },
   "file_extension": ".py",
   "mimetype": "text/x-python",
   "name": "python",
   "nbconvert_exporter": "python",
   "pygments_lexer": "ipython3",
   "version": "3.6.7"
  }
 },
 "nbformat": 4,
 "nbformat_minor": 2
}
